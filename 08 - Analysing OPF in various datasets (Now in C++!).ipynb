{
 "cells": [
  {
   "cell_type": "code",
   "execution_count": 1,
   "id": "fb1c7967",
   "metadata": {},
   "outputs": [
    {
     "name": "stderr",
     "output_type": "stream",
     "text": [
      "/mnt/c/Users/AndreFakhoury/Documents/GitHub/time-series-opf/venv/lib/python3.8/site-packages/numpy/core/getlimits.py:500: UserWarning: The value of the smallest subnormal for <class 'numpy.float64'> type is zero.\n",
      "  setattr(self, word, getattr(machar, word).flat[0])\n",
      "/mnt/c/Users/AndreFakhoury/Documents/GitHub/time-series-opf/venv/lib/python3.8/site-packages/numpy/core/getlimits.py:89: UserWarning: The value of the smallest subnormal for <class 'numpy.float64'> type is zero.\n",
      "  return self._float_to_str(self.smallest_subnormal)\n",
      "/mnt/c/Users/AndreFakhoury/Documents/GitHub/time-series-opf/venv/lib/python3.8/site-packages/numpy/core/getlimits.py:500: UserWarning: The value of the smallest subnormal for <class 'numpy.float32'> type is zero.\n",
      "  setattr(self, word, getattr(machar, word).flat[0])\n",
      "/mnt/c/Users/AndreFakhoury/Documents/GitHub/time-series-opf/venv/lib/python3.8/site-packages/numpy/core/getlimits.py:89: UserWarning: The value of the smallest subnormal for <class 'numpy.float32'> type is zero.\n",
      "  return self._float_to_str(self.smallest_subnormal)\n"
     ]
    }
   ],
   "source": [
    "from src.OPFInterface import OPFClassifier\n",
    "from functools import cmp_to_key\n",
    "import pandas as pd\n",
    "import numpy as np\n",
    "from os import listdir\n",
    "from src.utils import error, read_df\n",
    "from tqdm import tqdm\n",
    "# plot\n",
    "import matplotlib.pyplot as plt\n",
    "from sklearn.manifold import MDS"
   ]
  },
  {
   "cell_type": "code",
   "execution_count": 2,
   "id": "09b3aae0",
   "metadata": {},
   "outputs": [],
   "source": [
    "def analyse(df_name):\n",
    "    X, y, X_test, y_test, df_errors = read_df(df_name)\n",
    "    opf = OPFClassifier('euclidean-distance')\n",
    "    opf.fit(X, y)\n",
    "    preds = opf.classify(X_test)\n",
    "    return error(preds, y_test), df_errors[\"ED\"]"
   ]
  },
  {
   "cell_type": "code",
   "execution_count": 3,
   "id": "ca0f59e5",
   "metadata": {},
   "outputs": [],
   "source": [
    "def get_val(a):\n",
    "    datasets_df = pd.read_csv('data/DataSummary.csv')\n",
    "    df_a = datasets_df.loc[datasets_df['Name'] == a].iloc[:,[3,6]]\n",
    "    val_a1 = df_a.values[0][0] if len(df_a.values) else int(1e9)\n",
    "    val_a2 = int(df_a.values[0][1]) if len(df_a.values) and df_a.values[0][1].isnumeric() else int(1e9)\n",
    "    return val_a1 * val_a2\n",
    "\n",
    "df_names = listdir('data/UCRArchive_2018')\n",
    "df_values = [(get_val(df_name), df_name) for df_name in df_names]\n",
    "\n",
    "df_values.sort()\n",
    "df_names = [df_name for val, df_name in df_values if val < 1e6]"
   ]
  },
  {
   "cell_type": "code",
   "execution_count": 4,
   "id": "e6115778",
   "metadata": {
    "scrolled": false
   },
   "outputs": [
    {
     "name": "stderr",
     "output_type": "stream",
     "text": [
      "100%|████████████████████████████████████████████████████████████████████████████████████████████████████████████████████████████████████████████████████████████████████████████| 111/111 [00:53<00:00,  2.08it/s]\n"
     ]
    }
   ],
   "source": [
    "df_best = []\n",
    "for df_name in tqdm(df_names):\n",
    "    opf_error, nn_error = analyse(df_name)\n",
    "    if opf_error < nn_error:\n",
    "        df_best.append((df_name, opf_error, nn_error))"
   ]
  },
  {
   "cell_type": "code",
   "execution_count": 5,
   "id": "208a21d2",
   "metadata": {},
   "outputs": [
    {
     "data": {
      "text/plain": [
       "42"
      ]
     },
     "execution_count": 5,
     "metadata": {},
     "output_type": "execute_result"
    }
   ],
   "source": [
    "df_best.sort(key=lambda x: x[1]-x[2])\n",
    "len(df_best)"
   ]
  },
  {
   "cell_type": "code",
   "execution_count": null,
   "id": "0e38aaac",
   "metadata": {},
   "outputs": [
    {
     "name": "stdout",
     "output_type": "stream",
     "text": [
      "SemgHandSubjectCh2\n",
      "InsectEPGSmallTrain\n",
      "InsectEPGRegularTrain\n",
      "SemgHandMovementCh2\n",
      "PigArtPressure\n",
      "SemgHandGenderCh2\n",
      "MelbournePedestrian\n",
      "GunPointAgeSpan\n",
      "PigCVP\n",
      "GunPointOldVersusYoung\n",
      "PowerCons\n",
      "SmoothSubspace\n",
      "DodgerLoopDay\n",
      "PigAirwayPressure\n",
      "UMD\n",
      "GunPointMaleVersusFemale\n",
      "HouseTwenty\n",
      "Fungi\n",
      "Herring\n",
      "ToeSegmentation1\n",
      "Crop\n"
     ]
    }
   ],
   "source": [
    "fig, axes = plt.subplots((len(df_best)+2)//3, 3, figsize=(25, 60))\n",
    "\n",
    "def scatter_points(df_name, opf_error, nn_error, ax):\n",
    "    X, y, X_test, y_test, df_errors = read_df(df_name)\n",
    "    embedding = MDS(n_components=2)\n",
    "    X_t = embedding.fit_transform(X)\n",
    "\n",
    "    for cur_y in np.unique(y):\n",
    "        ax.scatter(X_t[y==cur_y,0], X_t[y==cur_y,1])\n",
    "    ax.legend(np.unique(y))\n",
    "    ax.title.set_text(\"%s - OPF %.3f vs NN %.3f\" % (df_name, opf_error, nn_error))\n",
    "    \n",
    "for idx, df_info in enumerate(df_best):\n",
    "    df_name, opf_error, nn_error = df_info\n",
    "    print(df_name)\n",
    "    scatter_points(df_name, opf_error, nn_error, axes.flatten()[idx])\n",
    "\n",
    "plt.savefig('scatter.pdf')\n",
    "plt.show()"
   ]
  },
  {
   "cell_type": "code",
   "execution_count": null,
   "id": "007b2574",
   "metadata": {},
   "outputs": [],
   "source": []
  }
 ],
 "metadata": {
  "kernelspec": {
   "display_name": "Python 3 (ipykernel)",
   "language": "python",
   "name": "python3"
  },
  "language_info": {
   "codemirror_mode": {
    "name": "ipython",
    "version": 3
   },
   "file_extension": ".py",
   "mimetype": "text/x-python",
   "name": "python",
   "nbconvert_exporter": "python",
   "pygments_lexer": "ipython3",
   "version": "3.8.10"
  }
 },
 "nbformat": 4,
 "nbformat_minor": 5
}
