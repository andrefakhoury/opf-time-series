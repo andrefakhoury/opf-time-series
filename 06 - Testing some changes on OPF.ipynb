{
 "cells": [
  {
   "cell_type": "code",
   "execution_count": 68,
   "id": "72b26fc2",
   "metadata": {},
   "outputs": [],
   "source": [
    "import pandas as pd\n",
    "import numpy as np\n",
    "import numpy as np\n",
    "from collections import defaultdict\n",
    "from dtaidistance import dtw\n",
    "from src.utils import error\n",
    "from operator import itemgetter\n",
    "import sys\n",
    "import matplotlib.pyplot as plt\n",
    "from time import time\n",
    "import heapq\n",
    "from sklearn.manifold import MDS\n",
    "%matplotlib inline"
   ]
  },
  {
   "cell_type": "markdown",
   "id": "0e048feb",
   "metadata": {},
   "source": [
    "### Changing Kruskral to Prim"
   ]
  },
  {
   "cell_type": "code",
   "execution_count": 60,
   "id": "8dce8109",
   "metadata": {},
   "outputs": [],
   "source": [
    "\"\"\"Optimum Path Forest Classifier\"\"\"\n",
    "class OptimumPathForestClassifier:    \n",
    "    def __init__(self, cost='euclidean-distance'):\n",
    "        available_cost_functions = {\n",
    "            'euclidean-distance': lambda x, y: np.linalg.norm(x - y),\n",
    "            'manhattan-distance': lambda x, y: np.sum(np.abs(x - y)),\n",
    "            'dtw-distance': lambda x, y: dtw.distance_fast(x, y, window=100, use_pruning=True)\n",
    "        }\n",
    "        assert cost in available_cost_functions.keys(),\\\n",
    "            f\"Invalid cost function. Should be one of {available_cost_functions.keys()}\"\n",
    "        self.F = available_cost_functions[cost]\n",
    "    \n",
    "    def find_prototypes(self, adj, Y):\n",
    "        prototypes = []\n",
    "        pq = [[0., 0, -1]]\n",
    "        heapq.heapify(pq)\n",
    "        \n",
    "        cost = np.ones(len(adj)) * np.inf\n",
    "        cost[0] = 0.\n",
    "        while pq:\n",
    "            u_w, u, p = heapq.heappop(pq)\n",
    "            if u_w < cost[u]: continue\n",
    "            cost[u] = 0.\n",
    "                \n",
    "            # Edge p->u is a part of MST.\n",
    "            if p != -1 and Y[u] != Y[p]:\n",
    "                prototypes += [u, v]\n",
    "\n",
    "            for v, w in adj[u]:\n",
    "                if cost[v] > w:\n",
    "                    cost[v] = w\n",
    "                    heapq.heappush(pq, [w, v, u])\n",
    "        return list(np.unique(prototypes))\n",
    "    \n",
    "    def fit(self, X_, Y_):\n",
    "        n = len(Y_)\n",
    "        self.X = np.array(X_, copy=True, dtype=float)\n",
    "        self.label = np.ones(n, dtype=int) * -1\n",
    "        Y = np.array(Y_, copy=True, dtype=int)\n",
    "        \n",
    "        # First of all, builds the graph\n",
    "        adj = defaultdict(list)\n",
    "        for u in range(n):\n",
    "            adj[u] = [(int(v), self.F(self.X[u], self.X[v])) for v in range(n)]\n",
    "            \n",
    "        # Runs MST (Prim) to choose PROTOTYPES (seed vertices)\n",
    "        self.prototypes = self.find_prototypes(adj, Y)\n",
    "        \n",
    "        # Run multisourced dijkstra on prototypes to get the cost\n",
    "        self.cost = np.ones(n) * np.inf\n",
    "        self.cost[self.prototypes] = 0\n",
    "        self.label[self.prototypes] = Y[self.prototypes]\n",
    "        \n",
    "        pq = [[0., u] for u in self.prototypes]\n",
    "        heapq.heapify(pq)\n",
    "        while pq:\n",
    "            u_w, u = heapq.heappop(pq)\n",
    "            if self.cost[u] < u_w:\n",
    "                continue\n",
    "            for v, w in adj[u]:\n",
    "                if self.cost[v] > max(u_w, w):\n",
    "                    self.cost[v] = max(u_w, w)\n",
    "                    self.label[v] = self.label[u]\n",
    "                    heapq.heappush(pq, [self.cost[v], v])\n",
    "        self.ordered_nodes = [(u, self.cost[u]) for u in range(n)]\n",
    "        self.ordered_nodes.sort(key=itemgetter(1))\n",
    "                    \n",
    "    def _classify_one_vertex(self, x):\n",
    "        best_index, best_cost = self.ordered_nodes[0]\n",
    "        best_cost = max(best_cost, self.F(self.X[best_index], x))\n",
    "        best_label = self.label[best_index]\n",
    "        \n",
    "        for i in range(1, len(self.X)):\n",
    "            cur_index, cur_cost = self.ordered_nodes[i]\n",
    "            if cur_cost > best_cost:\n",
    "                break\n",
    "            cur_cost = max(cur_cost, self.F(self.X[cur_index], x))\n",
    "            cur_label = self.label[cur_index]\n",
    "            if cur_cost < best_cost:\n",
    "                best_index, best_cost, best_label = cur_index, cur_cost, cur_label\n",
    "        return best_label\n",
    "    \n",
    "    def classify(self, X_):\n",
    "        X_train = np.array(X_, copy=True)\n",
    "        return [self._classify_one_vertex(x) for x in X_train]"
   ]
  },
  {
   "cell_type": "code",
   "execution_count": 61,
   "id": "584590da",
   "metadata": {},
   "outputs": [
    {
     "name": "stdout",
     "output_type": "stream",
     "text": [
      "WordSynonyms (1.07s):\n",
      ">> OPF error: 0.400\n",
      ">> ED (w=0) error: 0.382\n",
      "\n",
      "ChlorineConcentration (8.38s):\n",
      ">> OPF error: 0.355\n",
      ">> ED (w=0) error: 0.350\n",
      "\n",
      "ShapesAll (5.27s):\n",
      ">> OPF error: 0.262\n",
      ">> ED (w=0) error: 0.248\n",
      "\n",
      "EthanolLevel (13.64s):\n",
      ">> OPF error: 0.726\n",
      ">> ED (w=0) error: 0.726\n",
      "\n",
      "FordA (127.18s):\n",
      ">> OPF error: 0.367\n",
      ">> ED (w=0) error: 0.335\n",
      "\n"
     ]
    }
   ],
   "source": [
    "df_names = ['WordSynonyms', 'ChlorineConcentration', 'ShapesAll', 'EthanolLevel', 'FordA']\n",
    "for df_name in df_names:\n",
    "    df = pd.read_table(f'data/UCRArchive_2018/{df_name}/{df_name}_TRAIN.tsv', header=None)\n",
    "    df_test = pd.read_table(f'data/UCRArchive_2018/{df_name}/{df_name}_TEST.tsv', header=None)\n",
    "    datasets_df = pd.read_csv('data/DataSummary.csv')\n",
    "\n",
    "    X, Y = df.iloc[:, 1:], df.iloc[:, 0]\n",
    "    X_test, Y_test = df_test.iloc[:, 1:], df_test.iloc[:, 0]\n",
    "    dataset_error = datasets_df.loc[datasets_df['Name'] == df_name].iloc[:, 7].values[0]\n",
    "    \n",
    "    start_time = time()\n",
    "    opf = OptimumPathForestClassifier('euclidean-distance')\n",
    "    opf.fit(X, Y)\n",
    "    preds = opf.classify(X_test)\n",
    "    print(\"%s (%.2fs):\" % (df_name, time() - start_time))\n",
    "    print(\">> OPF error: %.3f\" % error(preds, Y_test))\n",
    "    print(\">> ED (w=0) error: %.3f\" % dataset_error)\n",
    "    print()"
   ]
  },
  {
   "cell_type": "code",
   "execution_count": 43,
   "id": "bf661363",
   "metadata": {},
   "outputs": [],
   "source": [
    "def find_prototypes_with_kruskal(adj, Y):\n",
    "    from src.OPFClassifier import DSU\n",
    "    n = len(Y)\n",
    "    \n",
    "    prototypes = []\n",
    "    edges = []\n",
    "    for u in range(n):\n",
    "        edges += [(w, u, v) for v, w in adj[u]]\n",
    "    edges.sort()\n",
    "    dsu = DSU(n)\n",
    "    for w, u, v in edges:\n",
    "        if not dsu.same(u, v):\n",
    "            dsu.merge(u, v)\n",
    "            if Y[u] != Y[v]:\n",
    "                prototypes += [u, v]\n",
    "    return np.unique(prototypes)"
   ]
  },
  {
   "cell_type": "code",
   "execution_count": 73,
   "id": "e384ac62",
   "metadata": {},
   "outputs": [],
   "source": [
    "df_name = 'WordSynonyms'\n",
    "df = pd.read_table(f'data/UCRArchive_2018/{df_name}/{df_name}_TRAIN.tsv', header=None)\n",
    "df_test = pd.read_table(f'data/UCRArchive_2018/{df_name}/{df_name}_TEST.tsv', header=None)\n",
    "datasets_df = pd.read_csv('data/DataSummary.csv')\n",
    "\n",
    "X, Y = df.iloc[:, 1:], df.iloc[:, 0]\n",
    "X_test, Y_test = df_test.iloc[:, 1:], df_test.iloc[:, 0]\n",
    "dataset_error = datasets_df.loc[datasets_df['Name'] == df_name].iloc[:, 7].values[0]"
   ]
  },
  {
   "cell_type": "code",
   "execution_count": 74,
   "id": "6c65986e",
   "metadata": {},
   "outputs": [
    {
     "data": {
      "text/plain": [
       "0.3996865203761755"
      ]
     },
     "execution_count": 74,
     "metadata": {},
     "output_type": "execute_result"
    }
   ],
   "source": [
    "opf = OptimumPathForestClassifier('euclidean-distance')\n",
    "opf.fit(X, Y)\n",
    "preds = opf.classify(X_test)\n",
    "error(preds, Y_test)"
   ]
  },
  {
   "cell_type": "code",
   "execution_count": 75,
   "id": "65a139e8",
   "metadata": {},
   "outputs": [
    {
     "data": {
      "text/plain": [
       "0.3871473354231975"
      ]
     },
     "execution_count": 75,
     "metadata": {},
     "output_type": "execute_result"
    }
   ],
   "source": [
    "opf = OptimumPathForestClassifier('euclidean-distance')\n",
    "opf.find_prototypes = find_prototypes_with_kruskal\n",
    "opf.fit(X, Y)\n",
    "preds = opf.classify(X_test)\n",
    "error(preds, Y_test)"
   ]
  },
  {
   "cell_type": "markdown",
   "id": "75b5b509",
   "metadata": {},
   "source": [
    "### Label Propagation"
   ]
  },
  {
   "cell_type": "code",
   "execution_count": 87,
   "id": "bcc4261a",
   "metadata": {},
   "outputs": [],
   "source": [
    "\"\"\"Optimum Path Forest Classifier\"\"\"\n",
    "class OptimumPathForestClassifier:    \n",
    "    def __init__(self, cost='euclidean-distance'):\n",
    "        available_cost_functions = {\n",
    "            'euclidean-distance': lambda x, y: np.linalg.norm(x - y),\n",
    "            'manhattan-distance': lambda x, y: np.sum(np.abs(x - y)),\n",
    "            'dtw-distance': lambda x, y: dtw.distance_fast(x, y, window=100, use_pruning=True)\n",
    "        }\n",
    "        assert cost in available_cost_functions.keys(),\\\n",
    "            f\"Invalid cost function. Should be one of {available_cost_functions.keys()}\"\n",
    "        self.F = available_cost_functions[cost]\n",
    "    \n",
    "    def find_prototypes(self, adj, Y):\n",
    "        from src.OPFClassifier import DSU\n",
    "        n = len(Y)\n",
    "\n",
    "        prototypes = []\n",
    "        edges = []\n",
    "        for u in range(n):\n",
    "            edges += [(w, u, v) for v, w in adj[u]]\n",
    "        edges.sort()\n",
    "        dsu = DSU(n)\n",
    "        for w, u, v in edges:\n",
    "            if not dsu.same(u, v):\n",
    "                dsu.merge(u, v)\n",
    "                if Y[u] != Y[v]:\n",
    "                    prototypes += [u, v]\n",
    "        return np.unique(prototypes)\n",
    "    \n",
    "    def fit(self, X_, Y_):\n",
    "        n = len(Y_)\n",
    "        self.X = np.array(X_, copy=True, dtype=float)\n",
    "        self.label = np.ones(n, dtype=int) * -1\n",
    "        Y = np.array(Y_, copy=True, dtype=int)\n",
    "        \n",
    "        # First of all, builds the graph\n",
    "        adj = defaultdict(list)\n",
    "        for u in range(n):\n",
    "            adj[u] = [(int(v), self.F(self.X[u], self.X[v])) for v in range(n)]\n",
    "            \n",
    "        # Runs MST (Prim) to choose PROTOTYPES (seed vertices)\n",
    "        self.prototypes = self.find_prototypes(adj, Y)\n",
    "        \n",
    "        # Run multisourced dijkstra on prototypes to get the cost\n",
    "        self.cost = np.ones(n) * np.inf\n",
    "        self.cost[self.prototypes] = 0\n",
    "        self.label[self.prototypes] = Y[self.prototypes]\n",
    "        \n",
    "        # Uses LabelPropagation\n",
    "        from sklearn.semi_supervised import LabelPropagation\n",
    "        self.label_prop_model = LabelPropagation()\n",
    "        self.label_prop_model.fit(X_, self.label)\n",
    "        self.label = self.label_prop_model.predict(X)\n",
    "    \n",
    "    def classify(self, X_):\n",
    "        return self.label_prop_model.predict(X_)"
   ]
  },
  {
   "cell_type": "code",
   "execution_count": 89,
   "id": "843dc248",
   "metadata": {},
   "outputs": [
    {
     "name": "stdout",
     "output_type": "stream",
     "text": [
      "[ 1  1 14  1  1  1  1  1  1  2  1  4  1  1  1  1  1  1  1  1  1 18  1  1\n",
      "  4  1  1  1  1  2  6  1  4  2  1  2  2  6  1 18  1  1  1  1  1  1  1  1\n",
      "  1 22  4  1  1  1  1 12  1  1  1  2  1  4  1  1  1  2  1  1  1  1  1  1\n",
      "  1  1  1  6  1  1  1  2 18  8  1  1  1  1  1  1  1  6  1  1  2  1  2  1\n",
      "  1  1  1  2  1  1  1  1 11  1  1  1  1  1  1  1  1  1  1  1  1 14  1  1\n",
      "  1  1  1  1 14  4  1  1  1  1  1  1  1  2  1  1  1  1  1  1  1  2  1  1\n",
      "  1  6  1 10  1  1  1  1  1  2  1  1  1  1  2  1  1  1 16  1  1  2  4  1\n",
      "  2  1  1  1  1  8  1  1  4  1  1 15  2  1  1  1  1  1  2  1  1  1  1  1\n",
      "  1  1  1  2  1  4  2  1  1  1  1  4  1  1  1  1  1  1  1 16  2  1  4  1\n",
      " 10  1  1  2 10  1  1  1  1  2  1  1  2  1  1  1 16  2  1  1  4  1  1  1\n",
      "  1  2  1  1  4  1  1  1  1  2  1  6 18  4  4  1  1  1  1  1  1  1  1  1\n",
      "  1  4  2  1  2  1  4  1  2  1  1  1  1  1  1  1  1  2  1  2  6  1  6  1\n",
      "  1  1  1  1  1  4  1  1  1  2  1  1  1  1  8  6  1  4  2  1  1  6  1  1\n",
      "  2  2  1  1  1  1  1 11  1  4 16  1  1  1  1  1  2  1  1  4  1  1 10  1\n",
      "  1  1  1  1  1  1  1  1  1  1  1  1  1  1  1 12  1  1  2 11  1 16  1  1\n",
      "  2  1  1  1  1  1  1  1  6  1  1  1  1  1  2 15 16  1  1  1  1  1  1  2\n",
      "  1  1  1  1  4  1  1  1  1  1  1  2  4  1  1  2  1  6  1  1  1  1  1  1\n",
      "  1  1  1  1  1  8  2  1  1  1  1  1  2  1  1  1  2  1  1  1  1  1  1  1\n",
      "  1  2  1  2  1  1  2  1  1  1  1  1  1  1  1  2  4  4  1  1  2  2  1  1\n",
      "  1  1  1  1  1  1  1  1  1  1  1  1  1  4  1  1  1  1  1  4  2  1  2  2\n",
      " 14  1  1  1  1 20  1  1 15  1  1  1  4  1  1  1  1  1  2  1  2  1  1  1\n",
      "  1  1  1  1  1  1  1 12  1  4  1  1  1  1  1  1  1  4  1  2  1  1  4  1\n",
      "  1  1  1  4  1  1  1  1 10 11  1  1  1  4  1  1  1  1  1  1  1  6  1  1\n",
      "  1  1  1  1  1  1  1  4  1  8  4  1  1  1  1  4  4  1  1  1  1  6  1  1\n",
      "  1  1  1  2  1  1  1  1  1  1  1  1  1  1  1  4  1  1  2  1  1  1  1  1\n",
      "  1  2  1  1  2  2  2  1  2  1  1  1  1  1  1  1  1  6  1 11  1  1  1  1\n",
      "  1  1  1  2  4  1  1  1  1  1  6 14  1  1]\n"
     ]
    },
    {
     "name": "stderr",
     "output_type": "stream",
     "text": [
      "/mnt/c/Users/AndreFakhoury/Documents/GitHub/time-series-opf/venv/lib/python3.8/site-packages/sklearn/semi_supervised/_label_propagation.py:222: RuntimeWarning: invalid value encountered in divide\n",
      "  probabilities /= normalizer\n",
      "/mnt/c/Users/AndreFakhoury/Documents/GitHub/time-series-opf/venv/lib/python3.8/site-packages/sklearn/semi_supervised/_label_propagation.py:222: RuntimeWarning: invalid value encountered in divide\n",
      "  probabilities /= normalizer\n"
     ]
    }
   ],
   "source": [
    "df_name = 'WordSynonyms'\n",
    "df = pd.read_table(f'data/UCRArchive_2018/{df_name}/{df_name}_TRAIN.tsv', header=None)\n",
    "df_test = pd.read_table(f'data/UCRArchive_2018/{df_name}/{df_name}_TEST.tsv', header=None)\n",
    "datasets_df = pd.read_csv('data/DataSummary.csv')\n",
    "\n",
    "X, Y = df.iloc[:, 1:], df.iloc[:, 0]\n",
    "X_test, Y_test = df_test.iloc[:, 1:], df_test.iloc[:, 0]\n",
    "dataset_error = datasets_df.loc[datasets_df['Name'] == df_name].iloc[:, 7].values[0]\n",
    "\n",
    "opf = OptimumPathForestClassifier('euclidean-distance')\n",
    "opf.fit(X, Y)\n",
    "preds = opf.classify(X_test)\n",
    "error(preds, Y_test)\n",
    "print(preds)"
   ]
  },
  {
   "cell_type": "code",
   "execution_count": null,
   "id": "0f9aaf3d",
   "metadata": {},
   "outputs": [],
   "source": []
  }
 ],
 "metadata": {
  "kernelspec": {
   "display_name": "Python 3 (ipykernel)",
   "language": "python",
   "name": "python3"
  },
  "language_info": {
   "codemirror_mode": {
    "name": "ipython",
    "version": 3
   },
   "file_extension": ".py",
   "mimetype": "text/x-python",
   "name": "python",
   "nbconvert_exporter": "python",
   "pygments_lexer": "ipython3",
   "version": "3.8.10"
  },
  "vscode": {
   "interpreter": {
    "hash": "83ecd3fc6cc92009657adecd157b6521a55ff669669492e633028c095ba52787"
   }
  }
 },
 "nbformat": 4,
 "nbformat_minor": 5
}
