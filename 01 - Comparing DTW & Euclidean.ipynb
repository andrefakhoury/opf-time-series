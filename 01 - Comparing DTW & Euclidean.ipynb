{
 "cells": [
  {
   "cell_type": "code",
   "execution_count": null,
   "id": "1f44d24e",
   "metadata": {},
   "outputs": [],
   "source": [
    "import pandas as pd\n",
    "import numpy as np\n",
    "\n",
    "df_name = 'Strawberry'\n",
    "\n",
    "df = pd.read_table(f'data/UCRArchive_2018/{df_name}/{df_name}_TRAIN.tsv', header=None)\n",
    "X, Y = df.iloc[:, 1:], df.iloc[:, 0]\n",
    "\n",
    "df_test = pd.read_table(f'data/UCRArchive_2018/{df_name}/{df_name}_TEST.tsv', header=None)\n",
    "X_test, Y_test = df_test.iloc[:, 1:], df_test.iloc[:, 0]\n",
    "\n",
    "print(f\"Train size: {X.shape}\")\n",
    "print(f\"Test size: {X_test.shape}\")"
   ]
  },
  {
   "cell_type": "code",
   "execution_count": null,
   "id": "90adec78",
   "metadata": {},
   "outputs": [],
   "source": [
    "datasets_df = pd.read_csv('data/DataSummary.csv')\n",
    "old_error = datasets_df.loc[datasets_df['Name'] == df_name].iloc[:, 7].values[0]\n",
    "print(f\"ED (w=0) error: {old_error}\")\n",
    "\n",
    "from src.OPFClassifier import OptimumPathForestClassifier\n",
    "from src.utils import error\n",
    "for method in ['euclidean-distance', 'dtw-distance']:\n",
    "    opf = OptimumPathForestClassifier(method)\n",
    "    opf.fit(X, Y)\n",
    "    preds = opf.classify(X_test)\n",
    "    print(f\"OPF {method} error: {error(preds, Y_test)}\")"
   ]
  },
  {
   "cell_type": "code",
   "execution_count": null,
   "id": "5436d70b",
   "metadata": {},
   "outputs": [],
   "source": []
  }
 ],
 "metadata": {
  "kernelspec": {
   "display_name": "Python 3 (ipykernel)",
   "language": "python",
   "name": "python3"
  },
  "language_info": {
   "codemirror_mode": {
    "name": "ipython",
    "version": 3
   },
   "file_extension": ".py",
   "mimetype": "text/x-python",
   "name": "python",
   "nbconvert_exporter": "python",
   "pygments_lexer": "ipython3",
   "version": "3.8.10"
  }
 },
 "nbformat": 4,
 "nbformat_minor": 5
}
