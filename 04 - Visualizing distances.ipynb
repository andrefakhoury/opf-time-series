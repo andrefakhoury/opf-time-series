{
 "cells": [
  {
   "cell_type": "code",
   "execution_count": 3,
   "id": "56b3aec4",
   "metadata": {
    "executionInfo": {
     "elapsed": 1938,
     "status": "ok",
     "timestamp": 1663952633666,
     "user": {
      "displayName": "Andre Luis Mendes Fakhoury",
      "userId": "11987406164407738979"
     },
     "user_tz": 180
    },
    "id": "56b3aec4"
   },
   "outputs": [],
   "source": [
    "import pandas as pd\n",
    "import numpy as np\n",
    "from src.utils import error\n",
    "from src.OPFClassifier import OptimumPathForestClassifier\n",
    "from mpl_toolkits import mplot3d\n",
    "import matplotlib.animation as animation\n",
    "from collections import defaultdict\n",
    "from IPython.display import HTML\n",
    "from IPython.display import Image\n",
    "from sklearn.manifold import MDS\n",
    "from sklearn.decomposition import PCA\n",
    "from sklearn.discriminant_analysis import LinearDiscriminantAnalysis as LDA\n",
    "import seaborn as sns\n",
    "import matplotlib.pyplot as plt\n",
    "import matplotlib.patches as mpatches\n",
    "%matplotlib inline"
   ]
  },
  {
   "cell_type": "code",
   "execution_count": 4,
   "id": "78e1e196",
   "metadata": {
    "executionInfo": {
     "elapsed": 2392,
     "status": "ok",
     "timestamp": 1663952636055,
     "user": {
      "displayName": "Andre Luis Mendes Fakhoury",
      "userId": "11987406164407738979"
     },
     "user_tz": 180
    },
    "id": "78e1e196"
   },
   "outputs": [],
   "source": [
    "df_name = 'ChlorineConcentration'\n",
    "df = pd.read_table(f'data/UCRArchive_2018/{df_name}/{df_name}_TRAIN.tsv', header=None)\n",
    "df_test = pd.read_table(f'data/UCRArchive_2018/{df_name}/{df_name}_TEST.tsv', header=None)\n",
    "\n",
    "X, y = df.iloc[:, 1:], df.iloc[:, 0]\n",
    "X_test, y_test = df_test.iloc[:, 1:], df_test.iloc[:, 0]"
   ]
  },
  {
   "cell_type": "markdown",
   "id": "1fc1a2c0",
   "metadata": {
    "id": "1fc1a2c0"
   },
   "source": [
    "# Data visualization"
   ]
  },
  {
   "cell_type": "markdown",
   "id": "088ebd5f",
   "metadata": {
    "id": "088ebd5f"
   },
   "source": [
    "Before jumping to the OPF, let's take a look at the data and how it is arranged."
   ]
  },
  {
   "cell_type": "code",
   "execution_count": 5,
   "id": "2bdf8e72",
   "metadata": {
    "colab": {
     "base_uri": "https://localhost:8080/",
     "height": 394
    },
    "executionInfo": {
     "elapsed": 430,
     "status": "ok",
     "timestamp": 1663952636480,
     "user": {
      "displayName": "Andre Luis Mendes Fakhoury",
      "userId": "11987406164407738979"
     },
     "user_tz": 180
    },
    "id": "2bdf8e72",
    "outputId": "faac2dc6-201e-4d62-b979-381ad0fe9acb"
   },
   "outputs": [
    {
     "data": {
      "text/html": [
       "\n",
       "  <div id=\"df-f10553ee-fb52-43b4-a555-9feab41a1159\">\n",
       "    <div class=\"colab-df-container\">\n",
       "      <div>\n",
       "<style scoped>\n",
       "    .dataframe tbody tr th:only-of-type {\n",
       "        vertical-align: middle;\n",
       "    }\n",
       "\n",
       "    .dataframe tbody tr th {\n",
       "        vertical-align: top;\n",
       "    }\n",
       "\n",
       "    .dataframe thead th {\n",
       "        text-align: right;\n",
       "    }\n",
       "</style>\n",
       "<table border=\"1\" class=\"dataframe\">\n",
       "  <thead>\n",
       "    <tr style=\"text-align: right;\">\n",
       "      <th></th>\n",
       "      <th>0</th>\n",
       "      <th>1</th>\n",
       "      <th>2</th>\n",
       "      <th>3</th>\n",
       "      <th>4</th>\n",
       "      <th>5</th>\n",
       "      <th>6</th>\n",
       "      <th>7</th>\n",
       "      <th>8</th>\n",
       "      <th>9</th>\n",
       "      <th>...</th>\n",
       "      <th>157</th>\n",
       "      <th>158</th>\n",
       "      <th>159</th>\n",
       "      <th>160</th>\n",
       "      <th>161</th>\n",
       "      <th>162</th>\n",
       "      <th>163</th>\n",
       "      <th>164</th>\n",
       "      <th>165</th>\n",
       "      <th>166</th>\n",
       "    </tr>\n",
       "  </thead>\n",
       "  <tbody>\n",
       "    <tr>\n",
       "      <th>count</th>\n",
       "      <td>467.000000</td>\n",
       "      <td>467.000000</td>\n",
       "      <td>467.000000</td>\n",
       "      <td>467.000000</td>\n",
       "      <td>467.000000</td>\n",
       "      <td>467.000000</td>\n",
       "      <td>467.000000</td>\n",
       "      <td>467.000000</td>\n",
       "      <td>467.000000</td>\n",
       "      <td>467.000000</td>\n",
       "      <td>...</td>\n",
       "      <td>467.000000</td>\n",
       "      <td>467.000000</td>\n",
       "      <td>467.000000</td>\n",
       "      <td>467.000000</td>\n",
       "      <td>467.000000</td>\n",
       "      <td>467.000000</td>\n",
       "      <td>467.000000</td>\n",
       "      <td>467.000000</td>\n",
       "      <td>467.000000</td>\n",
       "      <td>467.000000</td>\n",
       "    </tr>\n",
       "    <tr>\n",
       "      <th>mean</th>\n",
       "      <td>2.316916</td>\n",
       "      <td>2.915130</td>\n",
       "      <td>4.085454</td>\n",
       "      <td>3.559685</td>\n",
       "      <td>3.395815</td>\n",
       "      <td>2.838148</td>\n",
       "      <td>2.705617</td>\n",
       "      <td>2.264160</td>\n",
       "      <td>1.941362</td>\n",
       "      <td>0.797740</td>\n",
       "      <td>...</td>\n",
       "      <td>-0.046208</td>\n",
       "      <td>1.559521</td>\n",
       "      <td>0.742317</td>\n",
       "      <td>0.006121</td>\n",
       "      <td>0.451069</td>\n",
       "      <td>-0.309986</td>\n",
       "      <td>-0.532232</td>\n",
       "      <td>-0.815767</td>\n",
       "      <td>-0.558816</td>\n",
       "      <td>-0.634910</td>\n",
       "    </tr>\n",
       "    <tr>\n",
       "      <th>std</th>\n",
       "      <td>0.840366</td>\n",
       "      <td>1.584699</td>\n",
       "      <td>0.682733</td>\n",
       "      <td>0.485380</td>\n",
       "      <td>0.443252</td>\n",
       "      <td>0.283170</td>\n",
       "      <td>0.237441</td>\n",
       "      <td>0.182618</td>\n",
       "      <td>0.254642</td>\n",
       "      <td>0.919404</td>\n",
       "      <td>...</td>\n",
       "      <td>0.320376</td>\n",
       "      <td>0.435157</td>\n",
       "      <td>0.644322</td>\n",
       "      <td>0.346956</td>\n",
       "      <td>0.539961</td>\n",
       "      <td>0.257308</td>\n",
       "      <td>0.169126</td>\n",
       "      <td>0.149799</td>\n",
       "      <td>0.151696</td>\n",
       "      <td>0.148284</td>\n",
       "    </tr>\n",
       "    <tr>\n",
       "      <th>min</th>\n",
       "      <td>1.000000</td>\n",
       "      <td>-11.839069</td>\n",
       "      <td>0.574465</td>\n",
       "      <td>1.200939</td>\n",
       "      <td>1.281382</td>\n",
       "      <td>1.764394</td>\n",
       "      <td>1.730978</td>\n",
       "      <td>0.144525</td>\n",
       "      <td>0.319718</td>\n",
       "      <td>-1.028549</td>\n",
       "      <td>...</td>\n",
       "      <td>-0.604863</td>\n",
       "      <td>-0.364179</td>\n",
       "      <td>-0.566707</td>\n",
       "      <td>-0.840573</td>\n",
       "      <td>-0.544851</td>\n",
       "      <td>-0.842006</td>\n",
       "      <td>-0.950745</td>\n",
       "      <td>-1.132540</td>\n",
       "      <td>-0.965518</td>\n",
       "      <td>-1.031688</td>\n",
       "    </tr>\n",
       "    <tr>\n",
       "      <th>25%</th>\n",
       "      <td>2.000000</td>\n",
       "      <td>1.509055</td>\n",
       "      <td>3.512858</td>\n",
       "      <td>3.125331</td>\n",
       "      <td>3.002739</td>\n",
       "      <td>2.582323</td>\n",
       "      <td>2.503557</td>\n",
       "      <td>2.177126</td>\n",
       "      <td>1.774703</td>\n",
       "      <td>-0.026347</td>\n",
       "      <td>...</td>\n",
       "      <td>-0.340999</td>\n",
       "      <td>1.238523</td>\n",
       "      <td>0.160448</td>\n",
       "      <td>-0.245559</td>\n",
       "      <td>-0.059041</td>\n",
       "      <td>-0.503452</td>\n",
       "      <td>-0.649488</td>\n",
       "      <td>-0.918146</td>\n",
       "      <td>-0.649681</td>\n",
       "      <td>-0.729269</td>\n",
       "    </tr>\n",
       "    <tr>\n",
       "      <th>50%</th>\n",
       "      <td>3.000000</td>\n",
       "      <td>2.927290</td>\n",
       "      <td>4.002599</td>\n",
       "      <td>3.597416</td>\n",
       "      <td>3.425049</td>\n",
       "      <td>2.888457</td>\n",
       "      <td>2.758399</td>\n",
       "      <td>2.256554</td>\n",
       "      <td>1.921114</td>\n",
       "      <td>1.204745</td>\n",
       "      <td>...</td>\n",
       "      <td>-0.107290</td>\n",
       "      <td>1.533680</td>\n",
       "      <td>0.622688</td>\n",
       "      <td>-0.054602</td>\n",
       "      <td>0.346883</td>\n",
       "      <td>-0.352651</td>\n",
       "      <td>-0.532743</td>\n",
       "      <td>-0.826866</td>\n",
       "      <td>-0.558534</td>\n",
       "      <td>-0.636506</td>\n",
       "    </tr>\n",
       "    <tr>\n",
       "      <th>75%</th>\n",
       "      <td>3.000000</td>\n",
       "      <td>4.113136</td>\n",
       "      <td>4.485402</td>\n",
       "      <td>3.882100</td>\n",
       "      <td>3.695602</td>\n",
       "      <td>3.082023</td>\n",
       "      <td>2.895088</td>\n",
       "      <td>2.346816</td>\n",
       "      <td>2.106971</td>\n",
       "      <td>1.569528</td>\n",
       "      <td>...</td>\n",
       "      <td>0.210556</td>\n",
       "      <td>1.947283</td>\n",
       "      <td>1.289957</td>\n",
       "      <td>0.264004</td>\n",
       "      <td>0.879902</td>\n",
       "      <td>-0.098293</td>\n",
       "      <td>-0.414493</td>\n",
       "      <td>-0.702888</td>\n",
       "      <td>-0.454666</td>\n",
       "      <td>-0.526010</td>\n",
       "    </tr>\n",
       "    <tr>\n",
       "      <th>max</th>\n",
       "      <td>3.000000</td>\n",
       "      <td>7.442324</td>\n",
       "      <td>7.229240</td>\n",
       "      <td>5.514363</td>\n",
       "      <td>5.125725</td>\n",
       "      <td>3.686901</td>\n",
       "      <td>3.870352</td>\n",
       "      <td>2.927940</td>\n",
       "      <td>3.903386</td>\n",
       "      <td>2.102123</td>\n",
       "      <td>...</td>\n",
       "      <td>0.613043</td>\n",
       "      <td>2.255474</td>\n",
       "      <td>1.920397</td>\n",
       "      <td>0.861082</td>\n",
       "      <td>1.461966</td>\n",
       "      <td>0.277556</td>\n",
       "      <td>-0.052985</td>\n",
       "      <td>-0.052981</td>\n",
       "      <td>-0.052981</td>\n",
       "      <td>-0.052981</td>\n",
       "    </tr>\n",
       "  </tbody>\n",
       "</table>\n",
       "<p>8 rows × 167 columns</p>\n",
       "</div>\n",
       "      <button class=\"colab-df-convert\" onclick=\"convertToInteractive('df-f10553ee-fb52-43b4-a555-9feab41a1159')\"\n",
       "              title=\"Convert this dataframe to an interactive table.\"\n",
       "              style=\"display:none;\">\n",
       "        \n",
       "  <svg xmlns=\"http://www.w3.org/2000/svg\" height=\"24px\"viewBox=\"0 0 24 24\"\n",
       "       width=\"24px\">\n",
       "    <path d=\"M0 0h24v24H0V0z\" fill=\"none\"/>\n",
       "    <path d=\"M18.56 5.44l.94 2.06.94-2.06 2.06-.94-2.06-.94-.94-2.06-.94 2.06-2.06.94zm-11 1L8.5 8.5l.94-2.06 2.06-.94-2.06-.94L8.5 2.5l-.94 2.06-2.06.94zm10 10l.94 2.06.94-2.06 2.06-.94-2.06-.94-.94-2.06-.94 2.06-2.06.94z\"/><path d=\"M17.41 7.96l-1.37-1.37c-.4-.4-.92-.59-1.43-.59-.52 0-1.04.2-1.43.59L10.3 9.45l-7.72 7.72c-.78.78-.78 2.05 0 2.83L4 21.41c.39.39.9.59 1.41.59.51 0 1.02-.2 1.41-.59l7.78-7.78 2.81-2.81c.8-.78.8-2.07 0-2.86zM5.41 20L4 18.59l7.72-7.72 1.47 1.35L5.41 20z\"/>\n",
       "  </svg>\n",
       "      </button>\n",
       "      \n",
       "  <style>\n",
       "    .colab-df-container {\n",
       "      display:flex;\n",
       "      flex-wrap:wrap;\n",
       "      gap: 12px;\n",
       "    }\n",
       "\n",
       "    .colab-df-convert {\n",
       "      background-color: #E8F0FE;\n",
       "      border: none;\n",
       "      border-radius: 50%;\n",
       "      cursor: pointer;\n",
       "      display: none;\n",
       "      fill: #1967D2;\n",
       "      height: 32px;\n",
       "      padding: 0 0 0 0;\n",
       "      width: 32px;\n",
       "    }\n",
       "\n",
       "    .colab-df-convert:hover {\n",
       "      background-color: #E2EBFA;\n",
       "      box-shadow: 0px 1px 2px rgba(60, 64, 67, 0.3), 0px 1px 3px 1px rgba(60, 64, 67, 0.15);\n",
       "      fill: #174EA6;\n",
       "    }\n",
       "\n",
       "    [theme=dark] .colab-df-convert {\n",
       "      background-color: #3B4455;\n",
       "      fill: #D2E3FC;\n",
       "    }\n",
       "\n",
       "    [theme=dark] .colab-df-convert:hover {\n",
       "      background-color: #434B5C;\n",
       "      box-shadow: 0px 1px 3px 1px rgba(0, 0, 0, 0.15);\n",
       "      filter: drop-shadow(0px 1px 2px rgba(0, 0, 0, 0.3));\n",
       "      fill: #FFFFFF;\n",
       "    }\n",
       "  </style>\n",
       "\n",
       "      <script>\n",
       "        const buttonEl =\n",
       "          document.querySelector('#df-f10553ee-fb52-43b4-a555-9feab41a1159 button.colab-df-convert');\n",
       "        buttonEl.style.display =\n",
       "          google.colab.kernel.accessAllowed ? 'block' : 'none';\n",
       "\n",
       "        async function convertToInteractive(key) {\n",
       "          const element = document.querySelector('#df-f10553ee-fb52-43b4-a555-9feab41a1159');\n",
       "          const dataTable =\n",
       "            await google.colab.kernel.invokeFunction('convertToInteractive',\n",
       "                                                     [key], {});\n",
       "          if (!dataTable) return;\n",
       "\n",
       "          const docLinkHtml = 'Like what you see? Visit the ' +\n",
       "            '<a target=\"_blank\" href=https://colab.research.google.com/notebooks/data_table.ipynb>data table notebook</a>'\n",
       "            + ' to learn more about interactive tables.';\n",
       "          element.innerHTML = '';\n",
       "          dataTable['output_type'] = 'display_data';\n",
       "          await google.colab.output.renderOutput(dataTable, element);\n",
       "          const docLink = document.createElement('div');\n",
       "          docLink.innerHTML = docLinkHtml;\n",
       "          element.appendChild(docLink);\n",
       "        }\n",
       "      </script>\n",
       "    </div>\n",
       "  </div>\n",
       "  "
      ],
      "text/plain": [
       "              0           1           2           3           4           5    \\\n",
       "count  467.000000  467.000000  467.000000  467.000000  467.000000  467.000000   \n",
       "mean     2.316916    2.915130    4.085454    3.559685    3.395815    2.838148   \n",
       "std      0.840366    1.584699    0.682733    0.485380    0.443252    0.283170   \n",
       "min      1.000000  -11.839069    0.574465    1.200939    1.281382    1.764394   \n",
       "25%      2.000000    1.509055    3.512858    3.125331    3.002739    2.582323   \n",
       "50%      3.000000    2.927290    4.002599    3.597416    3.425049    2.888457   \n",
       "75%      3.000000    4.113136    4.485402    3.882100    3.695602    3.082023   \n",
       "max      3.000000    7.442324    7.229240    5.514363    5.125725    3.686901   \n",
       "\n",
       "              6           7           8           9    ...         157  \\\n",
       "count  467.000000  467.000000  467.000000  467.000000  ...  467.000000   \n",
       "mean     2.705617    2.264160    1.941362    0.797740  ...   -0.046208   \n",
       "std      0.237441    0.182618    0.254642    0.919404  ...    0.320376   \n",
       "min      1.730978    0.144525    0.319718   -1.028549  ...   -0.604863   \n",
       "25%      2.503557    2.177126    1.774703   -0.026347  ...   -0.340999   \n",
       "50%      2.758399    2.256554    1.921114    1.204745  ...   -0.107290   \n",
       "75%      2.895088    2.346816    2.106971    1.569528  ...    0.210556   \n",
       "max      3.870352    2.927940    3.903386    2.102123  ...    0.613043   \n",
       "\n",
       "              158         159         160         161         162         163  \\\n",
       "count  467.000000  467.000000  467.000000  467.000000  467.000000  467.000000   \n",
       "mean     1.559521    0.742317    0.006121    0.451069   -0.309986   -0.532232   \n",
       "std      0.435157    0.644322    0.346956    0.539961    0.257308    0.169126   \n",
       "min     -0.364179   -0.566707   -0.840573   -0.544851   -0.842006   -0.950745   \n",
       "25%      1.238523    0.160448   -0.245559   -0.059041   -0.503452   -0.649488   \n",
       "50%      1.533680    0.622688   -0.054602    0.346883   -0.352651   -0.532743   \n",
       "75%      1.947283    1.289957    0.264004    0.879902   -0.098293   -0.414493   \n",
       "max      2.255474    1.920397    0.861082    1.461966    0.277556   -0.052985   \n",
       "\n",
       "              164         165         166  \n",
       "count  467.000000  467.000000  467.000000  \n",
       "mean    -0.815767   -0.558816   -0.634910  \n",
       "std      0.149799    0.151696    0.148284  \n",
       "min     -1.132540   -0.965518   -1.031688  \n",
       "25%     -0.918146   -0.649681   -0.729269  \n",
       "50%     -0.826866   -0.558534   -0.636506  \n",
       "75%     -0.702888   -0.454666   -0.526010  \n",
       "max     -0.052981   -0.052981   -0.052981  \n",
       "\n",
       "[8 rows x 167 columns]"
      ]
     },
     "execution_count": 5,
     "metadata": {},
     "output_type": "execute_result"
    }
   ],
   "source": [
    "df.describe()"
   ]
  },
  {
   "cell_type": "markdown",
   "id": "b2fc9c1c",
   "metadata": {
    "id": "b2fc9c1c"
   },
   "source": [
    "The first column represents the *label* of the given time serie. The following columns represent each point."
   ]
  },
  {
   "cell_type": "markdown",
   "id": "1be8d042",
   "metadata": {
    "id": "1be8d042"
   },
   "source": [
    "## Pre-processing"
   ]
  },
  {
   "cell_type": "markdown",
   "id": "229dbb3a",
   "metadata": {
    "id": "229dbb3a"
   },
   "source": [
    "We can check if there is any missing value:"
   ]
  },
  {
   "cell_type": "code",
   "execution_count": 6,
   "id": "7f89c0a4",
   "metadata": {
    "colab": {
     "base_uri": "https://localhost:8080/"
    },
    "executionInfo": {
     "elapsed": 16,
     "status": "ok",
     "timestamp": 1663952636482,
     "user": {
      "displayName": "Andre Luis Mendes Fakhoury",
      "userId": "11987406164407738979"
     },
     "user_tz": 180
    },
    "id": "7f89c0a4",
    "outputId": "3be821ac-287b-440a-e728-b7290733a84a"
   },
   "outputs": [
    {
     "data": {
      "text/plain": [
       "0"
      ]
     },
     "execution_count": 6,
     "metadata": {},
     "output_type": "execute_result"
    }
   ],
   "source": [
    "df.isnull().any().sum() + df_test.isnull().any().sum()"
   ]
  },
  {
   "cell_type": "markdown",
   "id": "6951ab80",
   "metadata": {
    "id": "6951ab80"
   },
   "source": [
    "### Analysing classes"
   ]
  },
  {
   "cell_type": "code",
   "execution_count": 7,
   "id": "a8aff26f",
   "metadata": {
    "colab": {
     "base_uri": "https://localhost:8080/",
     "height": 281
    },
    "executionInfo": {
     "elapsed": 460,
     "status": "ok",
     "timestamp": 1663952636931,
     "user": {
      "displayName": "Andre Luis Mendes Fakhoury",
      "userId": "11987406164407738979"
     },
     "user_tz": 180
    },
    "id": "a8aff26f",
    "outputId": "2b6a4093-5013-49db-99b5-332e029d6dfa"
   },
   "outputs": [
    {
     "data": {
      "text/plain": [
       "[]"
      ]
     },
     "execution_count": 7,
     "metadata": {},
     "output_type": "execute_result"
    },
    {
     "data": {
      "image/png": "[encoded data removed]",
      "text/plain": [
       "<Figure size 432x288 with 2 Axes>"
      ]
     },
     "metadata": {
      "needs_background": "light"
     },
     "output_type": "display_data"
    }
   ],
   "source": [
    "fig, (ax1, ax2) = plt.subplots(1, 2)\n",
    "fig.tight_layout(pad=5.0)\n",
    "fig.suptitle('Frequency of each class')\n",
    "\n",
    "df[0].plot(kind='hist', color='#FFCF56', bins=3, grid=False, rwidth=0.9, edgecolor='black', ax=ax1)\n",
    "df_test[0].plot(kind='hist', color='#A0E8AF', bins=3, grid=False, rwidth=0.9, edgecolor='black', ax=ax2)\n",
    "\n",
    "ax1.set_title('Train dataset')\n",
    "ax2.set_title('Test dataset')\n",
    "\n",
    "plt.plot()"
   ]
  },
  {
   "cell_type": "markdown",
   "id": "a9d1f1fa",
   "metadata": {
    "id": "a9d1f1fa"
   },
   "source": [
    "We can try to obtain an stratified sampling of this training data, with the same frequency of each class."
   ]
  },
  {
   "cell_type": "code",
   "execution_count": 8,
   "id": "d6025cf3",
   "metadata": {
    "colab": {
     "base_uri": "https://localhost:8080/",
     "height": 283
    },
    "executionInfo": {
     "elapsed": 12,
     "status": "ok",
     "timestamp": 1663952636933,
     "user": {
      "displayName": "Andre Luis Mendes Fakhoury",
      "userId": "11987406164407738979"
     },
     "user_tz": 180
    },
    "id": "d6025cf3",
    "outputId": "c56a99ac-5f2a-4fe1-d708-5e4e6cbf8db5"
   },
   "outputs": [
    {
     "data": {
      "text/plain": [
       "<matplotlib.axes._subplots.AxesSubplot at 0x7f9f3d962790>"
      ]
     },
     "execution_count": 8,
     "metadata": {},
     "output_type": "execute_result"
    },
    {
     "data": {
      "image/png": "[encoded data removed]",
      "text/plain": [
       "<Figure size 432x288 with 1 Axes>"
      ]
     },
     "metadata": {
      "needs_background": "light"
     },
     "output_type": "display_data"
    }
   ],
   "source": [
    "df_sample = df.groupby(0, group_keys=False).apply(lambda x: x.sample(91))\n",
    "df_sample[0].plot(kind='hist', bins=3, grid=False, rwidth=0.9, edgecolor='black')"
   ]
  },
  {
   "cell_type": "markdown",
   "id": "29696a40",
   "metadata": {
    "id": "29696a40"
   },
   "source": [
    "Stepping out of pre-processing for now, let's see how it would perform in the OPF (without any extra processing)."
   ]
  },
  {
   "cell_type": "code",
   "execution_count": 9,
   "id": "2481a0ad",
   "metadata": {
    "colab": {
     "base_uri": "https://localhost:8080/"
    },
    "executionInfo": {
     "elapsed": 33057,
     "status": "ok",
     "timestamp": 1663952669983,
     "user": {
      "displayName": "Andre Luis Mendes Fakhoury",
      "userId": "11987406164407738979"
     },
     "user_tz": 180
    },
    "id": "2481a0ad",
    "outputId": "16c0c259-af18-4bc4-abad-e735b9a1e214"
   },
   "outputs": [
    {
     "name": "stdout",
     "output_type": "stream",
     "text": [
      "Stratified sample error: 0.482\n",
      "Raw data error: 0.355\n"
     ]
    }
   ],
   "source": [
    "X_sample, y_sample = df_sample.iloc[:, 1:], df_sample.iloc[:, 0]\n",
    "opf = OptimumPathForestClassifier('euclidean-distance')\n",
    "opf.fit(X_sample, y_sample)\n",
    "preds = opf.classify(X_test)\n",
    "print(\"Stratified sample error: %.3f\" % error(preds, y_test))\n",
    "\n",
    "opf = OptimumPathForestClassifier('euclidean-distance')\n",
    "opf.fit(X, y)\n",
    "preds = opf.classify(X_test)\n",
    "print(\"Raw data error: %.3f\" % error(preds, y_test))"
   ]
  },
  {
   "cell_type": "markdown",
   "id": "23384e34",
   "metadata": {
    "id": "23384e34"
   },
   "source": [
    "We can see that in this case, stratified samples gave us more error."
   ]
  },
  {
   "cell_type": "markdown",
   "id": "992466ee",
   "metadata": {
    "id": "992466ee"
   },
   "source": [
    "## Dimension reduction"
   ]
  },
  {
   "cell_type": "code",
   "execution_count": 10,
   "id": "fd95bf12",
   "metadata": {
    "executionInfo": {
     "elapsed": 11978,
     "status": "ok",
     "timestamp": 1663952681945,
     "user": {
      "displayName": "Andre Luis Mendes Fakhoury",
      "userId": "11987406164407738979"
     },
     "user_tz": 180
    },
    "id": "fd95bf12"
   },
   "outputs": [],
   "source": [
    "opf = OptimumPathForestClassifier('euclidean-distance')\n",
    "opf.fit(X, y)\n",
    "preds = opf.classify(X_test)"
   ]
  },
  {
   "cell_type": "markdown",
   "id": "Fh8AGaMAb2jp",
   "metadata": {
    "id": "Fh8AGaMAb2jp"
   },
   "source": [
    "### MDS"
   ]
  },
  {
   "cell_type": "code",
   "execution_count": 11,
   "id": "ba3de71d",
   "metadata": {
    "colab": {
     "base_uri": "https://localhost:8080/"
    },
    "executionInfo": {
     "elapsed": 1286,
     "status": "ok",
     "timestamp": 1663952683212,
     "user": {
      "displayName": "Andre Luis Mendes Fakhoury",
      "userId": "11987406164407738979"
     },
     "user_tz": 180
    },
    "id": "ba3de71d",
    "outputId": "69806ca2-e835-4b50-afe3-fb31747569c0"
   },
   "outputs": [
    {
     "data": {
      "text/plain": [
       "((467, 166), (467, 2))"
      ]
     },
     "execution_count": 11,
     "metadata": {},
     "output_type": "execute_result"
    }
   ],
   "source": [
    "embedding = MDS(n_components=2)\n",
    "X_t = embedding.fit_transform(X)\n",
    "X.shape, X_t.shape"
   ]
  },
  {
   "cell_type": "code",
   "execution_count": 12,
   "id": "e27b53ea",
   "metadata": {
    "colab": {
     "base_uri": "https://localhost:8080/",
     "height": 265
    },
    "executionInfo": {
     "elapsed": 722,
     "status": "ok",
     "timestamp": 1663952683925,
     "user": {
      "displayName": "Andre Luis Mendes Fakhoury",
      "userId": "11987406164407738979"
     },
     "user_tz": 180
    },
    "id": "e27b53ea",
    "outputId": "b806b302-7259-4e41-f5b6-abff1f6b6187"
   },
   "outputs": [
    {
     "data": {
      "image/png": "[encoded data removed]",
      "text/plain": [
       "<Figure size 432x288 with 1 Axes>"
      ]
     },
     "metadata": {
      "needs_background": "light"
     },
     "output_type": "display_data"
    }
   ],
   "source": [
    "colors = np.array([\"blue\"] * X_t.shape[0])\n",
    "colors[opf.prototypes] = \"red\"\n",
    "plt.scatter(X_t[:,0], X_t[:,1], color=colors, s=10)\n",
    "plt.legend(handles=[\n",
    "    mpatches.Patch(color='red', label='Regular samples'),\n",
    "    mpatches.Patch(color='blue', label='OPF Prototypes')\n",
    "])\n",
    "plt.show()"
   ]
  },
  {
   "cell_type": "code",
   "execution_count": 13,
   "id": "30b44fef",
   "metadata": {
    "colab": {
     "base_uri": "https://localhost:8080/",
     "height": 265
    },
    "executionInfo": {
     "elapsed": 14,
     "status": "ok",
     "timestamp": 1663952683930,
     "user": {
      "displayName": "Andre Luis Mendes Fakhoury",
      "userId": "11987406164407738979"
     },
     "user_tz": 180
    },
    "id": "30b44fef",
    "outputId": "0e909a16-0be5-455f-c991-d8a59e63f626",
    "scrolled": true
   },
   "outputs": [
    {
     "data": {
      "image/png": "[encoded data removed]",
      "text/plain": [
       "<Figure size 432x288 with 1 Axes>"
      ]
     },
     "metadata": {
      "needs_background": "light"
     },
     "output_type": "display_data"
    }
   ],
   "source": [
    "plt.scatter(X_t[y==1,0], X_t[y==1,1], s=10)\n",
    "plt.scatter(X_t[y==2,0], X_t[y==2,1], s=10)\n",
    "plt.scatter(X_t[y==3,0], X_t[y==3,1], s=10)\n",
    "plt.scatter(X_t[opf.prototypes,0], X_t[opf.prototypes,1], s=13, c='black', marker='+')\n",
    "plt.legend([\"1\", \"2\", \"3\"])\n",
    "plt.show()"
   ]
  },
  {
   "cell_type": "code",
   "execution_count": 14,
   "id": "99cb168f",
   "metadata": {
    "colab": {
     "base_uri": "https://localhost:8080/"
    },
    "executionInfo": {
     "elapsed": 13,
     "status": "ok",
     "timestamp": 1663952683931,
     "user": {
      "displayName": "Andre Luis Mendes Fakhoury",
      "userId": "11987406164407738979"
     },
     "user_tz": 180
    },
    "id": "99cb168f",
    "outputId": "618a9d81-7438-4f8b-f5df-9f3b5626c951"
   },
   "outputs": [
    {
     "name": "stdout",
     "output_type": "stream",
     "text": [
      "306 prototypes were chosen (65.52%)\n"
     ]
    }
   ],
   "source": [
    "prototypes = opf.original_prototypes\n",
    "print(\"%d prototypes were chosen (%.2f%%)\" % (len(prototypes), len(prototypes)/X.shape[0]*100))"
   ]
  },
  {
   "cell_type": "code",
   "execution_count": 15,
   "id": "64a8c002",
   "metadata": {
    "colab": {
     "base_uri": "https://localhost:8080/",
     "height": 453
    },
    "executionInfo": {
     "elapsed": 54943,
     "status": "ok",
     "timestamp": 1663952738864,
     "user": {
      "displayName": "Andre Luis Mendes Fakhoury",
      "userId": "11987406164407738979"
     },
     "user_tz": 180
    },
    "id": "64a8c002",
    "outputId": "12b27f24-eaaa-4018-e554-58785dda6ede"
   },
   "outputs": [
    {
     "data": {
      "text/html": [
       "<video width=\"576\" height=\"432\" controls autoplay loop>\n",
       "  <source type=\"video/mp4\" src=\"data:video/mp4;base64,AAAAHGZ0eXBNNFYgAAACAGlzb21pc28yYXZjMQAAAAhmcmVlAADgGG1kYXQAAAKuBgX//6rcRem9\n",
       "5tlIt5Ys2CDZI+7veDI2NCAtIGNvcmUgMTUyIHIyODU0IGU5YTU5MDMgLSBILjI2NC9NUEVHLTQg\n",
       "QVZDIGNvZGVjIC0gQ29weWxlZnQgMjAwMy0yMDE3IC0gaHR0cDovL3d3dy52aWRlb2xhbi5vcmcv\n",
       "eDI2NC5odG1sIC0gb3B0aW9uczogY2FiYWM9MSByZWY9MyBkZWJsb2NrPTE6MDowIGFuYWx5c2U9\n",
       "MHgzOjB4MTEzIG1lPWhleCBzdWJtZT03IHBzeT0xIHBzeV9yZD0xLjAwOjAuMDAgbWl4ZWRfcmVm\n",
       "PTEgbWVfcmFuZ2U9MTYgY2hyb21hX21lPTEgdHJlbGxpcz0xIDh4OGRjdD0xIGNxbT0wIGRlYWR6\n",
       "b25lPTIxLDExIGZhc3RfcHNraXA9MSBjaHJvbWFfcXBfb2Zmc2V0PS0yIHRocmVhZHM9MyBsb29r\n",
       "YWhlYWRfdGhyZWFkcz0xIHNsaWNlZF90aHJlYWRzPTAgbnI9MCBkZWNpbWF0ZT0xIGludGVybGFj\n",
       "ZWQ9MCBibHVyYXlfY29tcGF0PTAgY29uc3RyYWluZWRfaW50cmE9MCBiZnJhbWVzPTMgYl9weXJh\n",
       "bWlkPTIgYl9hZGFwdD0xIGJfYmlhcz0wIGRpcmVjdD0xIHdlaWdodGI9MSBvcGVuX2dvcD0wIHdl\n",
       "aWdodHA9MiBrZXlpbnQ9MjUwIGtleWludF9taW49MTQgc2NlbmVjdXQ9NDAgaW50cmFfcmVmcmVz\n",
       "aD0wIHJjX2xvb2thaGVhZD00MCByYz1jcmYgbWJ0cmVlPTEgY3JmPTIzLjAgcWNvbXA9MC42MCBx\n",
       "cG1pbj0wIHFwbWF4PTY5IHFwc3RlcD00IGlwX3JhdGlvPTEuNDAgYXE9MToxLjAwAIAAAD0EZYiE\n",
       "ABD//veBvzLLXyK6yXH5530srM885DxyXYmuuNAAAAMAAAMACA6DWJmvNLXEhUAAAQAAG7H/t9Ic\n",
       "bgATkxbhB3gyRLUXfxkGacHNTsJrrHH85oZwymF2gz6ltpHkDLxtge9jiDNVw917qTSZJePd6Pxd\n",
       "FYGLYe/ZI1IO63RqgW5+Z1hlG5k5Z2PsMM8sGH3N5cvVCP7VYQtjKYZZXakT5EkAVzziFbIaGaUA\n",
       "NCcVxtmG7k5oxiVnU8OCP9w4l51j79TKbUcXfLRzfD9maBgHbtTrZIAA8uv1ERGH2yAAlONPLPMy\n",
       "J5onzvgzIbGy5zfoYa7bCGLWPt1+dIxcXOi+dm5Wn9x2nfTdL0bgL/FjKh9q0E1Zdh9NyAsLF+Se\n",
       "mfnmPyjvw2I22Xirm36vyCt5By0mPqsf2jrxr2rzuzHKFdyzoUNTC92RrrfUgDaMyP4pVRFFoe4F\n",
       "tTjUe9a1gTh5gYIGKGueWoLxsHjF055AMVi6lSQetJK8kkvZ75YKEyJk9KglpQWJWtW1ULOqS5mX\n",
       "Lu8ySGvG39EUD1X1i/kqClWTjoKM0omwa3rVI+34fonH8HbUhQ1ENOFtTtTZnFk3RiJq/8tybnxM\n",
       "Zc9CRF4/CBdurvMyRovmKKG3n9aM4qnG+tV5+2v+n5xTyWHuCyXBPS04uC/+Eg4tx3rMRBKUbyJc\n",
       "pnf0akwPKQYzANwHMBstJ9K8Aly1kcM+JnHd1p7td3Sk8q0FZYNUZNx6A6ddaTkRvbUzPDELqG5p\n",
       "yUbn6mwr+5t582JiAtl8gzkgpeAQh19n0qcfcfLiwBhMSY5TKKL5vUaF/fIW97jbRA04RAIMiy2e\n",
       "9lTF710BgqiEUByt/nqd5+lufr+p08dtQ5pj9SgwNjNWE/7btvJTc75fwMv32389XpC1kWWEzvru\n",
       "21p0ZbD+qFOnCL5XE/U9fR2mAJsxzlwqUBRQHGnyOZOmY/O68ZpGySjH1XLHplI8D+UNOvnt8OTn\n",
       "tBPX05dsbj5ZtLXZO8BJWxJHaue1wfxBPk3dKReJJBmrwD1q0qM2WcBEvU4zLSYeTpLh3F+Q68DC\n",
       "63A1hgBRk1+8Al1qcImzz0qSl0r8RuXn6lT/0M36zgcfysPetFtm4+0mEH80xDNcYJTK3JVdzV0T\n",
       "BjsCr7+dpUl38YVuqLaEC212WsWo5/LDdVcsSmOWKpbFtYFP8m55/zya5ixVTIHkNyu4yI8EZVAM\n",
       "vKnZ/fxyT7i5Aby4dowz9pT+0hbLs6RxhAAvnKBSDND/+jShCRE8oR9++ucRoUdFTqOguVfAuHIx\n",
       "XhmKQwNMV60ubwRmDO8J3zKNnQbmVlr+prCYE7jwfv1J5Z4kXVPqUkHaOOVgadNQh4XcjU4lw6nt\n",
       "5p5TcHy3Y31AsOQDYIqQ94HU0GEQ/mvGMs4330HqEtjgbHUYlb3nGyF7kqqnGuYZg4Ohj81pvy5r\n",
       "gJtN6QJQ7+VCa24FTfyUZ8aXlIoxP652UHm0qrj2ugCGjJPQkp7cOth4/Rj1z0j+UwP1CyLK8pXk\n",
       "56RvLBrjBx+USjgVpFcriBkZfGXHCUFbMNYlU45XTlqws24kmQ1wOhjASHcq8SoyrzhHVOkstmfH\n",
       "EM6QODn1mnWZtG75UkCv8IQDNIfBbDppXp9Niwts9LxtcTtMelvgXJrDayQ4plJjzpm9I+UToo+O\n",
       "lX5XiaIQm6Z6Y0Xfz/Vf9+5V441Olo89TJ73DaI6k7DpiVKuc7zUW6rTMrFQ+PdRUg4qLvtjSLHY\n",
       "91syDrFQih7ceiRXSnc8kbXaIf1mdS6wGuLHfY4QhzfZ/uw+TWkDEnBvZExpRs8+qhusbLN6riJv\n",
       "a844rlkvRaLVCK9enlc2cvOPywVhwvX537JJrU+N+50rHPTeNOsliJF5uAmM4ydG5XNYGIsBe5OE\n",
       "WpWkE2nFf53VHg8eWmmaka81HsbJeC5qYC2YikZfVMMjbbW6n9cHe8iWkUSXyhdT3ikAynpZCqAg\n",
       "/EelzfxZfPWAhdzcW1Yfmvi2q4RARc8xZbwzsdWCajARq5cdMG/htIUutecvbzWHV4PhQIywY9y/\n",
       "LzKHI6axMU4DliobASGF1k1h5K6IarzHexdXJYGLPcWCehmJR8DlEsz3eTMzuY3TIAdAxMM4lhWI\n",
       "GwYQTvADIcdv8jDsLURlkYB3F1cR88gsKixTqPAXsTQjvFuTC/LFF15Q1FmvyHiV/adI/Igeu/ql\n",
       "c+MyL29n1uLsJuoR4deM8rzRSA/RchcUAdg6PJpfaFFBSUPMAce4ctr5+HH9FwYRPhDCUTAgXNI8\n",
       "CDSrCSclo6lfLOYgzvdUqFsJ8JJB03Q1doiQlYV5uT1LpDO8nyNeWEnXvOH8tG6krRkCK+pqqpjd\n",
       "Wl4tb8ot0Hwz3Q71gQhY5nCMIcxNPAZGwrd1xSNxjg3+qqV8ZEddAIGMCP1WK0JSLYsC3/O1Y8wM\n",
       "klRz5B4iIRRC6Iv5pudcPbLpxlxkXYOR87nWwD0Bcw0fwWwju1WPPGVKJC2hz2T3fLSNuJE5OgFr\n",
       "uiw/ifmrageeCYGfRgO8n0xnkygife8pH1sqcKBRE2p9324gjcWw/0lUgshyd8ckxmQIkllH3zAh\n",
       "0XuJg6zMLHbF8JQEgaNxVwkFWEs45gSr3G8oW19tP1a0PxtcywifV8mwg/tWcqLE3YwFcKpY1p4I\n",
       "mmtIww7/HJdAINIfeKLG+c+1xS552+szSjfp9Ue32fGE0J025XPTJ3SaW9A6pUxlawlIR4fG0Avp\n",
       "nYQOnGRjCHyLn8q+/GHmDKJUK8fjNhmPOgoJqRHneEbBjlBU+JccKH3NdrkVNd8uF4PQ/J4OZ+E9\n",
       "kC0c9iPtHc/nIorSIh+hBhxSbJSn8dMdtvWz3R8oqCREmHS831HeDQJaV9O8G2oj3uc/D4BZ0A9x\n",
       "unjTGUtqGGm+9QJJR+WoHrSAMFmDPQ9gheC+7h07kFkRtBlIMzFwstcyIVvicW4DttC6BOa5wDNa\n",
       "cTAFnIG5Z95bz1QFELwGUID9OYaa8eccyb+ErR8Y2u3u2ijV5rJ+DjqZ1AbDsqISHN0qeqsXKd3S\n",
       "POHQGyEBmYFiraeRhPHMU4HHML/zn8bl35fDYI2Kqq33aVQ2Iss8WxFr/glkPA1Dm8r57WXtTKAY\n",
       "yHAHYeBvi0PVnLjbrYyPYjtVHJQgJoNNbfUs9Yuxj4fTLkxxo7MSI+yMQBB9wkKjhTF31U665TSy\n",
       "csabKt1DasA4HKYUKrZo2RKmpEl1l9cUGepLi0N4j+M0qyZ6muRF5lrsm5KnESTDk45CJG/SQD7L\n",
       "7XVNd6Vq6e0BVWZAQAevv8HlqnwlVCCvEws6XEZtUuDwUJ2jtcvKN7bdTa7Lf/rzXzCqV+kk/eom\n",
       "H+mLwm8IvKPwRjNIJ19EdjlVI2HSBNztpYTW9WNUbmv7ideu/g+2PyJmqjiYwAC36rJux+PyUxIZ\n",
       "DxZ+VYyS9hg2lkmLQpTy0V5xBVjWis83SUQog5W1OxgSGVCxeWhBmOtW6k8Q96K4ItvfbpPgLkjt\n",
       "ZT5JewwhUDX2LeMMx+ow/OfktV00p2GWi93kYDloESgSbBsTly6V/nYnohkpxImfZqX8AnqOJwpc\n",
       "kCWj7xFLgwprL/wZgVJ/JIXfm97giFi4bmMFZ+WomqcaN+qD5zSe/z/3ffX/IET+w2j+4a+PvTz7\n",
       "1kNzSbKCixgGxiaOyoAfqw/JoWJgIgnVuLHA5azRS8Zylvn3JEjkby9dyPsM43DqtZoarSdvZcYw\n",
       "j+y4Xt6YH1DEWWtD7Hznj46cDVtscLE2cTDcSkT6o8Y1Ob+7cTLTNfBgF7wdPGSPgSsfU/gyXX1e\n",
       "tqXh1118rTekWV3idrOn+eyaqt08C0eAq1jh8dycTBreXrpVf+UKgMsQCjJ2jW6zc2074fKvMbfM\n",
       "kdXkHKkJTo60Wg6TdMxxN/cevGQZ9L4Hof1jL7mjuDa+fmLMv9xwHSXr/PkeyhZYJ5M95etHS8+e\n",
       "3aVZkIRC7enOASJnOhA7/GxQDrWv/NJghB6LSRxj8hNf9l94ybXwSIXhj99lquXZb1U6y8Rti31O\n",
       "6NqlsWuGgKFujgKnrMj+OeIUdE5yPPDVPtcZijJmywfuuwgDqQjOW/y4T4lzY+EaGj4mMaBxn9NJ\n",
       "Rpk+4lidFFNA0pnbNsikeEHaLsq+I/eTZalcAiNIxui/P2m8BLmzoZk08eBpKObEK8ti6k+iPjsf\n",
       "lpwSj2ejeBjjGQe3mkxPGAvZ0D1UASzyf9FfJGW4jw4k+ImE8p30mLtIEjHyajj7+Qj3f26NQAC9\n",
       "styMzFaJ5E2FFZq4qoUXz/RfXXYgFBfoubQ0pm0WzeoCA8+3y+/XuPh59r152yOeeLGiHBr9XOpn\n",
       "q2GOFxsxObWJbukAdFhvBLvSp79SkkmJNZFagqE1I07D3xrrGkQHUCpGsezC3F5fIqRjTszwFqI2\n",
       "f9tMPCqyhWBryWrE2U8s7ZrbgpbV/8qVsM2wUt2KdyaqEJHqPp3/gQMZjpNUG69ST8dYArf5j7SW\n",
       "pgkYrsCXqixPC2aLyyfV/NFDdi4264v60qOFcHGjgtyYPe3mBreYnpLfg7+VbMs3g0CJcHwKTUOq\n",
       "vKMqoKhLHnimYoru+L4MEMNK+G256Ty6HbAZyc63aWdHgXUZiJHFKSUNsJ3rgHi826gWA+gPg8ZY\n",
       "RxVH7G2iS2J5OGBQGwPjdH8i5ho55BS00/ecCcD5HecqDZxCDF8ugst8vKEM/eU6g5lxtaSEjsQw\n",
       "aLPXBDWsnHOkOe4/ntBqJgfmPZNc7w0PQRB/vNzebm/NDGdY6QpGoHX+mgMKKKzftu/v8w3aOA0Q\n",
       "i4a6qChLttQDUR4txFcHp1D8biEuYOeyAbt0+pL25P/EpPRaGuNptkWyONRIRSGW4k7UFAVvO58t\n",
       "Fk7/P9PblzVdQ1lOBuRriT54RW4UO5PQKUAeeM4pQxobRfXRGg371ARTDrSNH5xzVph2rwN8rsut\n",
       "C73zBqXvKjR/H7dQBDD65060iv1L9o8kv4SsL04jIt2G213aWnr2wAW1RpLAW6w4+u7r0RM20lYA\n",
       "anqwHFDNeV0BB5m4qG8xJBZK5gd1D2bftp81agKc2VOTi+d0pM+u3yfOkaM/p4Rw1xpnOePztBSp\n",
       "9oy036ILnwaMeDAH3WfGAO4yYsNQo9nx8Ttcnjm/8Au2ZDR0vu7iQhJqf7DFE5P/KRVYf7u8EEqL\n",
       "oHQfKIUV9RWlgqLAazWqWjBJEBrVm1eojYEXkRZS5BZOSnSpkjBZhcIj8YV4OcoKQ8K+rL7z28ku\n",
       "uHumQVAqCJVbElLDr86FQDDZsF648Brl+pl6N8z3/xaZORkPfzoDw/owCWeNqV/1Bw0TtLAU3isL\n",
       "h4/OccOAAu8NG2/QkVyFzKtle0reWjT8UZaDOqNPSk9vrkvCN6g8alDR2glxVQnliXGtQ5NrlOZE\n",
       "Lc1f7AjW+cpIOyQyLCLDfFhoSeIdTGdaDS/Vk2cGAPg88tTI6h1NyLQ7sqm+0S/3AfMu6YzZtsqU\n",
       "WWb87buV2Qbnr5fiyAJl9lVN9gKEBgMdqRUrs2OYuahegc2ZrOlqWSVs2IvxZDuJh6he16BGiBnO\n",
       "ejmiNAXgWBq1p4n3OzY9ePMs4TvtD2DHZ9yp3qB6L4oSs35x70G9+/qsmcHGlp5SnI0cC2tD8Mjw\n",
       "ZsYbu4oTjkD6+SiUSnTYWAYiDloKU4GldxQq4SHdmHIv77Vp1/aUs329fm2GHUuBJy03CuSkV6FG\n",
       "lbSL6yFEgKbQsboDNgTZdh2GnBmoQoxvVnkQ4hRIuBrIMjQ9GSUFSuHpTtjQ4o5qKEWIuorvrws4\n",
       "oPIze7JAUYj670oFlwGK1pvesgHnkvB4N8EmM94TsfGBLaMrML8PnkUV0VGKpGyD2aNPf64I65Ka\n",
       "komJ9CugVKil8o6pXs9vWZrX8xWvSq4w65bHJLmqR87sMoD8HRrqs/FnChPg0OGFed5ntN5aEb0E\n",
       "LrdHdGrQbxxa6WKDa5XvWUUdMCXq1GFjAgDCQNMX03/3NPTtEEr5sFYvckS1DCp6Obn4aIT5nPdj\n",
       "Nhf1omPNusLHTWL2nWHw6NEwviS3Za0m0foND9M4GfWtenYYDHFyTpBEDXifvqFZITkXVfQrEPSO\n",
       "tg2BYUd/KpDo0eDKAyGxLP3F212m8wFf+YZy4VAeyXJLFhXHYMvd2JQ2aG3kAbxGNuBcf1TSDE4T\n",
       "0xXHaqHYBl/3EVpe8m1VHN+3IIi2NND7kpBdbfCWj5N6icgqUTmNf7KBSTaG/9MvuJK6YaSisCBt\n",
       "tjacOa+9n6m0NtOoIIvFcSmUzgJHqfIw389DB5m+rFiaT8kToceRJf32p6/Rrr6lKojlI7KDc9qZ\n",
       "2O3L3Z3fMs9qblX8691gUAKPgx15rk1m37MKBIdiYRka96qbAvCbruu78q+QopGQsEiTd3r/HwaE\n",
       "/zmEozL47juNkcD4BO6sgmlBhAn2hMqlAEbC2tmJP2jlDRuovVblfxq1jmVyshTJuo5A/S/W7JdU\n",
       "xTtELWi/IEutShJo82ZzfZ3ydx3wWBlxU6+SyZhc1KE4AscLKaGszS8KJ2pYQPQQ8HMG8a8XNhtO\n",
       "bZtVBSBCa0JldH3WOrP991jLk7jUFg5hTczA6asirHvLMy4dE05R0PRqwkQkw7+k3MNNPzaFIM86\n",
       "sSAa+0yE4xvugHC/Sbydd2Z4drvt92lUkiO4m4NmlT1kYzoo7Ry+s5s2oNxGDIuL6+Gglb+04iGL\n",
       "aTGwhBxGhdYwhtryz0cpjPOVETCmGXA42oyzrkFcl5lyMB9YmRhs/Cfk5hU8GOHBSeOgEsjZeh49\n",
       "T//gYe4msjcLhicGlMt2ebaGPv8oqG7D01FZr6p8yeSmkJNUECz0JmofukNh2gH1cEvIMPrIq8+i\n",
       "D2yDHOB6w7/YVQ+QM/XG3uwkzh97NCH+SsWangtd0vYDTIPop3ZFasqdcQRxYYiLF2tlIofqrdBb\n",
       "5IV6U6t0BeS5MWDcE1dTibpAZf+/U0AJ0j3Mf2WnhZ+K9+baw/w/P/NNkkVTeZRY2wA1il9b42qA\n",
       "AlbrXAD0dOWzYGtymVUBc0E/oUJ83+Jc/nL9BGL3p1BtYs/DdCnx5VKJYStPT7scLvhpGU51LGvU\n",
       "HzfIDbWCJx+CdlRZbrA69luolYTcHnTFY6Kr5lVe4qiXtvletX8R6OfqA27uPisdv/UwCuglyP5H\n",
       "3rIkAwJKYCpy7yn8aDrOI6phKZuBUK3/f2mMf31hAlFyaEz2Ldo5cxypHSRj2jrEr76k2mNqLJjr\n",
       "MODbhrNvrGNFau+f04boHauPkow4aM18VNum4upsgvH98XUwj7AKl9ILwKtkDM3+lacMR2cY2rSu\n",
       "i4jHE4Y/gDvDonLU/QIicMMpjnrYvAuUSCBlP/vKufoBaa1cDCtl8boWeYw1oxtFVBfvl+gT1wwJ\n",
       "lEqgUE8tJIKXMfJm/Z1jz+DycUqLiCaQsp97cnGEETK+OCfDm1zfAZW9N501c2/SA82PzPpxRz35\n",
       "8XkZn+3JSaKlqIuR+3nHOi2wlBGDBp8T/ujxrbk1/YjZxwiV9SlMO5DNiLiZFoRNjD8ufm9Y2dxB\n",
       "pw9MmBbXI9h/KQfvSzIYOgHrrd+hs5jMyAu7biQeFVWx1tHrjb8cm4fFco7cFzuJ0315sJpfscq7\n",
       "iWk/9NutQx+Rz2sq88oP1VVq+eS/sUnZ1FNzZ5cU4/H4GAWakwqZWx9pSVafcYSOmFafzeZo/DfA\n",
       "8OBmphcI1ytYVvhKu2YexQD/Uu/RucOz73hWLK/DqFmAE8YgpQIdkPXgCWma+TrRp4zMhAngqfWZ\n",
       "aE+kfZX+MkhXzSWrZ6/hdXgemLWsQ9lVb6dxCcsdKiY3zgzwZQvnSGwhlvoiohgj4WpoQgSGIWbS\n",
       "kKdcYAYLe0kjyBxn8Dh7nrhtPB2thiAkcZ35FhGM9UWECCGpCOQBh/6A4YX+HxjK2PJJXWO+uyhh\n",
       "MvMeElSe4tfUPJ5/pCF8bkZIYjvo2paT7iKY3hY/GNUz5DqDFnbdSsggj6ItOLMzEdR65FjY+/+E\n",
       "kNhFFCv8lYGBIEJogSzWZ8oiLg58GD6ueJkJT79CdxJIh1U8Rw7Hj8vYgAlWXsVObm0uzZYfPEmT\n",
       "WEAey2OqiDa+5dytyqonLH+DIAFe2e1LEQscOFFbhfcgPAEQjGifa18tdxI8ngYLXSU2U7gIV23X\n",
       "vwvQ4fUQJf0PHp89yVL+nqfC/BxCorKyj556IsB459wsguKSFu8webXFPRG2jtL71uYkz6QQLKrT\n",
       "Dnh7o9OvcGB5JovCYMBsQgZ3zmaXmWqsB3vxkzYGlgUVRT2mmgHszOzHqG4FatkFZz0Oh96BRcTG\n",
       "V0A+io5MgoGvYadA0AHsNiNtOoduJrrhX/LUlbt4oNjv9kcpdUCbxWb0yZT8ki5v/VBBLHIS2b+9\n",
       "iFsN90jk6dgDTjz+iSSrlBRqyLco9A6yx1LMRRJGj1ECP5rwEubiYyWabixfEvpt+5iVXwE7mgN/\n",
       "U5AfLvHixGsm/5M5Oaq8i+LTPHf59pX8S1GhaMy2raqLob1lr/CidprgNgoFRf4x98nus8kX5cjv\n",
       "RwYwG+hQGHAqlomPgUkDd76UP537nYeQJvQhdq3B5yBNPRD3UK9QkD9CeRk+g8LAD7Coz0zuTzaC\n",
       "KmlE0BUOXh6UPJrGJUuDAL49D2oX2t2i/qKrSBE/i3pGKb0NPb9B5ysxylq0p2n8jCedc/NC7tgR\n",
       "wQ5yu5jIKj9KOFCaJSw8PpWQWxP23Xx22ixAukcYZRW7qygTRhXLh7/a/JcxwWewFq+MwXxas4I9\n",
       "nyC8ET2MVH0IuwvGbaLURT1fomNxEERV4WjXd9srAE4axvARIWXUAq26tCnjXrjZmExD1MOFqF9R\n",
       "xgkZ5r3RRJhbDoC4/N+8t/Iu/imWNvjkGFud3+5RyLUTKGzbGKw99dEdL9NMyn9Gd/lzxaXTcK+r\n",
       "UAJh+Bml1iUVwX8hLmXpKysQFI8fRPWyun9Zc+XnDDjmVfvATPsDdrg0tnqc/gAekVOgd+zrMbHp\n",
       "wySA91juPYu04ayZ4hkOOi2C6s9vmtgNZM4OWUcr9MEJjHK3mG0olp0h/o9ddk/1Wm/hsM1gsLMD\n",
       "2FiZputvNrjTv3bNvDg2Cwqc1zOFX3I2oOns4uJOifoD8ees4dwevawi14Lv34k/6mRVCnMP9dom\n",
       "EYhGDJilTczXoo6XLmTsP4gulwqp59KlcqhC+rJkmgU7WJRaWKDiXWfC+Ek1ERa3Zy12lDf2IK86\n",
       "bitHP7+ex8r+lQlMw/9pvIytLtP10J/I+xMu+iEFwdMh8B+ImGa7SQ2UQbNo9xIeWO7sAQyS0hJs\n",
       "yIXKoLQrVu8IQU9Hy07sSQzGEZtgLrFG8H64vbzx6Q0CjIzWaZ+UF+jCzzaMx6x4zIUOiueLagsX\n",
       "Wa9+FVKOCgoo6IjzLLoKQMeB2Kh9NCFfEmskBFWw2gOle1DUZOVW+urUq23x19A4ilDeJ+AxBz+x\n",
       "x6BFR4ZXYfeJAX1uAbOnn+YWXZUbyQKhf3LMS847ohNGzFjrrvhAXT/A9PhFX1gM8rjqeiui/F5d\n",
       "lntJQEsuIsYB7aI1yeJSw8jeI05VIGSlm8eLZ3hwn6XD42bHnomijxlZOUIXHzo2P5G8SU9rctpZ\n",
       "pe1BkWJpFOXGLfKZFXOdW+pQvOwGoT21xmeRqDOSdvWT77Owk5oo4h4fV2y3ceNFzI6SVqiYl4rV\n",
       "AdMc8F452eRuNoQnMoLLbeOtxgWWWszSCUhil/cQIpm5lwrL2kgbJ2e+Bd/6JbluF5VEXUzIyD+/\n",
       "bnTBU5/e+ktbuTzynWKcIFjkpeMsbFHGeIP+5I3qSaB40CLZpZrSStlzMbiK8aS+eApzuB++PwMy\n",
       "bGgDQKMgQgn6fVlSIN8LWwOU+4xYrjXEl/kRcIVYQQ+Ho/zDFemqYPAD/UrqHCcPe9S73udnV8QX\n",
       "/jwLA2pfwA3PqeyrGEPH4IQtXL3kqUt5k9te6F8IY1ggxI4JPUBk2MV8aRX/et4/K+gsdZIjJdRQ\n",
       "J61dbu8FnLdBntCXacCydJicpVe8FFldzpKxtOWTqpP43TobhhGUidGE/fKlwUZ+StJRbuosi4xL\n",
       "Z0EYtESHA5jOI/+vEXiJpbXY9VxSG7EdIrDEJi3BATV26oHvtJXYB0SJ1T+sIrMeLgrBB/p2kFRN\n",
       "ADuSdrBzUAeuv02BDJ0ctCLKCuUTZDBkNolW+ualGSM1J6lZ4FcS27JM54mh9Ck5FO396FXKA3AL\n",
       "c+Jvy/1AVMqWbL98DNoW5aUmYdIkovZ65jAD2fiJGLCJxPrAdpoC1+UJmYJfmcvnwIfqYBRFG3C8\n",
       "4knEbskSjB+E3KQe6K2Zx8pyGsUbaGG5PwgqLbCZmreXPL0ifgwSqTO6TWn0c+o6iqHSAe+uMWwI\n",
       "Aiu8wAafox1kyOVINgO2B+aHlMcb4sO9FyogqAuPJ0FHn8pO5/7eGPXUMlHoLjY/stKFaIooP4nj\n",
       "cB0oXaZnA7etXqe8Fo4RALWVs7qFqLjvgCVGTOXvpK6gLADuEz0twDvWLhGbGR+zJVuwRNWpl3XX\n",
       "21WchaIUEOVtDDHzmAypZNsdWVNI8BfObtZEWjRHG+70RKKOzEGOehvGUHeDFOxRCsJifVLJZrp+\n",
       "Pry6dYI2MI2cfdARXwQmsJKr5qwJnwJyDyaGlNy8qulBT0CsP6a5T9Spw4okLBX+wKCRCptci5EM\n",
       "dSq3l7s5g2ipJJFFHj2HX5DLKYX+o8UolVnJHTkfmaQ8OAFV25RHFz/VVBM3QMhSpWTYlTi9BaEY\n",
       "uC5ZomweNpAErS/KSS/5bIwpvFze92aFoxmMaps+aK4mta6+xQ7yapBzbvqsiOnNjF55Kgkat6/r\n",
       "yKxSbyg0egYAeYhgYfXyKKawRwezoY6I80hjUgWGAexGlhjKOqmTx9EoEtzB0FEalNmcl/YmyBPn\n",
       "/wlr06jenzpZ4T1hdsPntOOXTz3dYzsonJsEgDEXdeLBfY1qqHSgh8r8F3LAWlIQOTAr5pNCCBQ+\n",
       "Z2H2dzgJGJkRlA9Ze1IR/pxM3cMtlTBr3x+BHiTGBS2isyO+764kd+IKhG7WkKdUsqChz0EGM7Iy\n",
       "YHzgAeNfpMgT9PabzRxCNAtpmCoePEmeTpPjHg6D75pyarWzHtfeLQU0vc5oumDk1ciU6YTWujWv\n",
       "R/+KTyDL5nOHGxlPHh83gZ3XIoHLvgXf0Yr2SnFD+DQZxSxWDuSZ0EEcSb9W/2kRmMRsAzt9E3XU\n",
       "z1Kzm3fDDKBjdz/w3bBJUUtTomDBJcjxkkUsSFKZlRuSGVDpOyD+Gmld1LDj5XwOhnWLOYDUbK2s\n",
       "bEyDBjljcBeXq3KHgVOCqpXHQCi13U9lhG8UFb7/VxqtUVXzyUFJ0eIEnLpaXGiLPvsZta5UJYlJ\n",
       "8JGOzUcX1eeGE1ZCYeYPg+nZ9KsStMzq8mJtE0zfS/YaicmxSXCKUFxIQtKMmTMNDVbxzUVkK84O\n",
       "1TMW1TDYPm+Ptk2+KoYCtXvH3MjvSDIkNc+8eBohcMmqRqe2QiCkLn2vOXzfOC6dki8Q5B4b6b/P\n",
       "ODkSejNc5JFYlQ/Il0iI17vokMEqKoYvzWghSj6bW7Qn2n8Vo9b5YaQlWz3q0PvU7ivzPGO6IvWq\n",
       "BSAitUXKAOhCgbWTqkVbK6Ok3n2QmscAo8nXcU27v68aJlai5GqLZsLBGmsVyDauiRTdF0pxF5Py\n",
       "vW69CGdwpUeLm30rhusRLMqHsjzhCN8OxArxXW/nkX3FY3UE4So/zzhOmNUtvSXkW85Mo13Pl9Xy\n",
       "+a0LBMb49S60OTjMz/tYNt8UF8uT9n9400PD+fAhT0v6Ork0oGnx2pUgx6kKkmpoNz0U0tyv2D3j\n",
       "/Kl49avZ1z55JlRaHQeyQ7A8Mnb0BH/9RP0zKmNcbl4nXZQglk53b/6xkctmLv8bYPIyZaS3h+3Y\n",
       "MCdnidmfYbrjdDBio2Ciw5M2Ds/CSuYDmLlxqbx83MDk1O56Pyy8pY9rSOAXk9DpIxm+LPGwACBQ\n",
       "e7uQjE6TtfSvxDVZZVYcSncSG1FDKAU5xZcgo2lmN122XIv+HQKFJyFZR6f3nWiRQXgW/ad9SJl/\n",
       "SYSXHcK5ZiDpkmEKbyGGI8aOSnLWGH90GmkcUq8EJKYHKRUtdhBN+3YmGxV74UHpb9yQvbsZC6Yl\n",
       "/xNkBevHHlaxa/fGEopRj2HJ1BvvGK+pp8iO6K6MzBOL7mF8UEcae9xZO3qIRov/IN1V9hsXDZYR\n",
       "MGk78+4spDNu8wRC8EdE7ktLC9/wZ0kBCGjhTKqRrSgRvUS9oZT1qnWQCM4cfWf2XlUHOf9JK67j\n",
       "qK2Q5iiyBPUCsxkVDX07jJ57NxiuAMLgFVQBdX9bVwrrSjWramO2TlfJIQXTxAkzOYMTwYGG31wn\n",
       "c/Uf7N/P0f5zdDYoHjk8HRccoxZd0yX83ZpJyQBk7blUMEsG/x8v3YvpZToZSgS64WE87GE8YuWe\n",
       "nI654+qLOot5JYUvDFCA1HbMrwV932flhFa/3IfFH0W/yifulDt+3OVy2yHdPQ1F7+PVuX/XLKYY\n",
       "4V41f1TUDGg727+JntTWXpKCaaNdAS3IK9wEfsXLGNIL3s7QoiP+kUfd0JO0uDON5oRa7QK1XDJv\n",
       "CKoP4ZUgjkB8IEFpRlRsNZP8ogW9cWIjCA99Y+TbEC4sktfv2GzTLHvsvPazhLEgELsKAtoF4DjD\n",
       "rla5vwzzx+nM05jHN8Y//Db0hw/P+x9M8khxSj5NEKR132Lbs8QIY3s6TTxp90f8ceTWQvDYs0g6\n",
       "KSY7dEMDPvakbftOtilB+PPLBD7yT8N96f0kY3UYzssV/nqqXR4OMygteh/Ja+qqIoMNRUgm/LAN\n",
       "x/IIlbNxMyKz7WokVUd90RXRVQBUNiZSAnMtdrZwzwtiKZtgb52CsUKFtdiueimfWNhLL4rkVRuT\n",
       "sXfMlqEk2qwEczA3hSj1iAql5LLgChkshzz2+T0Lkx1Lee5MGKKdKB+OVEdpX1yRpIJMEp/OfpRt\n",
       "3QZiQqz/RcZ9b5l9Nq3W4J5WpdyALM/eWuZmZgb9Uo/8tT4gSBJicC3PC0HRkjB3KT2bkd6gCYT7\n",
       "zNfRAzMd9Gvz2RVjefE17rFS2U6iXr2Q9h0k9NCfKCFBKv8c3ffwku+GcvJC1yd7aKmv4CsMhkgM\n",
       "CZH3bJ/eQ6qcggX2AvHYgkcJ+W08zCWkkWDRuTvkS1H7GWQBrk68K0Sz8/F2ZiA5gIVqs8iCJ4Sv\n",
       "89fTwoljM0rEyd7kGTPojx7xpX+xsqDctNA101G5T6kXlQ+DdOwXa1BGYWl/6y2+Jx1pjVNuo8wU\n",
       "uycePCBThXi8AP8vZznxfc3YgXQy70nHll2qhhBOnUs5XnjPh+I3aWjmgnLHv8jkrcfdwi13Af9k\n",
       "4ttLToO3bdrDiPl+Tvcq5VoSFzhGzAc53g/i41sWQh6h1OFm2eZ45yeJVA6oiRlLNR8Grh45xf+s\n",
       "PInyZgnVE7VZu4uHJRfzqkhIMNPouP95N3wRwDI1PDQDdi2qiU0akvoVJ4k7bciwee04MCXui83r\n",
       "4+krhcK/rxsRtHoISz1VFtiF0kFo2euqvMgKly6SzPZtNEVyZtHcf55tULWPnrXGzZETNcw5shq3\n",
       "hcJiOoZBFGOo+E9n4CLUQcqjI+mq8ZO28yHv6blrpb9kKp9RQ6GHvxNYaHry/emDAD4/+OP5tzRM\n",
       "w6jpjTxTNgQU3r7zGZ8qGTZ2d/6S3VLTvgO/aPhiOGhTUl2Ft2KEkRcAp3g1QpP176UeM/5HPJFm\n",
       "GE209jWG68grD9jS6lCwn24vndgThbN9xrLrKp9L4Dsiz+5u5GD0G13zU+ropePCILF7y6IMl9Tj\n",
       "OS26pBQlDkc0+YHVWS7fN/YKYGxljeuYE+BaueJKr5djkVWDIQHY+8dLIF6ByJoOTlGNPv6r+PNW\n",
       "NTho2aZvG+kS/3k4mxLZVzMatwRrWhMfr+xfxl5O9c14/vPh0LfoyiEodaOu2FZBm2rXZBOHvZAN\n",
       "fDWEuvklEY9EBRL8omBiJGrzmqAFEEmIvB6YEHIsSDTwQRmp1j+aKtmwksf3H/9DnRl+lSgfXizK\n",
       "wbApQxIbiO5oKkMLysop6NWRJIYUN6llfm2JyHajuVvd7GpT0uO5avxtjv5IUdSPsvpTYamBz5PQ\n",
       "YvD/aXCFTKa8QtK7C3Jo+qmuFwj7+E4N2QqJF4ylQ6+gxHQKsok8ZkUL03S3iP7OUDgMVzb6q0ZH\n",
       "BhESlN9Zn8rPYlemfRnGrj7EGABZ41uWzJAWRPWy6DgkBndfCTpIGUeCf7u9MpMXzS9SoOp+j2RK\n",
       "foXLBtDdjmbjrDfgpvxasfOm78aTpCRWZ1pM9u3WSZxKZgI2Gw3h4U2sCDsRcz7tChEwnS8Ymmi/\n",
       "BT5nc0/LlRwKYo79u0295bpJgIlgQfA47JEKoC9n++aAH2TmD9Q6g2HQbhaOfR/0x822cRiur8Ww\n",
       "ChBTiTci6a3W6lKamc9IRIDffyLk19brrNTLXteLiJPHfVrFuszgDTNP65Hj5RFHuPaTM1v5xJsI\n",
       "HEaJujsaPxPlCTV44YiaSBvUh8W6X0KYel04KpAjblFaYi6htkUEauFj7GfHM4HvGCz2zeh75IpW\n",
       "p5QQltEnyCPznaePJs4JSTXkOUYS5oqjTGV5aOBYAELzXmfhLNFvNugnnDhwH9rIFbLproocQ3Nt\n",
       "Z6leG/qVcIkRzccsqlccKX9wrAlkJPnsWASuYh+uoEV6sCQn5ZFAJAsn/Atrn46rQcb9NRTBwDfM\n",
       "P+/Gc6MvzBdP0x2io0t3wN/+ihxU6hTUoXenK2ecviKHMto/lFIxgTiBLo07QPaNnpO26Hnk9fNY\n",
       "FWA/i//7zG0AHrJK78eUbAnlfgovUkzWEBbRM54Ppwp+XhfrH4eDYHAh37t8RlZZ/gz33oEAEXMU\n",
       "BXNgCylavDliRjzoEhcDe9F2lLxxiZBIes4ps6POZcAneCnJhHetGESx2GmZAARya8Eb/P2hCESU\n",
       "x4EGWFDz4x/4rImrdL0bu2aGcG5js/uTPsDlVedX7H2P+ipCHNx7C3C7FhewJBqxwvtsc+C5I+G5\n",
       "XVCLNoSkwWTSGYNcgzP0WYS9bkDDyrOfpffGywPWd0yZTNDwuySa2Naj8r8iAMTxGbgfg/9hUNbj\n",
       "rJpSVwAdkUUxnBqhJ3nyjKbzpbJaUZu1AuMaQwow8RakCf66GC2e9tUgKwf1bzcBuU4bX+ISM7wx\n",
       "lhqzPdcMdKbXTg49sBdtSDGB7e3gkux+X1DX9szrKpsSlsZB2Ft3DAb/r1tIgxAbPDTLD5dtecDv\n",
       "MorBrxXiYLRBF2G7S78Ey4z6PoOI8qtpEzpGfQsMZDLgupR6HB4Z6pZTQ7AGDwNWpvaG/GtpImrW\n",
       "fbZh72F6z95EdtQBoeo1dFVohUZrrOfJ48dqtUDB6CB9vtyduppQ7eaxMcDyvFDKaJBJvqMb7tVM\n",
       "FbEX70XzlQIUodAqaYmEJHWOWBVxe+P9xAohkvaXESBOr4zowRhYkTJwfga8FZWYcDpV+3U47Kzn\n",
       "tghAaAFjxjTR3Z3YvHDQ+3M0+EYxmd8fP/qX4FEnIBNl2tspr2cY8oJI6qLRchpVL5Gm0lj3wolm\n",
       "w1pZ/gJMPcXyN+1nz7QDyOwe+Rxe7PTXX1rmmUh52HVjF68obvmGcwRTzlh/VX5+UhJhab2dgUMX\n",
       "0NagI1U+Rb6G/pkaIEXxqv0AyHLZtmAr/IDgfwcPK4YoKSOkOGatBrKeqi1zXY4TzHGG9O+cWcCW\n",
       "+QyvnzN/M4m6Xpm47BBf+9Q4+H+XR9+gwSkp+OmucFf0BplAjgHWqeulfqMqfuR35DiuQljgO65o\n",
       "lxBrG5Yk1fv1YQEcHLLZk4Dy6tV243Rfjrpnpmgku8tgOH52pUQvLn03BvhRO32rbxVBk2ofFJ0W\n",
       "A8w2XQfFLpMYo2nAXpDjzM7zGpYbJb1Ne6TSGvOjLevoKjJBhu66TdJXm2L4JzMHPL+YoJvth+Uw\n",
       "wQ26KivaWBgx4LHLA88BqZkqpreolH4DHl7hfjW2Aea/5jo5q7J/esY9EbKtrT8PsGFf8P+TZE25\n",
       "kbDPXHUv9s+awdZSQvSa/nx229Ysj2JwbaCq3AXRTAWtMsafcKw7wxhovws2nsmwu74QaL3wQHCc\n",
       "FmK+T/WTy6s7swoMzpAPw40oz0ubuB9Tvg7qS6t7477cY4ayR+0mjJ8Cx0oxCW4ISsJCgEj7HX3g\n",
       "qa8/+NH4pPyD00lhXKccuQ2Yc4MVV/t8Zx+atOjIadozG43pFT9LIOSkp/8RI9fWk0wGJ5wH0XxY\n",
       "s+wvsdjINdXST7q0tABSb1lyUdEwjC6RUfzO8S/QyaFTFl1qjXQQ1CerwcKAIOG65X5lZ2XXPHxO\n",
       "5Na3Sijf2gKLB8Zy3A1jbGRZmYMPwD6eFiOd+tUFHmUVlzszhw43RoFwPa6auHZoYcgVSTlkMY1d\n",
       "QPQCu550/QopFrR0bLNrJzuEOTZK4gmbZEoULy2RGQp5pPSKFeSL2N10lugu5Jo4VKXLR19oTFk7\n",
       "jlM71VM/vdCEPAOWA5SW0fJ9mtnm12kwKHostjJ6I6UOXdcV5yxOL1dKwK/WE6jTbjvHcs+0zOHj\n",
       "x02V+ZAWFPlP+/vY9OmgvB0F7wu3EH2p/+WhgyK+mTEf+/GrqKSUhVuozqUPPoNdIpqLEdPMtTPr\n",
       "irol+fTMX8w89r8q1o+vspFMtzDzNQ+wdASzdCmGewzYwpNrDB0JGhH+vjhvjNTaUU6ZJqUu9Onn\n",
       "Ha0y/McCXOvNho84arLNpSbqb/wJkgQJ3JZJVOYuk+//wKgZG18eatDx8gKe0bnwoX0dHr98V0RH\n",
       "1OEgAjEgHvNN4t1OtO0WFR8Z9jAEw6qb+WgCcfhe21S6r+JezgjZgB0J2rNDbXxgr5brgj9kk3vU\n",
       "9h2HUc9VYCVeO4nu3HNBWDud/d8L/hufYAtHVbuETy8Rtshd4dWdDuz/JnM9rp5JsYg5nyWqzvp4\n",
       "bjL6pn9OJ4GxeKnuG32ZX34T8VseujVCLLhvHLJToV8TB0X4U+0o0RBKrqKmRakUZ3A5eVb5jDlB\n",
       "wn8PxY/CIUciqDh0/+2SrnKSFe1Q0Ag+lpaV2HMjrQLmEnnL1drRlEHV3Qhv1+le8Y5jZke4BYFd\n",
       "CAHpoDuQKGjigkePB4p7CxY/qxwThwG99+ZEa7Jo9yeTWGx0b828T6jQL79GY8zbawrZcwdKtL6Y\n",
       "k9wi9xbAOEgRVdqRNoucEDS/MqmpO+SfKr+dZy2NICAinoZbU/HiYZbz/SbLyj42t6KV5x0/Dz86\n",
       "0pnEOMvvR9o7QCoqBRCasEohq+IMn8n/+W7avRysLxOq4xJQeupjynO6KvuardrixGuF24vKaoBx\n",
       "cHz0czapHFNV72mgMEC1wonCRMKuIX1+c4Hl9A3MV+XkKZqHMB2p3y/F8FUbcPTmgydY2vSbNNJ7\n",
       "JTY9X+38pZyxcERAmPRjsZsc+PEZSYFbtEkP/4vFnmm6YxHPdbkhYHMStn++LBuP7SIy5cSaIaLL\n",
       "1URPyN5uTyrdc2vHIcHBRXpnXds3VEjXZZAVW+3bZPpBI2isia+jVteVYIc9e7d9Ss3OaXMFTnoY\n",
       "fuq9ndG0ecgX7OmR2o+k+RConn0O+ILcsz1CIt0oQmiSHDKmt7RVPE+2eaXbwK9zWJTdiIuqduvD\n",
       "BZq4J+PbZpThAdiJwT3h8ER1BMgSjmufvis3oydVRPb7tOt688gON0svYWZ3uBRxWWS/7cz5Z3pN\n",
       "ccMCVt0M007zGMfHAkuxBDXMCOZyDV9W8i4cr1jRV7wcgLg0empom8lmmjlAQN4MRwZNxvcg0KNs\n",
       "lnp/nYTUcdCwkullz2xJEEukkRvAn7HBQZLDvMfweIQQ9L+YRBufy7z3FW94967vtagzgafF5OVL\n",
       "v5P+oL5B7quUOl+l3UGwKCjEIJ5/9Mnew5KgofHEJbpGOLPy0HZ2zlJRHxK+8tBFFERl5ESSWMAS\n",
       "LATtIVt7OWph8LEMUiMAklmZYJRrnZwVZuU19gGLUT5Msi7tYTmTsNH39CM2NK5W6oO5wwj6kbeP\n",
       "SKoqVUaHI5NYyI9TxPe0UCA3Wj4XlQF7ETXGY1Z5OIi/8Bu1955Mau2Ke8nK/4x5ZbvyZmcphERy\n",
       "5AtD2uqO2ZeZxeywmopy4P7WEqd/zmhu5iFjF3ucD16ZoxjURppAhnavp2PdWsYYy79QFmpugNRm\n",
       "WDJyzjlfwrH3yY1Bm390GU1Gy8VGcOVc5qaR5aawg9OtgDmNjHutmNMeEJ52f/MYRRB22nSEoVHx\n",
       "XZ5jrTRFe+KpuLKrktQl1dB3OGIsjQbpuIpzL5V9AnJpN05bMauEAt5/lG8nJTdJJysULg8S6xda\n",
       "bpqzz7Ski29lEKhk0+oUAq1YkUEJunPnUmp/5744tpHTYQdTxeSKrQXsDcflXSt6JPO+COX/PVhG\n",
       "1cMk8ofx4TILAm7G9P8qUUQ32Pbqd2Fs6nTzRe7T4b7xY4cjMmSm4BHic7wDVZNFNIao9fnQLs/j\n",
       "+EsHMPF0+kIZBBLIXYINkfMN2QkP8tlHdmyyWQzV7SyPldjFsplDCsi0k6x5DS1pfD9Bs/bOParT\n",
       "bzfCaffrbfqCUpQzEHdVufxeKUUdeHtEgDzkvPxb0dYyKLoHMdwzAKzu0NNB8ZZd1JuqreraiTiz\n",
       "ftt/kXrnxUN0aGECgWolYJy6rOspnWW/IwsvauTbd7TlWJifiVoT6ROyE2prTeBHqJXWImQyvgKb\n",
       "TrfnF6wOojtWEYsNPxmyD8FDblM6IQhMaRZ2o7X4vV/23YaUnB6t9fLR/KFlBIzA0i5scuk02oEl\n",
       "+kYnd02tz+9ZgrVAFowQ/htjlErJCEq4F75CTRhqNl734mbwlAjpVe1CBQ+uZx+ffUow97Re7nAD\n",
       "7r8p5zDirTyqdUYhe3mLVbeXXg2YmGrlm/3TnDZxQ4bKHFPG6VaocQQo73lBVGJh7zaX4crP5L9T\n",
       "5QBFwphIG7NpAXp5VfydCcWngPFW+q0jqRkiLP//NPgfnrr2hD9hhKkpYr/1eJ7qjXNH3HH1f2ur\n",
       "W1LpjJT1v4JTnX2u4r5tcTo1imkpcuk50Z/VzCmOOdqsufD7QWpwbx9nzmb/4ADPiKRoaTwPdV6e\n",
       "WL15QyEJy1RE8dQ/W93q5JQLsp4To2mECRoZaXXlWx3Zsdk2sSH7F9wmIBLwEz/aUyJ5aQhl7nVD\n",
       "DPXpN0BzDDYJgFuWn6wiwEXcBVrmtbW7Rnn+oMC4KT+DKQoShNNup7QSwOy1iG3Mc77U9mOguoQY\n",
       "5f+/DagbPsmBxxiYDtJA4ixY3da7zHTHMgL/Wgn1kap5uilQaEqiFlzrNxzcjqnktjC42Lof5A4K\n",
       "9bEe5yRwidVF6chNog23TrPrqRWBkTIGd6lD6cck9Epgn0Joc6xfffve4jKiy6Di7G2YiW0cKwqV\n",
       "BYVD/+et4+29bjqvNEkAXYbJsZVv3NSLa/9MXzibnOy9dPRVjC694eA63utFdUnRVIwpxYCsBGBE\n",
       "aHfVlLJzjPJM9I3e+mEgz4/9R3kkWzXcn6bKJlsglWRbXkX/a8B268KiojTFgIn/5szTq2Woceak\n",
       "rZXb4tDBEw916E5ccEOcgL3SAr6ohMmA0VS1OK1QnQRAj7XyohNN+RZI0/iIC9dGUIe0YMFhVCUA\n",
       "S16UfKEgutPVG8BNKNh6HkagT+x7af2C0MXJWi4Z/FtlkFDnFR0XvalSCsD8u5/FPMQVNu0vUbFL\n",
       "+HWBQ5jMIRbv757pf/cOGVXnGQ5yADsZnaUEN4BMCe9+zPIhGM3K7H5bxTZeUqIg2dSSEhos4lAP\n",
       "6W1mjXIZ8qObC2DBnZ0q/ZL/YWqhsfJmfw15dCjNfF1nlOQOH8OeddHPEjRdJjYxpdH/eS5VVl59\n",
       "2YMEs+Rj5X8oH/D7dsnNj6HKDHFs/bsalbRZeUDVO9xCUMv0Nrdkv1wSZ20Vqz6eWmV6N/UFeu9R\n",
       "p+e+bgCXKtyPyAGCNh7YHofD3/b1tLpR5n5/rar5pSPUr55xL7x3FboG9vvy68A4soosEnMKCAzf\n",
       "Qe7oQbVAGFfAKcHtJwFl3e7Me5av04+G6YlHeY1noOJniEHyO0Nij3GZW0CEZyw0a8uXLCTTOd0o\n",
       "uPn7ruIW06TUqJtuFZoYKeKX7L+3Xhj7rXpPLLYoP2XxEvAUtcYgRart7X7DVxok/SB28DiFtBNX\n",
       "0uD7eZDs63RawIu56VVjVGOVN4PIVcM5EviEpoEJcVXdVCc5WPVx8u0X0u3dXXFKEffIXEcnhU3Y\n",
       "udX1J5d97HOlBzuVMJ/UzsyU/Dw8+aGMmUX/Rx0AI3py1lrioj1WGxOjvduR/zTFCsh6ImoCrH8Z\n",
       "QWXjTvLfc/lWuW1RACEc38APPcWWCXyzztB+eKSTVTaIVlPXSafEyrFKDXfZAyW8WeFG5ZMv7a4J\n",
       "RSkLiMWwB4N4tSooSrhxO9XukixkTTBk8qIPrn89huq5zDEs2NejI4uoey/fgOLVTkzfQK5zLPO3\n",
       "M2HeED0S1ylrDj/wTKrIKtpfhq7pyJvRTP/5JCbt62Omd3CsZKOEVyJYuw3jS7Mh3NaUX80QHLNt\n",
       "CB9hWO4Vdq3CZKwZNca4Dc5ZYX4JhziAlBDmJhP80WcEat/u8giFOncMPTdDkcZutBnwaeOudNCe\n",
       "FVc5/llEs5okJiRWRd5BVucFEZSHJhKpN4YZc6UhluB6VPIiLV4IAbz3b/I5FlY22li718VvgbtO\n",
       "hSIHZPHUxa84cxyHr471PrS3XCMMB1EJdJS/+Gut8pMPrKv7bRFqKKtJS2by7QSdAbO20adwp0aE\n",
       "K6gQRYs4P8wkvLzmXLGUWvWiwOuwVAtiy9HDQUVO3T72YUS54htoIegZHh1iyMFZkKT3JLr2AMOS\n",
       "ePnM0y3rMa8AQrp4W6DX+s1HYaJjy7KqjsAktA0K1s17GIedFcENWq5Odwi6ZwAAKlQApuAADikA\n",
       "AADqQZojbEEP/qpVAAbzD4ABQEfJUrAXCiRqL8mWvvMtcXxjhu9oet6OCyYmF427sXjGIDTnrzmu\n",
       "11YlC3Xa0I98YAWhVchVh4wDcldTSwXXItc6ehN3VX6xcgWeIG0eW39kyRPgzWWkixG5B+bJj/8I\n",
       "zNlvLbcJlfqBDeEna7akcTsGkJAxAjkmlNheiQItp+NlDvoGzN6zPAtGvfyfUTOVv1FE6K++upYP\n",
       "6uztDrMOxEE5Px8Tx8NuXEPaqej7CzZdttixXPd+ZizpaSwK4LkGJ/X3uOA+j1YelpxHW5cdbpF/\n",
       "YZQ5EVThbriAAAAAMUGeQXiGfwAX34uDrOCKqUDZjgAXQbftyL8CONRiwvPhOdB+nkrAq5OkfyK7\n",
       "iV99mncAAAAdAZ5iakM/AAADAD+Fe1WcOwJgAIR0zbgDwjsAlYAAAADBQZpnSahBaJlMCCH//qpV\n",
       "AAADADunkgAG4O+nX8rD8IiexWdzNr+7OvQ9pNvnmBT6DfouHkfy4ZwqNkpIVJYbPj/apKyLO1IG\n",
       "dtBmMLe5ZdH5ihYElIQjldKOVWTMc73cHRU8dQkWmONi9/aea5XP5RW3EZZvhC8sXX2GbYuU3UQf\n",
       "bhlGE40SXwCUdyU6g/AoK/17Ql6YhrN+3SsRxnJjFTyeFcwBtM973356V9PzJXQsnLIJS2cl6CWH\n",
       "LL4yx++o8QAAABdBnoVFESw3/wAAAwCG16/YmWVXS40ECQAAACMBnqR0Qz8AAAMAGQW1pQAEN8Cd\n",
       "uC406uKAzur3QAB+r8CggQAAABkBnqZqQz8AAAMApvqy3wAbKp4tORlvgDehAAAAvEGaq0moQWyZ\n",
       "TAgh//6qVQAAAwAwJPMMAHSvOSnbSzLuV/fdOOgZoNkjKixvGXVDgkvDaRTjhi1tYTHemeYrA8gc\n",
       "VMx2rAA7TSgHy+SaeTim0VEf8tvXM5VZgAJmeJkbRIn5/XItzsu/lq4dDu8i0dqpelhGWdAxmEjE\n",
       "gz6OE+DXlSPJCkHgAZcjSn2+xlD9EJgcjMBfAsqcUHv3jagj72wvMaz2HDKN9BzH3m19reb4hdGK\n",
       "P3JuURFbNAi4AAAAG0GeyUUVLDf/AAADAILXrpGXnEI63k9W7IrPwAAAABkBnuh0Qz8AAAMAGRQY\n",
       "KyAA7Q+4KgOinwLvAAAAIAGe6mpDPwAAAwCjTmhkAITllJKx7kgk3tF1iPvYAA5oAAAAmkGa70mo\n",
       "QWyZTAgh//6qVQAAAwAThI8NABYJpSrT307r6Ii3dPmukOsVhBtQWkjLZ0Olkb5AiYuDHHhMNbTI\n",
       "lSRWGjaqybHbvNMJDiBX5w5/Eyl8k4XK5CWWvyh2eG2AL+eoNEXi9sn3S9WozrzhRp2hQeQq3YO+\n",
       "wtlaqgcMs5zNbEezXWHGX9AZckSZCxH+jc69uXgNUngAK2AAAAAZQZ8NRRUsN/8AAAMANgAZfH1g\n",
       "5ZzUE9lQywAAAB0Bnyx0Qz8AAAMAQUQKoGADagCkbRaghnO6FHAFJQAAAB4Bny5qQz8AAAMAGbId\n",
       "A4AQfy0Fp1etJqiNU0WgDukAAADaQZszSahBbJlMCCH//qpVAAADAJghcoAmvz4GryZiBczKat7K\n",
       "oJ2nZChzBFbSebCA7e5odYxrRxe0x7urMZsjmcpRkVvXlpvzUSWMf3xr0nSfl5GRKp3Wy5Ed5wHZ\n",
       "XJ4FkskNIZqWi06Wzw3oPOo0MGhTPaNWk33rH6wVcCvDyAPbSSZucb9JUmGDFFJKY1QJiT0eNFJy\n",
       "xEXRiBe9DHQCsm1D0ljcwZ2ICxjGoserUU26NOpZsuVxxIvQiFGJ77/ERstIjN2xLaXgzHKdcFjk\n",
       "4a65yAZO+XsIApIAAAAbQZ9RRRUsN/8AAAMBpgBRL3e16tliXUMtGV83AAAAHQGfcHRDPwAAAwH7\n",
       "x69BjQAlum01M9Crv9T0AFDBAAAAIgGfcmpDPwAAAwBDbykqADQ8pS/0QMopU9xsvONCGvrQA4IA\n",
       "AABqQZt1SahBbJlMFEwQ//6qVQAAAwATA/+oARij5Klf2n21nFNcbVKeiXe6ylz3E6cLrI3bPwcS\n",
       "BIbXoEIPCzdUXOAc3J2K+UveJ20HvFmJbRL2kcMT5ZTs/nXrHzp3Meazn8BlpZQhdZwJ2AAAACIB\n",
       "n5RqQz8AAAMAP31QgAQp6xbbL9h2XDxtj7m4scbu2DTXAAAAjEGbmUnhClJlMCCH//6qVQAAAwAT\n",
       "hAfAAR8gPDbb5qw36FEZQOS3Hr7r9t+PCPQfI7g6MNlOzFQTyot9dVhCKS5dQMX56k4pZu/HPCUE\n",
       "nf7g9SYM8iNifsqW0Vj7AHXucprSjJsH9ijEzPSr1mqTWNJ/PkI6mIv7+1gWyQfnx8GAbS7iDpky\n",
       "f6/hNAi4AAAAG0Gft0U0TDf/AAADADYACiYUgXR1uNStyMwygQAAACEBn9Z0Qz8AAAMAQV51z2AB\n",
       "CG8armSD6QTiQS7FAeBoAc0AAAAZAZ/YakM/AAADABkgZvAAXVDISAEkJwDZgAAAANpBm91JqEFo\n",
       "mUwIIf/+qlUAAAMAgB/9QCk3nJUrlw9TYwCBJcaEIw9A7Iesc1bkP9eWCYeRvrU0jRL2ASF1UD5D\n",
       "0TsQ6NvkDjVzoVAQn6p2PdPpS4gXINVRILMF9+e633+U6SmD3cVpd23MOWAnDTnCQYvZBj2nGC5d\n",
       "S204/NsqU/LRtYqu9739lh3bwH7JYKSgQBNYKDmIIdtwIR1QHy1y9riaEAVOONXMcvfkfJg5fc7u\n",
       "DErMH+T982LWq9lIUAsdruyNKxyafMQu9m+eZmhlO6xBZv4pNMi2YQAAAC5Bn/tFESw3/wAAAwFr\n",
       "efJDmApFPqa9zLLEufZ7gA5s/vzJkQFhW61azoTzQCLgAAAAFwGeGnRDPwAAAwA+GQnRw41xXoFG\n",
       "7l7PAAAAGAGeHGpDPwAAAwG6NZqs4pa9FrIY9CRs5wAAANxBmgFJqEFsmUwIIf/+qlUAAAMAM9S7\n",
       "qACuM5juWuvkbj3BTUXx9wMT1gGphP4L8rykw0oJqbEPY34kn0hYpjik4RbAzKtJfrrQmiq9qK7R\n",
       "s+b800ZCGlYYPw8CyVUqDUPpwZdzcu3sTj/3SeB5O8g76qM8F5NTSWpEmfilSDUoyBWyvtPLCun4\n",
       "MHVcA7KP3IyZwuFE9zAODTYVlYGRVqrQf49DGeJ9AcEpKVbxJ8jiCcrvYqHRXjsce3/6ED/K0aRw\n",
       "TD8V2C2tOFzSG5NIwLXMZqJ2vH+PSVHYQOOOAAAAK0GeP0UVLDf/AAADAI7GmBn1gAvr3l/yBq8+\n",
       "XVK+t8C6e8mZLDLmlY5Q/IAAAAAaAZ5edEM/AAADALEeWMMaA2C2po5T9JtAqYEAAAAeAZ5AakM/\n",
       "AAADAKOoL+AUdLz/ueby4p3uhWUTJFBAAAAA8UGaRUmoQWyZTAgh//6qVQAAAwBECxP0AJ4bkRPx\n",
       "lA1rOL7es0s32tTOmWln/rugiOgGjzKyYVq8izMna+of4ywRoB5aQ6N7br8K9aIHJn1oZUmQm6bz\n",
       "LuVpneGogeoPyHdU4KSBPmMwx+ctfYVQwWzbjrX8lwtq9ehnLt+0sIMIzM2F2Gbg2wvFu3Iowqd/\n",
       "ZCkuExl2/u7EMf0xxZlu8cu7cXh8NscxTPShReY31W6WyzfQGY9VrJBS093yfvKttpRMADETsMc5\n",
       "4BrDz7/+DAZZk2qxb11F0q5+SQ8pmB6FnUVkcewR/nn6FZIzNph8CF0AAAAoQZ5jRRUsN/8AAAMA\n",
       "vxdg3hf6wAVJ7agfQTVjA6zHDBuAWyFgrD4E3AAAABwBnoJ0Qz8AAAMACfSWRRE03NK5rVxFz6a2\n",
       "gNaBAAAAHQGehGpDPwAAAwDoFg8ldyUy/GQw1nz1RMBmkgEvAAAA2kGaiUmoQWyZTAgh//6qVQAA\n",
       "AwBED/6gCgI+SimFn9kpz7mDdhvmARoXOH74cDeaa2y9wBeavMGpAD2QTDBFSf+eAkbkGqPw9tm3\n",
       "B5XmS7N7e4leoLMqzEVMwkM943QVjwgLcNkLauceUHeem6KN38O87TYf3BIHrZHFP9BLbs8cG0E/\n",
       "v3nsM1fn+u/9QJUOGB05GyntpvvD2J7g2x+/PmtVtMW8dOB+ya04k5p7k+ERuIlhbLdDF3F6W+jn\n",
       "/X8TnDwhWav/Mb1kYOdSFWjUwxqDQKLccVJIPE5xAAAAMUGep0UVLDf/AAADAL8AjTn1gAvY79uT\n",
       "Jw/9fjC7q6uj2pGKMkoezYC+g1FXq83Au4EAAAAbAZ7GdEM/AAADAOfkWaMSpcVbD860aY5TQwl4\n",
       "AAAAGQGeyGpDPwAAAwDI/FqGnCKlk2lu251VJpAAAADXQZrNSahBbJlMCCH//qpVAAADAIwf/UAN\n",
       "+uM+zJ0FG/5citRlLwinmclMgzUvhNIQMuddj5ANBI+4G8NkjpKqj3ciyjLjPcIW1gSrpaMeMexM\n",
       "ONJVbunujar+3rDcphdjvmFQ0Y+I9q8hUk0dwQOKIRBIyPwCukasqR1LbcoXArmiYOgq8EpmrFrs\n",
       "r5C7/WoyZiQV5KIfJSytd3BTmr/e7To+AnXDRt9EdSkjTyGIyUpxvn7cSzHDRe4rDVhE6KwucCgS\n",
       "6C9iKvX08le+NIeNwpL5MCLADMkAAAAuQZ7rRRUsN/8AAAMBiPuQAXWUcNuTPAlRidsIShk+Eykk\n",
       "bE1aUD6C19fEJwBUwAAAAB0Bnwp0Qz8AAAMB20RG7ffJrlp+EjTWo8V0tmA2YAAAABsBnwxqQz8A\n",
       "AAMB2uT2gONFMlJ7YEpoYDnwFBEAAADIQZsRSahBbJlMCCH//qpVAAADADunyfADfqwP9sl/wwmP\n",
       "wOeVycKsH8CIXm1HF6cfmArZQbg//K1gTywZnfxBnje+tFaJNfvBLv4ft4T7pKE6j5T29doTQN6h\n",
       "Wv96TR70/fzQ1HkPTiOdb9PFcZlNiw1NrUifEVxd95pCrV74rdPHddKJsYPyT6MFm3wzw8iIrVU7\n",
       "FvO5MAUsMs3YB93lBoNT94TiW7oJ3bjBGQZxYgXgAcFO13zl4+eZM59qBSks6CJWDh4gAy8AAAAe\n",
       "QZ8vRRUsN/8AAAMAqD0VBl1juyOGeABqWGf7jMHpAAAAFwGfTnRDPwAAAwCoHi0WaO6s43UPfsJp\n",
       "AAAAJwGfUGpDPwAAAwDOekAAg6KKeZXVO/blVfKaFRWSDiQvQ6rkfW2MhAAAAK9Bm1VJqEFsmUwI\n",
       "If/+qlUAAAMAG8ofAANwi8lG4Viy38GUHlvLDllMj/dS8lVWY52q7DgxrYdllLhRoq9l9C+DU8tU\n",
       "LpOeMPtCZz4VsSGAMlynC/c1j593mljFDyUhn51id3JVQDFs9DAT+8YtFkohb9fyGbuqXzYJfUgA\n",
       "NJt4sbxFt/wr1QVB0lOr1JSZocnwVmjDfn+RWPen5m6oVEvy2fRM7kaJZSd0zXZ85ALvAAAAHUGf\n",
       "c0UVLDf/AAADAE1r0BIvDa+GB0qUoJyXXYXcAAAAKwGfknRDPwAAAwBBcYks6oAHP19eXOSxEZy4\n",
       "SBFHnRfclLat3R26JPfXafAAAAAmAZ+UakM/AAADAF99iMWwACG+UAnR19hmN6OS7iHtcbpEWx+D\n",
       "QyEAAADMQZuZSahBbJlMCCH//qpVAAADAJxqcrZZAGWXgIl0d585eCf6AREQiATVXE5fOPNKt2E/\n",
       "qBLbS0DTb6loyzN/VOn8SWd3+55GbLAT0dKAAx8N9y5slQDqcY18kseJESSzonZwOpNErGKi7k93\n",
       "m6Q3VpicirQy0xy4k5TqGTDcg/txv9nu3foDqjxE0xAIAMFr/QKlbb7YrOtgnaHu7MgCOSNUxkI1\n",
       "iuiAwJcw6PXcvZJaLirCCbL+8p2ZO6BmDq9IaFEtdUYoX4AHdMTMAAAAIEGft0UVLDf/AAADAa9f\n",
       "gcENZy0mCUschVa7RwYLwCghAAAALAGf1nRDPwAAAwIK+IOACH6TWz5wqDIUU8HcLyCMKBGFP3gO\n",
       "rVx8OoTcqdaRAAAAGQGf2GpDPwAAAwAZH4sd3d2HxaZhiWWTgu4AAADAQZvdSahBbJlMCCH//qpV\n",
       "AAADAJBUxWMgESMWUAIEgnLCs+g44ZyiFWyHJktMJPIbBeahqkAhYcp+dpQ1WJSGVTDDL3uXIZOm\n",
       "PO5GOrmdzn9JtjQ8lUw1EV/7uwD5RPmDRJjv5wY9YAe/dnYOfwofJXhEqSF/F+ywVjLAVOZl1/lv\n",
       "hate44bKkWK9/VwBcun/yjzRY3XL8SeO0Se7LAQC1WRE0t81yRR8nZ1MLBmJzVyvKEc5F6uyGNL0\n",
       "g2nEdoMxAAAANUGf+0UVLDf/AAADAbBTbBp++yONXmeSgA2oKy+4jnMWMoS5VpMbxjCnYgZdRDP1\n",
       "ODfpBgm4AAAAGQGeGnRDPwAAAwAEFefUUqE13TVix7vG24EAAAAZAZ4cakM/AAADAeYsG/fDGGPC\n",
       "eVB0KegnoQAAAK9BmgFJqEFsmUwIIf/+qlUAAAMAkCETUAOOUMVEXrgejoWCkPe6D+rCyNqs/m4o\n",
       "lwC2D3zo5MTL7l7gGj335mh+4DmoAJzcg+cSyMIxE+VYP2bfzMLy3hDKMdbQE/0dgymvhtXpbqkc\n",
       "RR2mBYYXEuIHQgSDQS1GpAvo7FOfUjSz4zO9MRq8iqUFT2DjY48OXfwJYyG6ZGqWBS2K54OsGKhR\n",
       "mXbBNDtapXC4uEtQ3jvHAAAALEGeP0UVLDf/AAADAbBTbAkLgpZirCgA5sypHRE8ja4mZwhwYYU9\n",
       "Ph6JIATMAAAAFwGeXnRDPwAAAwHlyF900RVVd0iIdqqnAAAAFwGeQGpDPwAAAwHQLCPPFx0iWGzg\n",
       "V783AAAAoEGaRUmoQWyZTAgh//6qVQAAAwCIH/1ADmlL5K5xA5/Ow9O6T7bMxOJLK7HRm20bz6ol\n",
       "rLKBnBR98pbshzNbzAukW5gzyPdb09uUulWRC68PzEMmcwSitYa2G7jbSJG9IfSYo5AAbtTPNLTk\n",
       "uEVdc64CcQoy0PVPjFZEOdppEXM8voiT51UELlYX+V1RneN8UDXbgIKc3jMP0DL3Clr+gk8AAAAv\n",
       "QZ5jRRUsN/8AAAMBsFNoyQAP8tdcAFR1HH+XdHLp/4ZMUkNfS2n72GPeseMHpFwAAAAXAZ6CdEM/\n",
       "AAADAc/IWLc7j4O67oh2qqcAAAAYAZ6EakM/AAADAD98hDnPI7n0hbGLYnPBAAAAmkGah0moQWyZ\n",
       "TBRMEP/+qlUAAAMAFA+3zgAVqaUkWduEUAx60v0j5ZAVBJuxN+hjXt7HHusYjMjqPyjBqVhJ2f9n\n",
       "4ywCU4/1N8q9f0EcjoVMqOxoNFCuwVH/18wYt6S60f2Rah6hTf8+35R4WeOLrz4NpeSeTvJ4aE7v\n",
       "068HQOuoXP2ZWLZWJ0da3YgrGR9S+dqwCWuNolpAoIEAAAAVAZ6makM/AAADAENuKyK7kqeVhovD\n",
       "AAAAsUGaq0nhClJlMCCH//6qVQAAAwAz1LuoAK6rtignb4+t/0i9jeC8FqkJq4aP37UCM0Kqc+ot\n",
       "UB4PBjoWuOU4QE6zaqfqALcDrFNlGO7Ds+tbmsaHHE3x/7XkvqXw8b2jbijKy64uH3a1XD2n0L/F\n",
       "RTvA8BoOSIaaO3pVqzGGKfrGSL8X167qVJDhIfRSmcPwTXVUr9rk+NWtv1kKo0NUh5ymjLtJUoam\n",
       "Vrb055+ndmABgAAAAChBnslFNEw3/wAAAwGwQjFGgaTgA5bLZ6EEr2xCSUjy/v9ciw4Id0ZUAAAA\n",
       "FwGe6HRDPwAAAwCxSWRQFfiLKGSdmEyNAAAAFwGe6mpDPwAAAwCxKHH4VCXhupNln+IaAAAAyUGa\n",
       "70moQWiZTAgh//6qVQAAAwA2VCbwA6KPkqVx9xaOzvX7SFR8nGDFijfJ6vRP2PWirwebizYxmc2m\n",
       "HZH3m83R+pMJTAD5tCwmbtAa2LpD936j1BTi9vNZO/5kEPIuHv4PMpPYz8yPLtLGOFAyeOgOuY09\n",
       "xxekjRH0CNouifAOK2i1NFfnCOSxS8IykeJAY8E9HNY+aglmHgRVjY3zxf9xVIzHkUVeN8Eb62Tw\n",
       "jpAFAaO/xUcDte8diF8fAKBOlKe4p+dV3/tjwAAAADRBnw1FESw3/wAAAwGwU1m75E8AG1RyaHVt\n",
       "nyVPHQTA7meRfC88ogQINEM+z9SnblVPgAypAAAAGQGfLHRDPwAAAwC6SYqk0Zqm8SwEcYXEhqUA\n",
       "AAAYAZ8uakM/AAADALootGVyjq9nq4e5J7TTAAAAxUGbM0moQWyZTAgh//6qVQAAAwCEID4AFrvO\n",
       "SqCIIMaIqyb+iuPV+QHk9iVXqgD7v8ISof3lZ0ZdDTTl+lnjrKq043L64hVvUdknlE+vNanpIute\n",
       "1NskyuEJNw4E+8WAPB/dfYUMUHn43OnuiF5bk2AmDKdwwcerd0TSZ9AfmGFXEtz/apNwaWPH6vzq\n",
       "wsPR/zxLa5JS7ZjJQlhFo2EaO6nGnY/d6+B0f78+HiHPIVT1sGAeTEMmWt+YuID3T+bP/p//eW8o\n",
       "AAAAH0GfUUUVLDf/AAADAbBTZ2Zb8x8PCTfemGrz6f0AW0AAAAAXAZ9wdEM/AAADAKyeMgM7j4eT\n",
       "vXLHm4EAAAAlAZ9yakM/AAADAcUsG45kAGq696RpEYtf5Kt4yTOFTgiwjXUfwAAAANJBm3ZJqEFs\n",
       "mUwIIf/+qlUAAAMAgExm78AtSPkqVtjtgVnq2NcRnI29/rGAG8PtiFHimD2cTuxgnIiJ9ajsBnMx\n",
       "AsI7XACJs/y0mkc71NxBTgRME1WitIrWViUlGso4QP6ytelvFLdKOlk/aVzoGwVyPMXHr0Julq3W\n",
       "lIWajSoF2QCHr2OzEpNvLtTnYXLN5DOsyqFw8FRRHgbF1RYRd7o7O9Y0M8pqy/+qBPEb6TJJPrSJ\n",
       "UxaBht/JrJ8ltFYXYS8BgmLTr3NWPSw1vPHd2eHQCtgAAAAdQZ+URRUsM/8AAAMCC68MBZ01w7XW\n",
       "WyQW4p3gDgkAAAAkAZ+1akM/AAADAAGwNY3T4ACBdZ4ndt/6jJmNeOWEVooPuVXoAAAA40Gbukmo\n",
       "QWyZTAh///6plgAAAwHzNB6AgTsVR0nxRUHvD0xCbzCyYs2SC9UoQNFqi3Gzgt+aTzaJEnGFYe+O\n",
       "wxri+HO5OBok/CZvns9sl3nWjjj/DGOsVUbTkZnSQKz3Z+qxtOB5qPal6UcS9SMQ1PJ387Bs2tih\n",
       "VYW64BRrBS+WGhY64tEfxQxRe8eHWBOy3gB4VC48rygEzlKAMsFo70Z2gb9OU135wDHWgTF6xuDM\n",
       "NUpkBj2SQgtmo0xpbKx0he8JJbrIqe/QwQbdJVczwAcr+/0H+iwL9t56B1Qfb6f9EKaBAAAAK0Gf\n",
       "2EUVLDf/AAADAbBTWagyz+XYHoJltmm/OP0xgBKowQ3Xc09EGcmAWcEAAAAYAZ/3dEM/AAADALEe\n",
       "LgKEy7SdLe7r7SMhAAAAGAGf+WpDPwAAAwAKPAanXZseC5l7livaaQAAAEhBm/tJqEFsmUwIIf/+\n",
       "qlUAAAMAAAjCIGoAN+qldfn/IrnEHycn/Pzw9UuH5471tdb+fv2pVg8CfY3U9PfPkPmixezz5lPZ\n",
       "FDwAAADlQZofSeEKUmUwIIf//qpVAAADABOD/6gBD6pWZPf+ehz9+eSf9S1pLyAovPce9sdjFncT\n",
       "HL0lePzUJg7c5Yuk9wfPcYlEHCA6Ss1yHNuE5e8rP6pZvIxo8JgwVGjXeOz5E0w97wVcOmP8BiNe\n",
       "4zWqZ4e1BQrDNOZIvA+W37J8GFpQn7hslZJ+Yg7TqlZPJa7nZzocIWK7nsrJMN7gx7SL9eTBEEU4\n",
       "zqPqcv12492YE/OcJd4n3HREpN302E09/z0Atc2mMf0pP4DUXt5YPeP678V3fzQAMwBZksvoPlfu\n",
       "WKlengJgXQAAACFBnj1FNEw3/wAAAwGwQjB+sH2VNRFlbmEp2Dx7ksAAQcEAAAAWAZ5cdEM/AAAD\n",
       "AEFxpSFrAxQnUqj8DQAAACUBnl5qQz8AAAMAJbKacACG+cFoM4H2mb+5BSP9gcUtzGix8EHkAAAA\n",
       "wEGaQ0moQWiZTAgh//6qVQAAAwBEEAzRAIpW9w3m60/F61DGE91amu3fPe9eSTD7eHGrZy5y+cJK\n",
       "mqb/ZRGMmUYbJ7Qux/x/tjEfhf73ZHy/9rgEJ1/e9ttIl+TvIzoiBDi0TIh1fQkLEGgQjCZvWDMt\n",
       "GS50uahp6Ai9KnRP/dbGi5wI5Xc12HK9uxAEFX/gQ/v077VDtxbisWIvyELTL70cQqdMyPEIkXdm\n",
       "ipFUR7U6EI1C5iHoK6TXPzL8s9ADlwAAAB9BnmFFESw3/wAAAwGwU1pjDOZmn/C+ENqE3Xp7YBLw\n",
       "AAAAFgGegHRDPwAAAwDiodos0VLkQtLEH8EAAAAWAZ6CakM/AAADAMQaw+D1QW5C5xcfwAAAALJB\n",
       "modJqEFsmUwIIf/+qlUAAAMAkCCMQBbmvKwv6kCuDvrf9aaJ77UltqBIC9+KpmMFWih5AZIinc9O\n",
       "/CJbMf/LqRIkT7+0ijyAUGnNgd64+PRfny6WYZEaWw3ontJP0jNrc7Lfj8Hsb7120zdZl3uVvss3\n",
       "ajONefcpxRCtiHZJf40chBRm4Yr6WrF46zi8OamR8A//8zopFEOgXDt+GQ48bupBugfexC/hmj09\n",
       "XCgpPzqhAAAAIUGepUUVLDf/AAADAbBTbAi6uHSk6g3aGe6d0SCV50AoIQAAABYBnsR0Qz8AAAMB\n",
       "4KDMUpByXDQLLKvRAAAAFwGexmpDPwAAAwCoQGj8duS7XzTq4cYhAAAAuEGay0moQWyZTAgh//6q\n",
       "VQAAAwCYxgn4AginDnF+6Fg4B+iS2iQ/GLI6N45SZRjcth2+5+ct50EuCWfcJsPc58BQrVr8CDri\n",
       "tXbVeSnw0n+b9jblGtCE/xI/9POiQn/oozxl5UlDsIndb/QtanNdFqRT0vKe6cUs9QqRosNJkl3j\n",
       "aht3Oxb9AHsjP+ZEkROsnwuyiI+E2b5vUdd/oi9lN/Ij5dmON+/F5InV28a6pUlYS62leapRTcAA\n",
       "AAAgQZ7pRRUsN/8AAAMBsFNEowC8En4T3Mnf41mgzyOXBNwAAAAYAZ8IdEM/AAADAfxDQVCPyDFv\n",
       "B2dyt0+BAAAAFwGfCmpDPwAAAwCsqHH4re8NTGlmxOXAAAAApEGbD0moQWyZTAgh//6qVQAAAwCM\n",
       "IXKAFatX0dCuEAAfd2eRs1Ver2cKO0gZCsAwcIL6sXS5w4lwAZR823vRNtpsKUeljiAvpAg2QZpt\n",
       "fUbexejQQsNmz/DPT/+iYwn/OK3J6xXvLpfEk693cPl+C6V5SuuRsgD2ou16OPQHbEC62Lj6fv5l\n",
       "mf9V5aM6nV4y3ePK5CxJwCABLJMHklOYKbaOlh0wAAAAIEGfLUUVLDf/AAADAbBTakj/HtJvTZwL\n",
       "nZtAPjxXcgFBAAAAGAGfTHRDPwAAAwHayF8s0NbxJUt8dk9PgQAAABcBn05qQz8AAAMAo6hyZstl\n",
       "ebnezGHNwQAAAQNBm1NJqEFsmUwIIf/+qlUAAAMAjCCMQBHyLoh03DbDbUnbRhMlCoqmktZkjBH9\n",
       "aKXvyFPc/di5Uy5V69A3XFxhNE4mxuuzMciR3N5iO4MjhxoVrQHr9vTm1zFmVyaifns0qfYNWdCs\n",
       "7IATcB7LdOzuWGxqaiJwAqSewuLwWXRW8S7iBQdYsON4qnQTT8p7JK+HCf0tlCHL2W591T2FB0E2\n",
       "sWNWJwY+JpgjelGtzow52dzID6/Rv7MQ6JA9FuRyTYPUprM09uob+cKbqRyS++1V0Ut1bUf7Pvlt\n",
       "oo/YU1kYtq31q4K6y5fAGy8m33j2x0xTdV2sE0qvuPPfKHrBFbrsA0aMAAAAJEGfcUUVLDf/AAAD\n",
       "AbBTalZb98UGhOSov6OEbXn5hWb1koA64AAAABgBn5B0Qz8AAAMAziUD0OJTWYWvOIDsWUEAAAAa\n",
       "AZ+SakM/AAADAdrkM0QbAwoDW392jMaA44AAAACrQZuXSahBbJlMCCH//qpVAAADAEIP/qAHSvOS\n",
       "pXOIHOHlnBOqbClun2uLNjHLYKVU0e9HIIvFxVPtEtuSCZ9QG75epO1rni/JHndntzFDEBSkfH97\n",
       "ySUzK7YGaXnDgd3mmHNvVOQnf4XhzrnlUBEP6k5XnL6J3LOdKhLwFUvWq5oYVncS2K9O+6ThHUSu\n",
       "JWRSOoAFPmv06ykE8PV8Zwh0QzRM1DLukLggrKl4AAAAK0GftUUVLDf/AAADAbBTWmRwEVlNkC7a\n",
       "l4hst+vHIgAOgW4AqWHHgMQsA3sAAAAaAZ/UdEM/AAADAE+PF7ENi72tFsGQasHoA6YAAAAaAZ/W\n",
       "akM/AAADAOKWDOtxZuoNU6w6KasDAl8AAACIQZvZSahBbJlMFEwQ//6qVQAAAwBAEIsZAGWXlZKT\n",
       "LNuDTI7pwXNPtCBLppqWg0mVuCdvVQmfFsV7VcAYeDFqsL4JCZxD+7hlpXxdAgzo5r7tcOjbdayJ\n",
       "pgUvldp+rD2HmUP5c1Rde9vcCGAwTbQyZxayvx5RQJKojf3BhPVcThNmG3ych7qEjQAAABwBn/hq\n",
       "Qz8AAAMA3PxjpdPo0gtXAvDlhMYAAFTAAAAAukGb/UnhClJlMCCH//6qVQAAAwADAUV5AETVuuKI\n",
       "JME+FL3Q0pGmemLcSrO+03RRLfx+ubMmBIJdZ0cwh8Mw9p5SEmPgV69Q3OvElBPkLof/zmux81Iq\n",
       "3rEXqZNOYmlb69HHiVpIEadN7lElDz4M1G9Q+KNcpVptKnzPQMXbE/wAvO9wv4vGI6BwPFfv0//J\n",
       "OHJPUsFCoL5HOEdXEB51xVoQIVTheYmi2WPQOViDvPvgJ3Q2FjJGdENVpQAAADJBnhtFNEw3/wAA\n",
       "AwGwQjCW4TZbOOE+ACo6yvtdVV22/heRnR5RdjEHiyJ5/FcIFewN6AAAABsBnjp0Qz8AAAMAT48X\n",
       "sU0lvtSfstY0T+uwpIEAAAAcAZ48akM/AAADAE+gNRa7paYj5FSv4YKXx0EDFwAAAPFBmiFJqEFo\n",
       "mUwIIf/+qlUAAAMAiCCMQBf7zjMs/yFmg/5WKtpATi/syhmS6axT7HVi0PFb18U3xKwJgHy1xz1h\n",
       "iyNvoECBrsv5VXHbZxvyGy6mDYOztero3DWsjd2zUc7tQiFbBHX1Sd3cXnxFLr6V9a5CZZpLptMa\n",
       "Mnfd/NVL2fJevyr4jVQGMzpRR0x27hs0XR3NnYgloM8tanYxdiNkwfNlF7PsZPYwGZ+FC1YEpui8\n",
       "9jnHBJ/ik0wN5WS5rI1bjKGuck8NKSCqp89zMAmSuMD2AfgnAlz8O1mV+zmg0bLE5ZoFPNpPPKwC\n",
       "OT83QiaYAAAAI0GeX0URLDf/AAADAbBTaNZcIC40ZvB2eDhaRExaawK/IHpAAAAAIQGefnRDPwAA\n",
       "AwBPjxcBiG//YKm0YAIQpz3V29a1GDabgQAAABkBnmBqQz8AAAMB0CwfokXKN4XKNmkfVouAAAAA\n",
       "ykGaZUmoQWyZTAgh//6qVQAAAwCUID4AC/ypjPzf9qc3SL6PeCoJQUn5mY3ItZNL7/+evyGR1Jym\n",
       "/CtZgEi8zHMT4JKh6Q38pZUOEBeFDH+EQgUtwurIsqozZjtEsqmtlNTGfH4qxRw36ADOxQiA0Im7\n",
       "v0bHkAWWy90uxkpGWVHs7Pp1BtChHRc9NEosytHKzsfK0fVDU9Jh1UdcajYHpQls9njPLdAZvp4h\n",
       "IyYouufDUaH/FFeoa5aBDJn9J2j95Q9HgQEpH69c8cEAAAAiQZ6DRRUsN/8AAAMBsFNt7LtpX10n\n",
       "VwaiZ+E1SgwmYpAK2AAAABkBnqJ0Qz8AAAMB8UO0WQJGZ8IUHytUJhlBAAAAJgGepGpDPwAAAwDX\n",
       "oMHAwAbUThc+NZ5T0xleAQf6KItbo6WEiHSNAAAA4EGaqUmoQWyZTAgh//6qVQAAAwAACpeV5AHM\n",
       "vKnfGBwjLmU3pryGEttT/4TqCp93QQ9M51rq6sz8mgzAGGiW/l154+y36feMZ7N5QpuYKfiWqGdC\n",
       "uAwxvGnsMXCD2cYi8l3coOTAP4vxtXkbtpoqJ/BaSupcwRAsa6pwcqJyh4Xa1p3YTfMlk9acUHk7\n",
       "z9UC3y7/3XOLtYmznTrUyTkdffamM+/wSQ1tIW+dVJpOka3XbXtEZuG10lS8o4M8sfDjZFprVvKj\n",
       "7GOsZlPqz/KLV7AG9o5ZMzm8R4iEQDXZYzO1AAAAIUGex0UVLDf/AAADAbBTWNjSWI0MaTKB5brO\n",
       "+LemyFmGVQAAACEBnuZ0Qz8AAAMAT48XAYhvtlnMAARB0MeIGv7/qsZie/gAAAAoAZ7oakM/AAAD\n",
       "AE+gNIC25KbA8dAA2goO5R7gdvDvCvZ9AhAbHIVn3AAAAMRBmu1JqEFsmUwIIf/+qlUAAAMAQhED\n",
       "UAFh+cX1Z4DMY+RXku8d7TFMQ/Y9nmRp1x6WbWuuOJ8UvHFbtibfC00i0dWMlw8acFOrAp2gRlMp\n",
       "yhWCzPc29UkbdNn2BzOuPWhGmlSqEto52+IuwSER7L8Ba4vZbuJKj1OU5p1odGjGwX8xUZX+f+oO\n",
       "aI9b4EIO6zvbd8mW5LTR63Uvg4c3ynCNip0y/Ej+7b8Z+k9FPrxWTfkVXTdaaVegnywpMl+fXTlc\n",
       "TY2VAAAAIkGfC0UVLDf/AAADAbBTWmMDC5ONygEkPoTBEnltG+GAHpAAAAAYAZ8qdEM/AAADAOKh\n",
       "43Zoi3P5O9TXqPehAAAAGAGfLGpDPwAAAwDc/GOkuPTgfqFjgjBZlQAAALtBmzFJqEFsmUwIIf/+\n",
       "qlUAAAMAjB/9QArqfzChgwZkHOLVDbJALFrdHKlDqfxAQsnCmbtWco50P8GBkUMTLP0q+7/9VNGp\n",
       "VvsRX+iwHTrrBK0z4ZwPvSvPf7YKYr6Bb5IVZYJw7twypGFvHHV3C/1E16y0v3JZheW3RBk0UeVC\n",
       "pI7mGbd0oW2gDS++HHp8ZTmxxpWZRmPrv2gSM+qMdEfLy8FIadjEK5nnFNAin2+lCfPTL0IN3Z1H\n",
       "sBhRAAAAI0GfT0UVLDf/AAADAbBTalZGiYQJAvv1NGtiPcCubKRGoBsxAAAAGAGfbnRDPwAAAwHQ\n",
       "Q8gGBpzU01ebMgHBlQAAABkBn3BqQz8AAAMB2uQzRBq4jmDA/1dxVgEDAAAA1kGbdUmoQWyZTAgh\n",
       "//6qVQAAAwCIH1ygCIrFuKKvcZrrAy7hd3g7EpoQLgAZnwCX+FHJO8TAr0etO7RNDBAi0d8iW+BA\n",
       "WK5x62XahiRTpN5fO/6TPCf5dGhRv4X6WzkGM8bKR97E3u1FLWaRexlUPMpuKgeNQkefbsyHyxUU\n",
       "V9sqH+d1qCQpUoer4lPaFFSZfHl51qiBbDOVCd+oXbATWw6tpIL8pDYdtSxhao5VT0BJ3OvbwtoM\n",
       "4SCC/iPAbunyIextdah1+VTWk1/8BIOfxa5l6LXwGVEAAAAiQZ+TRRUsN/8AAAMBsFNZ0CZ15Bcs\n",
       "ONpmiWRXyW0Rk1QC9gAAACYBn7J0Qz8AAAMAT48XrJH1gADsjIqyTmVKLib7zwlztFmJjyl5uAAA\n",
       "ABoBn7RqQz8AAAMAw/wINOJbC+Gzyhuri0tPgQAAAMhBm7lJqEFsmUwIIf/+qlUAAAMAmCEj6gCx\n",
       "aF8+7+8ntzF1sLbAtaf16PjL+hRkxd8IvzT/qmDLv9Mc4EfclzjMG2x7xrouXYhyZpnTuTeA6Yl6\n",
       "ISMbsdvNDLBYUpvRiKll8r4lQ065pHgLTqiBDIA9wFQE0nxI6ATTDE0NHolvjBJ8mvlaU0eNcUo3\n",
       "9plrEsedzh9v+tNKfzffbUs22vk6etIQMx5YUs4rO4fwYluTd8/qaYAlpjFUKXNEeYWQaHSHrBhG\n",
       "YIq7gAAAACNBn9dFFSw3/wAAAwGwU0uZNKGYnmgfG90YklSVc/HBE/AKKQAAABgBn/Z0Qz8AAAMA\n",
       "T48jw33Hd0bKcge/gysAAAAaAZ/4akM/AAADAfwsGdVmGaa7/XZID/uAccAAAADjQZv9SahBbJlM\n",
       "CCH//qpVAAADAIQgjEAhHz4GE9Flj1Zt/lxWoSCPr+pqRFGCb19cHIMQAr1xbrtny2UlplYtv/9k\n",
       "Faadei/L8UFI+R5Np7IxNgLNkFLW8CiWdgr2dMm1YmRT3WgM3r3IkY+BtGs0RGPNS0vYAifp5bgz\n",
       "p1mHdtE5VoJZ+sqfS9wObPAq+t2S62KXWDZMG6Cc32PtqZzcOQUwg2WCVJZw//if5GvJQwmbnLEP\n",
       "IdJPyWig0R88RC4t6f7y5jRibK2r04dZz7ube3FUPnpmL2xHrXwPeFW8RNU/Br0AAAAqQZ4bRRUs\n",
       "N/8AAAMBsFNnZlpuTLDM7fmhXDGnrcCJS4AKjqsxaLcdFAFNAAAAGAGeOnRDPwAAAwDS8JIBncT6\n",
       "vDw1oAr+dwAAABkBnjxqQz8AAAMBxSwZ1YlnlqOvxsz9IgFBAAAAwUGaIUmoQWyZTAgh//6qVQAA\n",
       "AwCIIRNQArfwxIYn61Q3z8f/2dldsG3syHdZ4RLUcOFpl011fQvDeZsNTL8s33qMEYPvRRBEt4GV\n",
       "fqdHbbSmIl4Z/PY5OdG2fU+sbiZz5AL6AlGTPv6zCm+sbprcVGVuuKElZmlun3JpVsqZvoePap2M\n",
       "tcLDSexHDpCsglKj7GBYTF78jInLK95sPNtOBlObPkccKRGPRqLSoLN+D/5hr8/sjEZpS6jS6+Ac\n",
       "hxO444AAAAAiQZ5fRRUsN/8AAAMBsFNoyP8t6HFcaHypzzZrhLzOOBmBjQAAABkBnn50Qz8AAAMB\n",
       "z8hOjv/c15suIe1wtgFtAAAAIQGeYGpDPwAAAwBPoDX52bnUwAA60ZoXmAv5Cl8PxiZkIAAAAOZB\n",
       "mmVJqEFsmUwIIf/+qlUAAAMAAxUMa+AQq85Klf9/KVjJNnqVvAgLanqMvmbGPkbdSsiD6oZXQtlT\n",
       "Fq0GDFULEdkuBv+PqPAHQnGPPJVMpYOXaOXAvNoAVqEIgmi7bpQ33QzPbEXPnVV64JYCXGsiiLLb\n",
       "bGlbOqyg8rFgnza53qT4aZUTDBWi01MK58hvqDRnym2p3D1VYZSp5WXdr/j4aixcilt/rpSgj1d0\n",
       "j8qqtnPyQzXBqAtwy3/TiQkIWLBW+mY3hPuvRTeeV/90+tWT7RU6+muUJd0DwmG0yAyV04FkUnKL\n",
       "aQAAACNBnoNFFSw3/wAAAwGwU1jY0lkpYrrYK9Y10QOYFrddfOO56QAAABkBnqJ0Qz8AAAMAT48X\n",
       "tY2LtVs+w86oynZDAAAAJAGepGpDPwAAAwBPoDSVvYsfVAA2gjTE7rbEk55kMByvH2yTSQAAAQdB\n",
       "mqlJqEFsmUwIIf/+qlUAAAMAB6e6PC8AQj56n5f14enFROTmKtwbsVJT86HmVKLwUjkY5y+CsVVH\n",
       "PL5IAmcbWDM6EmBGl22rCEUkst7tZnNierrgln3QKbPRGDi3+OQOSOxKGKEcS0h8vG1FifXBhHaR\n",
       "umYtbRuEwh4uTd6uAuJbBBlGbfVE1QoLDa3wEbfrhvvMX2VmcN6rnUCyB/Lv1g8RIuByiUZKaU0n\n",
       "3kYXyjHL43miRsoCRRb1ZlyRi0U5GztJ7Ifzbxm47uo0SJDd1x/IHUeEnv1I6VVc2Q7Xv/mblOMG\n",
       "ooutiYkm/fg9GyLEzD6cbPj3gvVC0TxLxz5Pysrior65BQAAADBBnsdFFSw3/wAAAwGwU1jY0lrI\n",
       "NBAFWq0JDBKAClqfS1R0aMLzfik2nBhpuu3ABvUAAAAaAZ7mdEM/AAADAE+PGMeWF6p1BNXumr+K\n",
       "A9IAAAAcAZ7oakM/AAADAE+gNLoYtjpM4Tc9nP1KYwnAgAAAAMlBmu1JqEFsmUwIIf/+qlUAAAMA\n",
       "QhAfAAR8gRkkqZD61YG07peSVH2whMd+/qEHAPmTVRMce+znH8zfyJ+Qp8XKTKuqjg+BkEq336TK\n",
       "sW8rJ0k0qmlju+dY2rCbSAXvDQw5Q3PZsUHxt39jNyjZ+46AHExOh+aOPXpFFaY2Sy2E76QSFc84\n",
       "Ry6w5Jew6GwJcWui2rGa9WXKZ160frks6M/m/EciEo3Hm/L/kln0bxfA4/qHPP5FX5wzmGJLIscw\n",
       "xDJv9seJRgaWLS8AAAAlQZ8LRRUsN/8AAAMBsFNaNwvMNs5ASWxBVsS4tdILXRWLz0CVgAAAABkB\n",
       "nyp0Qz8AAAMA3PCMSLto0Ic93mYkdkNaAAAAGgGfLGpDPwAAAwBPoDSK2RfkG1m0mEwtSAVNAAAA\n",
       "10GbMUmoQWyZTAgh//6qVQAAAwAC7ewQAAjKtz+uzSNQGGYU3B0ec0CRJBVQbZ2YYGPYHsxGwkcY\n",
       "w/GjTd7vdHnTBmNKuShJ2RdZ4RGKb/OWWtq5Y+3Vamuw0w3n0XJ9I3+NjT02NZUtAHCOHWQgUvYF\n",
       "eYCb1dIcjLeY2/uFFzGyD5TBriDFxBipcmlNfreUAcy7FNCg/xXvp6Ou2xFtL3MS5LMI1q3ZIf9w\n",
       "2eh8LovE2YixIiOBmKCBNI+dFDAmKMsHFKfNcEPyoz0a3SJ7zS7/mG/0i3t7AAAAJEGfT0UVLDf/\n",
       "AAADAbBTWNjSWRssu3x/VT9XIEOWLsJX6teCywAAABoBn250Qz8AAAMAT48XKEN8M6NvOLYCfmAG\n",
       "3AAAABoBn3BqQz8AAAMAT6A1EtxZXs4wBuKH4iZyRgAAAM9Bm3VJqEFsmUwIIf/+qlUAAAMAAu32\n",
       "+cACE1yIwlG/i5PbWWOri2/lc/CPiFkOlD00QrQhTUGA2XY9ygdnvIckCBWAHPhtA5M7c016G765\n",
       "e++z0g/mnbLEsVFWr3+oj5UpNXlkHcpPWIm3x6owF/Gw/1z9RtsMG2XrKhmQiLmKMRY+fFtNtjtH\n",
       "KvFqT0yMvrppqFVusHzLsYBwjZRORpiW/Ij/b6tFxYG3gV2RrrH4JvtyJbAzzcM5wuR4+I5uVj3x\n",
       "Gcw+M1/1dxAsXXgQHYEAAAA0QZ+TRRUsN/8AAAMBsFNY2NJZGtAD26TGOfoAB2lxYui4IO22I4lw\n",
       "gnR//aGKOYui1BgPmAAAABkBn7J0Qz8AAAMAT48XrI3qs6NX2nPf6cPSAAAAGQGftGpDPwAAAwBP\n",
       "oDSGgbU2VjzB7P1Ug8EAAADGQZu5SahBbJlMCCH//qpVAAADAEIP/qAFdVu+l/f+ajcTIT1/V9Te\n",
       "S76sXxPDzjlBfKzC/uFBAu5UGwSYZlwRszDL+YU0Qi7tGS0RcLyXs6aRyrl34kBR2QZAniH8lVST\n",
       "abHXI0UYZJiKQ8mtGu9tQhW5W0gptbIdg4e+1ojfpy3CX+ZjADGO1kieWOLKeBBy5uK22SyyAZzH\n",
       "SnAQQVuBeIgcV/buogbtESC5St+9P72Cv01I0XE5rCma/SOEn7SkW9NwrLePAAAAJUGf10UVLDf/\n",
       "AAADAbBTWmRse0nG48Ztt0ANyJ/PhJ9KateQGVEAAAAXAZ/2dEM/AAADAE+PFwiSmDEj2RvZL/EA\n",
       "AAAYAZ/4akM/AAADAOKV7VkCVHEfNFJP8JlAAAAAvkGb/UmoQWyZTAgh//6qVQAAAwCUIXKAHMlV\n",
       "BTNSlpxbUx6kyGQfeojJ5F3TgfSPJePBIVu74cCHRu0ffQjecs5zxjzZ7Y0FUnRdhvDQlfPj8eeb\n",
       "9vOQLSoutNl7aMDYIAgzGqHbyLXQHPs4bBNxXbB1d5r/b4pMaYDj5vNs8CMmLvQPO+1y+mbX324T\n",
       "GPg/gmUFHWCZgdcHijR+vwOwDkpgoOsGE35F0Z8OuDFQXkoOjQJD0rHzNDVWExf3qYEAAAAvQZ4b\n",
       "RRUsN/8AAAMBsFNt7LtpX7wmDxm0qHHbfdUp15YAMIARR+NBnCEx+s5gP8AAAAAZAZ46dEM/AAAD\n",
       "AfDIWVhvRPistx5FZVaqCQAAABkBnjxqQz8AAAMA2Brx6EXHnTIbhXIoo5UFAAAAsUGaIEmoQWyZ\n",
       "TAgh//6qVQAAAwBAEEYgCPkXkqV+xjJSg1Fm1KYASp5do7HAS07HBmZGFynPlx7D0e+TFlKmUb4H\n",
       "FlEbrFKWwBos9pGGdpdQ9siHLDaXPKJKrgipScYR85bjt9PM+2GQQwgfHlC+KL1hE8ZEQ5kEzvSJ\n",
       "/nPsk2PCSVn2qUlFDpreTUc90RvtGVTpZrSp0vsvjVrzjMl7U4hBHdiiHpkU1JIJLTnCGLO/zAAA\n",
       "ACJBnl5FFSwz/wAAAwILrvLOO84pamvI7Avqhq0KVSJJ6BnwAAAAGAGef2pDPwAAAwBa4EOkXy+m\n",
       "Nqdo38lXFwAAAMZBmmRJqEFsmUwIIf/+qlUAAAMAGopLUAK38t/9e8RUIAf2GnnUPshYneWwAneA\n",
       "BNWistxZsXrGPZyalGGyxxl3RSI/vjgh17AssVTGnMT4YVP+6hlBAuDVCiMRXQop8Fv3HaTdVemX\n",
       "r20o0Ei1oAJSrp7IwXsO0PI0lSLfuGQTrezkcHWPJBRuiT0XxtnGlWf27mReMFbSwC6Qqeh5xfNo\n",
       "SAGM83NQB7rwRvLfEsA7RnBm+0fJ/GBv6/EVILvrtItxoNofwy4AAAArQZ6CRRUsN/8AAAMBsFNY\n",
       "7+waaWP+d5SWLJCE45IAOcuBrxGJ8JEG6gBTQQAAABsBnqF0Qz8AAAMAWs8ASp1eZKsteIJCxie6\n",
       "B/gAAAAZAZ6jakM/AAADAE+gNRLciurD1SWiUFHKgwAAANtBmqhJqEFsmUwIIf/+qlUAAAMAQBBG\n",
       "IAjetQku4wd/XeOcy1g+3AJcIPTU5V1Hs3vfOiCUkkxMBXG3K351WJ/Y6LwkqPD10mD2IkxvoSbE\n",
       "zAOBgBVAWCCzb2A8tpGJv3UkzsRa2lJWeElmFWLhDXU9JV7Dl23F8jjvyk3N0sNp1C6Vj58lAfu4\n",
       "599rXM5hWCBPs2y3yys4wShA8OdMZsF4sDTWr+kDhXwyu6DfCNEVNQ6DBNDAOqmxkiHIW+Q5Xrln\n",
       "xJWIdA3Bq1itKwFaf5dk/HnFfM4G7kPWYIEAAAAjQZ7GRRUsN/8AAAMBsFNaOHDacYYwQKXass3x\n",
       "LjLKp+S5OmEAAAAWAZ7ldEM/AAADAE+PFwGIb67RXlT6QwAAABgBnudqQz8AAAMA3PyTQbNQ0pOw\n",
       "XQ5CGUAAAACzQZrsSahBbJlMCH///qmWAAADAGonhzgBvyVV7t8/9ItrDspoHT1SH1OsJba3ip7j\n",
       "+WRgygeZafr8+NTnLGgNhV+9M3WJdXwp7IdlRMnt0pGV/HK8qjodd/flcKFE3kGViQ8LtLL18mZq\n",
       "l0+9tLB0bBiR7Xlkaosgsx2RocVn2ZVfDL36opmtrMO8T291KBCvc4RviB+LFuaxQL39ruCOyXRO\n",
       "E7zXtEcifYk0jGEKU8tRXsAAAAAhQZ8KRRUsN/8AAAMBsFNY9O1HGlINEaQn/oR64hSEgLyBAAAA\n",
       "FgGfKXRDPwAAAwBdJN2xEx0p9Qacc3oAAAAeAZ8rakM/AAADAE+gNJUDX6QAC8J9ZaqxClEMuKCA\n",
       "AAAAh0GbLkmoQWyZTBRMEP/+qlUAAAMAATBBGIAce8qi4W5h83TjPaZGXdFrklFzO6bCrsfrrI1T\n",
       "AMLzv2Ru/qZG/cC/ClseBMaSTpbKMJHW4w4s+ism1W7W7zFPaXmgm0JdHJcnVPv3rRYyxRF2GtrS\n",
       "4n8k0Pzw6rAJHFm1tS/XYdsRbzNDv9wJkQAAABwBn01qQz8AAAMAT6mpYQduGCzxRL95RHxEtezB\n",
       "AAAA6EGbUknhClJlMCCH//6qVQAAAwCUIRkmAOWjFpaly03HGUGGrRuvPjB2vhfykloJxLzSviw4\n",
       "Xa0/mkfII9P20H3OoXKuVqSBx4Zy0v1SiXPK8nHMBqaQzQZ++XC8R5gJf8GEHtqOdZG6++LaTbHx\n",
       "9fsJIu9LZ8EGaLX4IyxoiTi3bOGS/4Dte3j6+7mHSIbQOBoVu7LDL5bZJ7rk5KQlh2kJEDj+ydI8\n",
       "XI4nkZR3QQNplNN6HDU9vKYDbbNfhbswIgrtli9dw5uzX0pzssy8UD1I0tvoCWQzQH5/vLHnTwyG\n",
       "ERKtRRBY2CEAAAAjQZ9wRTRMN/8AAAMBsEJAFlrAT+ZEc0zsV6Q5agJSdq4Au4AAAAAWAZ+PdEM/\n",
       "AAADAE+PFwfyn9DIpA40wAAAABUBn5FqQz8AAAMB8SwZ1ZIJiW3ADKkAAADkQZuWSahBaJlMCH//\n",
       "/qmWAAADAGUubY+MPOAJ4Urzv+C07FQ6pMkG9VJQsLaBb0sAFyIU9WM1qN0GKjcouKo+gAxmSeFW\n",
       "Lr56DlRaAERHKS+uExU2zoYo8a4i+KGbeHu4VT7ZtRPbpT48COmnmebj/qrU8fdN8jRyc7orDcfL\n",
       "6ayOR1KVOXMBUmyKXmgARe0/tC1aEkDQO+g9sBcnaUX5Q5oEASGGGXiQQj9inaH8k6yLgEZvaBU0\n",
       "Rk3uMcqkUIs5XTly9KrVEVzdEzhVrsCTgQDx/uARN3uk8wHakxUrkJsJP/W3AAAAIUGftEURLDf/\n",
       "AAADAbBTWNjSc9wCAR44QvkH7LVy8CNDZgAAABYBn9N0Qz8AAAMAT48sYY0TVIUTypmBAAAAIwGf\n",
       "1WpDPwAAAwBPoDR9ylGFAAbQbbu0K39y4+8yENkv9mA8AAAAkUGb2UmoQWyZTAh///6plgAAAwDZ\n",
       "Tn/AF6JXrWbOe6ex3Rq0FVTUJeIEQ32Jl9B8zXSqCcDtx2juSQ7YZRDU32UbiUedePImJeVpbdIO\n",
       "kDEHBJcqP/HGxacVkLDkugqtd/Y+5lLAtKmZ+BF9g9PEVTNT2HcpHkY1QFolAgWlNgQoeNkqao8m\n",
       "rj/HmNWZ9UIyPyMAAAApQZ/3RRUsM/8AAAMCC67xz8yXcAB2gD70hS8pZztYJuqf4561AJL6A7sA\n",
       "AAAVAZ4YakM/AAADAL78XGwbqEqZ83ZgAAAAc0GaG0moQWyZTBRMEP/+qlUAAAMAAHoQeeAG6It/\n",
       "9cQcjqnBimlP+YjVzrBr1SA01ef9aUPn59cWbGP53VKKtAcNfFfXGB6UYPtHxdhVyv3ZzuYZ+9Ya\n",
       "AzC2Eu8QUpKj7TxrXVEgQOP/KBRGPqQiZLPWdocAAAAXAZ46akM/AAADAAQ1otphglud1Xz7CNoA\n",
       "AAC5QZo/SeEKUmUwIIf//qpVAAADAAB6EEDQAOLZHIA9Ym5qTIbWCJXvbvdKAUaOHIDkAeHnQSOA\n",
       "/xeF1YuGsTz5DjsrybXtS8oUiwlEjTWpMT00Mi1yM4fVKtNgqcSs3vy0MqunhgsaowYf4Qs9oajP\n",
       "RsQinhOQcMpMk7H72X6cZd/Mq4FRRF6GWjmddl3ZDdPxTXFxpW5/56z5RAia+zpAmwogL3cQ0RNy\n",
       "j+wqhuD3K81BxWHijKrQNoEAAAAfQZ5dRTRMN/8AAAMBsEIwD5XJLBr75Zjn2spqyCwrYQAAABMB\n",
       "nnx0Qz8AAAMAAaXhHexMoq+AAAAAFQGefmpDPwAAAwAAS2LO2W9MRxWQIAAAAMdBmmNJqEFomUwI\n",
       "If/+qlUAAAMAAEoP/qAFT4GpEIsPkObV3VYmK1SP3ew04svQc6QwpOTHIIzXF44RqxCU7BQpVT1y\n",
       "Kvx3GBeeLoo8dyhstESVoRFmrQ6Y4avqmZ+YopZcP1Be/Vqa/zHsWxRjJ5tY+W9o0CwibPOyB/nf\n",
       "ZsWfiJVU3sNduIuEFObBUVjDOP21nY7012mhvecADC48kPoZ78y0LW/KhDmLIqm6fPPaNdHYJY8O\n",
       "oyv0q+74NPynC247ceK/rYLPAAAAHEGegUURLDf/AAADAbBTWDUqSrdZzZHuPkV4TKgAAAATAZ6g\n",
       "dEM/AAADAAD4od8PbcfpgQAAABIBnqJqQz8AAAMAACfKD9oam4AAAADwQZqnSahBbJlMCH///qmW\n",
       "AAADAPQdFzAFu2LsQAM6sT3RyABR7ik5h1cgciB//WQXVuZQ+fHScrRb1xf/e7tzRlhNFUkPsQI6\n",
       "ieNY/EXYRh3f4SM2Uj/k30/sI128tSU5usSVqwjCHQBEmy8ssVUBdju6Oj336ILTx+2APooKiWeB\n",
       "otaYHUulX3837HnpZZZU6gyO1O0qZerzFTjSNJQ2YDEQkJ4pFPTJYFwQPFA5alfkYEYYJvlVXDv9\n",
       "kn1ueOMQwwC/iGCP2Jm5PAlXHGIGD3NbX0XTHFRrSjOI8JfMuLkUxFszEJMTjxgedEMT4U+BAAAA\n",
       "H0GexUUVLDf/AAADAbBTWgsM1UrkCQ4dV3rGJnxSCkkAAAAUAZ7kdEM/AAADANfwjf1CZdnVxsEA\n",
       "AAAUAZ7makM/AAADAF9+LHcN3Rp8lUEAAABwQZroSahBbJlMCCH//qpVAAADAD5nkgACu6Z7WRkX\n",
       "x5ttKslEZWA9VUnbX1BOR6RVHt7W8iOoXqlL9R17wkWzKbNOI5yBR/V2rMWIum8fRCeILGrr8f9O\n",
       "xR/xn6VRbNb0cOMsQngoKzFoUqlbPVAKYAAAANVBmwxJ4QpSZTAgh//+qlUAAAMAAB0kMzoAcYjJ\n",
       "P1VXpszyhbcxZaTRNCEW0+AbEpSr8tTCbY3BYr8jH4UmdRYsoeeNeelyrL/YpHpXi240yHZx5QSR\n",
       "LBdK4oZ/uTam2iwAUPHrxplCz4ZgTuDP/KvmQBCmxaImcEWKcICYDSCGLrWflYJqoWjqmk1mp8mQ\n",
       "34sI5i2li2SDFPifNpWqmDMbFuSym0xIjxLZnV/hJ7TIo/I7eFg6zmlQwgE3nMjBYDhzqntNWqGK\n",
       "F3dZQfvSpPG3d5pliO0AAAAdQZ8qRTRMN/8AAAMBsEIwD5XI9dr5p71xHNwgdMEAAAATAZ9JdEM/\n",
       "AAADAABFXn9tNonMgAAAABIBn0tqQz8AAAMAAGSNeLHZyAcAAADMQZtQSahBaJlMCCH//qpVAAAD\n",
       "ABsqE3gBGV5YHpDkhynr5kMUgw7bWlgpTC/zHKV+ngWvsfwa/1jEw6DejYnGm7ng+7aWKG0fiW9a\n",
       "CM/P/lajB2zbM39DkVWeUQdwgJvR5D2w0aQ3HCJdYRs31N6UVYQZty7lf3AMiigqK6yu9I1IOMBU\n",
       "DUaIxAthDu8E85JU4QBAVWfdMrzkN7A/Z++Oa10yATzp/HzSn2Ynr1cAx5slPeNRixfblo3Z63E8\n",
       "cB4uh5tMOmR7wx5cRhhRAAAAKEGfbkURLDf/AAADAbBTWPUTcCPfblgTN1iAAdmZO7p3FHvxbwa5\n",
       "+EEAAAAXAZ+NdEM/AAADAAQ2pjwu4KerCOdcmNEAAAAWAZ+PakM/AAADAF0gM/VJ0UHCiuBFwAAA\n",
       "ALZBm5RJqEFsmUwIIf/+qlUAAAMAAHdYYo9+RoADhE+6WNnAV1bg/rrR9DtfTXzwBeDSRPEGQUGH\n",
       "DSEX2teJJhtlkeTf7UwDKDuOwBE49E0W4Aapi4GaM3Q0bAYPUs3HOmul8YjlbHFthhM9k7Dlq1fF\n",
       "mKRgGMjKE6GPnsk1UuaBAhTcIj7pxiAuHicBKEZXD9VSzKBlWt/TUhqjgHSI+L1u+6vmce+Uci9P\n",
       "kBR6tLakxoaoROY/MgAAABtBn7JFFSw3/wAAAwGwU1g1Kkq3WY4Y2jZuLqkAAAASAZ/RdEM/AAAD\n",
       "AAD4ZAQQ9KaAAAAAGwGf02pDPwAAAwAAIbFDUz7AAc/6R8bNsyBrggAAAMVBm9dJqEFsmUwIIf/+\n",
       "qlUAAAMAAdI/CAAnhuSpXH3GTuW9fsmaJ0Lp/rEiBG/hgessaoYZK+0D0TQrf/jT1+6c62Q1yEN+\n",
       "PuqvJgiW/0YZ7SopyuXKvJrwhCnji6AIIFDz9rc3XS5at5NDOhjREwc9Y7X9iuz/grXN9v2Ka+4n\n",
       "PFtoatINQ0IGD8mXS2g1JzISNv3tF+XKtLwC/64Ryw15KWtknZQuk7s5i2ghuZ2OndPK5CAqoWf9\n",
       "+dtRkib1U9sATZ50jQAAACJBn/VFFSwz/wAAAwILru4YtxZHDZRfi9eXn8FZwTnzQHTAAAAAFgGe\n",
       "FmpDPwAAAwAGSNZqxGxUZbmKf+EAAABJQZoZSahBbJlMFEw3//6nhAAAAwA4hHHQAGg7HhiVeine\n",
       "8PAr5hNa2yfuKcoFCzAbilEnObmIazcLIsr0ICUCdGdT7Hkxvn0qmQAAABoBnjhqQz8AAAMAGSNe\n",
       "Fs3FDMY8ibtqGEgakAAARD5liIIABP/+97GPgU3IAA2XOop6H+EVsfSQUXqx2aBk6gAAAwAAAwAA\n",
       "Thap3vm/XLQI1gAAB6AAoiPen0pY+IBL9/NACzE9bnhR+wRFCgN6F6q6YmXKY3umaCAgySzVtL0K\n",
       "1IiOvRC8OUY/fxw9Sby4wTKftJgphDj+2C98ZROVwfhrsIlQwCowf/WkJF8T2DuRqXhdWM2XzNmZ\n",
       "gK/tslie2PM92/O89Ca5UNdiZB04mHwlHDHkmo9T+h9WSWQZx/e13GNuBzbUO2q523gGVZt50AOC\n",
       "5ah04VfVB09HFho4o6o+oSXdiD/kgAEJtOxGR6RJ0tYMgJWdR3MNgyh9rLclUTZVGGT74avmxV5C\n",
       "f3Voe6ycv0HQ6WA7ADxoe8857+CeTWI51Bbd34Qivy5i5rpnAdiEcFVgS933KwF5s2/WiW32advl\n",
       "IVnPWHl51tPZBJhOcgL5otxzFafQ6KfOnuaG8xZsXTC/tFgQ7EQwkO9E+THFZ7jNl0R9rK8czVAr\n",
       "fbuejroEgWEwmGWj+aIy4zBuroDixiVS3UXDAFhGXBCkmRG+q9ry8GNsvDG/kkPZUa9anaoPucI0\n",
       "2WT6x55xQpJh5JtBDju+16S66hm8QypoA4B15K1Ih6tigViJF4jEs3grnmBSkRIwhl37fJr2mhAe\n",
       "yLC4/Q/lJRiNZL+p6tskkURdEc7pmtMENm8cYDE8nYL9Agjysa75HUi2T4yc7BZ4EWwQPHDJciCE\n",
       "hmEHfTfc3W1n8GnVIDXUy5LvsV6Df9YVLqQ37oCmY5KTlf6gfGuomBnlf5+tQh5jnGQBHX8Ki4xj\n",
       "EPN5Vcrh8buFFpo+3TtAS2J87NeypTHOEtWp9qumkB+GMhbF/yUgLIEC0Rj6jfzf+gbN+gQ6AtAX\n",
       "/BJJh7Gmc/9Jq1LNLwYglqSEccKSwyDh2RKqCHXswn6Js4eS9iIpLp4aTCdDl1P0rkaqfSg8V5P1\n",
       "cFPrUiY2PogL2B2V2CyuYGwQlD1HhDjpjSrcfZl0UKFhPWPFF1refENO1L6fD5WX9aDdsMVUD1KH\n",
       "QnzKz/RYl74F6HnlXJ3iDtwk1GSR948p1Q6quCMccNtuDlCq5sEBpvkSBuhlddmynAk1qboE5CNa\n",
       "cfQR/pK6bFm4qiYsIDfy9yZZ6Z2/Wvkjr2+RXti/k+5TNpvs/LUUGDFj6NtbaHb/FYs6wAA+rtvx\n",
       "80SKWBzKoVt+f/0GbimXQhpcHjEUb4A5zxi7KlzDX2WGebWhOMtM4x92hR37j3+OSMgZ+LEdi9Rb\n",
       "qEvNRpLahsdYPhxBkXWKlsfWpW2lvi1vANXDL/uwT6hqDBOznw+RZrah3qFhorwdA2CZ5F852QhW\n",
       "KKWj02wGOc3r6IHaCHmK2pGaw/2t6Bx9sHJ+E9yf2LoACefAFPaQ3VH/cS4jDEM6ufZnZqJOalVZ\n",
       "hdfmrkB1pFtdT9BBUBN+oax/WPu6h1K2uNiENcy9uqnjs8BnFSyHj2OQdjfRbpntdeMtJ6JqI7Ms\n",
       "eGFHF8FaDhvYXSleP4T8LFD+mechPbB+mkO1e6HBz7r0gBScYXBXvtTJyKcfqxnK/IRVMtO77EkB\n",
       "5Fh97vCiRZWxY3c+s34WDhSxF/WOSSuKYFeplhDlVv+n/Wk/m9AiIvG5/0fwlhChtTzP2Xz9ybwF\n",
       "BYr8pe7jtQXG8xLCiyoG/RWWYyoRzEQeGav+TIRE8fIT6F/mdOcz/lCvCLQezhCDEw98sNVoUFZf\n",
       "xIRM+D+2issNUUByrCshtHKUAGbvCuLAOlHzsVxprEXdHox4Nfu6aj9kIo1RuTUVUkT/jwoctiGY\n",
       "9GcDpDcKmBcBa7lY0p+3B53VWtVCYrJX0cMQQykFXw9SEm1HPjMlru7L+IddJkr8h9roFYlc2z0H\n",
       "yu7xHCBswtT+X+PFIkWAmG6f0LXLp35Pjjg5cqMjScSUf0wpcRNkOP5pwFBzyP5XNI/l9xaoCFHi\n",
       "xQU4m1RGVeciC0TDfVQavK7cyv0W6J8J4RVyf+4UnMKJoBhGvKI1TR4ndxbKRPrYa19kGszykqAw\n",
       "EgHX7e3qUZRU4Dd5W9PS+15WKZOiVG6AE3FlcOfxF6/2i4SO43pQWb/CwE6BODBeN5E6z2kSdgi6\n",
       "MvWqHMLBalLgBug4AoVCg0sheMAm2zSKJPvwFOC19437MZM/lUMnB3QdUvOvqfE/do0xnw1TKrTZ\n",
       "lKRig/e/r61EPoq3/4q1Cu1z7HjTYEt1r4GJR02Hg/afrY5cO+v8OK1C6PnMlNYLVe511MRs9sxN\n",
       "JqNFjGO9wpl8MmCPw2uAfmCHHDJ50sHv0G9yUgwFjdldHiDZzZcck9I2iCGTYzYtiaJIau2t21DL\n",
       "d/5aQWYUu8BScEX7yZrqWfxluimpcdWDUoNsaISSW7aq1Fr6rh0Devtu5IscoddCZGRgZuhpRhyy\n",
       "0uEMzriuCdAYfWcj3PHmVeSuoQf2mM1F3mGA6EzNEKRo7CIuMaT+9oatbGekYVbEDY2sHgC3YcJ1\n",
       "mQ9E0LWZdptN0ZqztYzIJGOatfTD4fklMp/zDvrGwc/pbPoDNtxlIhCBMMLmfnNkYqsEwRB8OmY7\n",
       "ueAte7Z3KCRbzdnaVuWN4YXiAZrNkuYHJ0fEesvyU05w2HG4TwKhPrc9hUYNT2X2g1Ljce3e4kz+\n",
       "Cte5urRRaE1G27Lk+KDQanOkG173AkTzJweMATgmPFvCUSCtBkcmhLXTSBORF7GOF02O1JrGmRGf\n",
       "Vquj6BQDHwo6yoPcztCqzf8MHQskywwrXhL/4iOLGDajEYSoEj/OYz2qSD7RnIUgzabL4MauqKFk\n",
       "sJ/bdRdVOBtbuMgwfp9G5k2NAG1RVsojZ4J6U9DsCPfGYqZ1O+bcMAQkWwOhBXEIQR8YqWObkdXV\n",
       "fiuLHceg70xUgXQgSfuBsTI2O0Sefzzu+eYgiAbmzuxxIY2p9TEfY6j2sbn+usSpGxBrCSUZxAEV\n",
       "3k1pneZ1wnRgENw4D3kimeNXoHO4frNsgLd3VS4/v3rpUp0WzAxRZA8X5J4qDozHQYbGeK2yEcqm\n",
       "hCLaRzGJB707QK3vjBhWmp2dtahYqtM/zHnHKl6rVxLw+0gBi0BXqAcyizT4aA8PHw5cyuJYkLW7\n",
       "nEX4Aj3iQjyPF0NCHqQnobhEIhwexMsd1tWBFsIWZtN06gyEe9XVyNCInrj1fDCU5v3SUQhd6jOZ\n",
       "422fTUBHvwDdZ+Nd0z4YyKGdq2+ulO5r/+2lQdfD5GBNgPpkWQv/ekwK+5ae1pUhmC//L2YJ6Z7a\n",
       "QmCy5twrOtliqQ9yvm5bduiDTX+K4r9X8htOPShoM/bab92rs3j7rR8u7l5RPoJ/NU98rjZY59Sn\n",
       "+oj4KlKH6TTt7/cyEygftt0ucu1+EKUH9L1cM8ntzOgp8vmheNy0SVW0uotmHPnUfKLR7WuiAF9I\n",
       "phUjW6OutHrzyQYZQOa44pf7kI/W9M8b1rRWSpTfci0uTBseTjEDo0cqYq29kiU0FFg7RRR75jLs\n",
       "W915Gjp0QGteYk/QKu9FYWoaigyyuEbOWUbv/ydxncFagyF9XcsZ42MUs+gIjQaNjU0um7IT3h5J\n",
       "+KJSHD+uTr9sUSdx2fd67OsFPSKB0HTWlqgtRyZUJa0YlQ8YIgsajF5YwH4XgFBN6TFeKpNRbzAD\n",
       "ExB1m1ie2ilE/nFuAFtojYwY4H2siwKQehM+lPjbpd4aRiAaa74Ka4V6mK38M6oyYDu46EIIDf+p\n",
       "QHkIje+8g7WaNELjm5NnsGTm0Gih+xDlcaAXp5isw4v7rRSvbD6MJY8qaSb+/bZENZ18iBkazvuV\n",
       "bA36DUcQMGNSSTj9ZEkYhK0JsdvH9x+UMF9nPNhaQ7+ZTVwq5+CYgBklaBPmZKo2eVToRhP+bCtX\n",
       "90R0HfsqQb1pOUITbA/q0byGEsfyCfMRS4GsSDfyM8dD3kQHppY5X9a08SAVb3S4Om21FazOrQBo\n",
       "iy0kvUIwtEGbVoFlItJT/51TzoSkOZij0n4+mNr3giYnE/x4p7t8FCiR5OzhXd0KloIb8MW6vMMl\n",
       "Y3qdIWLhATNHjJC9utharWkeZh6oyKe2Kl/fcoQSXN2cAuWLDOQuBsVJ9nuzYFrcbgGVMBx+7pLV\n",
       "iLgipkQlXyHBf7Fy/XPNnzwpBX13QXU/pR5HeeE22smSALikeNrogmCPWpV2L60O3stA3TXcDcK4\n",
       "3BQQoRymEkCaZdSuC8mweZZhLXB4pOb45zve0pgD/aMYYTGHDFiUERDfLpnyGcRYc4V+oz2XWTxm\n",
       "cdfDvAENSCitY8oXzypKH3UR3uAGEOmQu2QUE8jS11chG0V4zJvRy8D5uIf4Q742tbBGyj5fTLWw\n",
       "ZdGqAsjwqygLnh93Zy0GNhnXy8dcbtV0+K+OpniFFsz/N0pvsdhZOgY5D7wZ3F1yRVzBJDVfJUkl\n",
       "7vnIF4l+AdbAp8q7aUt7gqGkEUV4ABkRaFu84Q/UQWsWn+vUKgKPvVfvGM+mnfFuBMbcszl7sB8H\n",
       "iQ7FVbJ2x2MiFVQ6OBXwsqxonf4rURldi5fjYYBlLsbTLJTYhqLLvsxu4jDyBpXxQwHMunEbOJ/Y\n",
       "fR6H83SM5d2Z1gKHs/EzTh9uq5tRr5vX/JLCBawHZSqVIUaMIdKE35wGkTOZTtyNzPsZSM2+8WNH\n",
       "T2MtCPD3IYWte22M0hX1D7VArLYvNht+tBaL4VFHA4IDJuCuaA/ZEexA4M692Kj3VTH0a/8/WWbu\n",
       "lxLTbWxFzGuEqYo2E/xW8z8W5srXoSM7Ax8zvTIOrFxA1IQ90i4HhtS+Nm5nRl882ZnrAud/l8t6\n",
       "R+n4Bg171OKfpPBxmWyMbWhnQTl3u0yzHqXYx1QeBXIkHBtQhzYA7QL9geGS+OT5tWwvfZEZsql8\n",
       "cslfb1TbMG7WYH93HsRV7IjYGrhsttCIKmrj64U/VejmPFmToaJsGZT8y43GJt+qy+V3Uaof2DnU\n",
       "KYQTyoYwnbhB6OP6JKsR8qeZvdu4h8KVcOiuVRK+M0U24knM2kfnmH55ok7al4iwQLp2bgDpAv03\n",
       "UzPpaFkvcseY8OLysdM/fS6/5NrRVJlPdPxbWTcVxaprhpxKauvnjCFWXzYmEX2d1Pi0x279eWri\n",
       "+BhlntD9QFM2y3jkTwPZRHLI1dlwEUvk+wayZnRPuBe/w1xTQ3eDFoQ0XZyOYlqNWahoIjgUuRAV\n",
       "ZK7DmB6DXq4Y2fgGQ55uPNf4Kwb0m0XsTXG3IFrHy/3YX3BUFoQEA+IJsOf4/ZVDOO15ZLRoDV2Q\n",
       "rXce/Dw5UMotDaGfDmMZrWY11p45AvjRjOnfBKjfbZa6nHVNTLRFhd9tpsoLyojFE1AHEqYFIl0R\n",
       "ASYNYIS/GWYDnp3wLRqDVKZ88lRYm8Uri1oRebNGQQWWmudEiW7MX+InO+oFEGe1vo/kSuBt4WmF\n",
       "noAU4k8C+yjkidBVutjcNrCr1IQMg50XS6P8vV/QWIGCZaZ4HS2IpdQ7Hy+I1NrLKl2depjXqhET\n",
       "q1V9sIj68rLQKa+OXWONXlcXspLlC2cT/XSc1rj3huebwBu0x/eIgDe59kZPUHx2zxnDyg3KIF2z\n",
       "Wc80/qaz+8ExZZQMkHpbgnIxW2RRq4ASfh7CM2EHf+DO8ginqRylhM8FtCNJbjYymYvR92V5RH58\n",
       "ixckuG9YvYaiJg7WWLAOu4I1vQPmwv0imKDHRJ089wyiuLmJfHHygr4KeFrH92nz/MPid3AcANPq\n",
       "5cG3VtWEchdG0L4xr7DC4mARYjpZ13Ebtww/NfhjpesyV/lIPscWGp63O2kJZ4uGVm/Usf9Ope3t\n",
       "xBwSd/BzP3wFW95l1arb30uHsJS503zSo+puogBxp9jQA28ZvJFTJ33jTbI86+LNiZ0GSAl+Gc00\n",
       "2rzmGcqBs+BTR0c2o5VTej2zCVV2eeUyZHoCMcqKjLA2it5qUqu1z2LfmhxDPQurW8tmE9MbJ5bq\n",
       "qZisZYCPaqoctOJKKIwr3GVQWdztEuD7AgZcf8twLTRIUirboQoE1roET83pQNYlbtuwIIrumKp7\n",
       "Mpbs9XzkNUVehzU1eldfWNeAEuZvPhSvSg0RwasoJI9dD2cdmCG4hxTKH3xiASBBl8WwaLN2zPg9\n",
       "npBZUO+elWyqqkipZRxbmF3GKFIEZI987Hfore+QT3bk2uzjsIbpBYKlORR+ulDX/HvtcZU4yvZG\n",
       "FBy2Ycyds3LmO7nmm0ZhSZH2BDqIU8GVMh9ByjnuoZYZjTUjf2gDqj+graQFPEaxrsgSz7IMnMDq\n",
       "Lg4Ql3MIbDeMLvJkCFFSlRGAd4Q1E/j4ivSrHm1dmaTYpzk3DObjJnldUpJccIXyXnrsErfThvtu\n",
       "WmjDxltZxHUwL8YoaM6hWyr48AQCqumsjNr7LwQRhj/1HJJaZBU9G7MPYDgv56JHrRjrGuZTSmL4\n",
       "/Tv0bywSrarjB8jRf+9qCNC1W5KhJ37fb/bTunLlfnP4nX5xUsDCclEeiUoQT4lpe4O1BQ2hrUFv\n",
       "wqZwMmpSn0G1JMcrL6Fuq8haDIifWL9/FRegQbOnhgmR7If9tt0xEUFWn2mIqstTWld33yzCFljd\n",
       "ji7O2mMM4jq+gSfykyI5KbCq1pL9cIByhCPXpcqg3x53Bs4p4dG1B7KY7EaOWsrbUhcWFFRBpqg7\n",
       "Zb6CJpcJ9lDv1Fz36GTktNia/6UWuTDDu0q7S4x1Qz0Xrpnz4cdlY63N9hY75lQ8K4bU/t9Wwx7A\n",
       "qIWekx4pchbi+lL5AFJi4Ou6CAUUdb89wCRVsw6lcvfnQPGOiEnCbJ+FRbrjQCxW5okbRAkmnzXf\n",
       "5AJMLns0iUjXyLybEz1zHWzLeAX6ZZNYuBmwRL936V+zjqMPZaCko/HY/9sJgjBCiyQ5Va4d+I+B\n",
       "bog4larMoiEGlin+eGtWkJQyYP/yMUVdFC6hQiN/juZKjnbq3bs4kAbYodfsFKxEcKo5P/MCuTCS\n",
       "M5EthOMhdUK1dGl62jxlzwox8gzchRLo94+d24nRDEce/T9MrBxkrJRzyYHTb+3umwg3A8G3tT0L\n",
       "uDeaGxE04AboZZa5mFMg+0Jic7tjeVCQBhl4s//hMnyfiWan7utb+QlKYoMRf/WRnNmJjCOt+/X3\n",
       "7tLiKGbrVFG6coyJxXALVU6PVc+I2VuacuBxQeeKE+tjafOzhJN48AN2GDuLG4PtJiZ3jR3cwwJ5\n",
       "BrDutgSwLZrv8ioyOBcalWeNyx91tv33xiUEoREXiCU5izc0HZh2MBg2UYAYufAIXbeZQAfGoX7I\n",
       "l2pMb7N8tm3+PJ9hGDn7+u79Se71wVh/mQjgmePfx+PcH7uENzOBg675idz2FvOfHio/mFc4u6oi\n",
       "Csr04cd8hLGvQH8M/LG7RoKu0Uu0isMxhCVSTH2D4jNiAJ9kRI4G4GBpgXveNGZiPO+G6lLNIpRi\n",
       "Ji1enfT+uPWpTHQ5cbEyN7CH4sbsNXy2zgixEWGnc2ZhPf3OqnRZ+V00/fi4WtBoqqY5HmEfK0al\n",
       "c8x5q37bD53fmFTB2la9WtYZECZ7ldv5LPD3MEAAND/p1mn4neQQewF4NgTuzet8H2fylCIgwRIJ\n",
       "pd+4ZE3dQhZDowthdQ/U1STd8Bborstw4VmjT4lpatHB5MsXDmrByQbOanGyF7c+JdwTOAjSNN8B\n",
       "/IHo/BH1wJ3oQe8rIl57VDUZ0MxbCmRhyesoGUX7edtZAuyLQljj71Sfm0Y5zX9tmWsVzBzP4dK4\n",
       "vWyCvrF0A8eC1OrL3ion6akWRlxwKC4dGlRgVk7XI6KMsYG+DL1p255DDyEa441ju2a+spJTIiHb\n",
       "/grhRrEGw/xTArPrODbrE31flgnjkjYlyelGoWVcEUK3Ela29HqieGTh1T1F+bf6tYtwyj5IUXzA\n",
       "LP40cNHMI5sJN4Rf0IUAyA96ONkiIv45N2BJAvrGTrxvPGybuJxev7305Y6I7zPfGNj9IAmTZ8sw\n",
       "WtKFsxl1At0sBN8S7tJBCnZMTDG5GH06aPh9lJxXZPYOTbWDQ6kSDKSnxWpH+h3GUFIxNtdI0EV8\n",
       "D3C6WNWU6jzSwd8jtKtmj4+6ebYW96UOYnBsebcAwloIQVzdeYdNK9664aIWG7icfuK9AS14Xglj\n",
       "Tf9JCdxtir52uY1Fww/1ZxHcqjCTfhCL7ycYjBBIk1C7VTl9oXYLlPpKSg91NAx0hpcOqcATpT7r\n",
       "0Mw5woCA0egULNlacELRrvXyDVxp8oN4VntYR03096y+eYixUooHuX1TwfSrmTXl99SJ74IoQHN5\n",
       "C6RUEZK175+ked+j0uIW+EGbbEQtcpCHKpzZYrWXgTldfSOhW+DCvZQvF9n+OMk5YLMiY2sHyKoy\n",
       "PQjvvZdBp8kRxjayqnL9+tv2O8zv+mNUCKw30Mj8x3KWw8cap84Crz2NnPch27/pU852yQjX8KaT\n",
       "DC3BVo0jPVKBQevY330vfrwl9/l70I4KEi4xwZRkMmPmLv5We49r/DocpEMiovXhu9g0asAT8BXi\n",
       "AazjUhLj69+7GHk2SyKHnyVcuuVWWdXDBxiXHfoJSQcj5+sTqV1QByo+lhd7eJ4xpWSmtjo7Ky58\n",
       "sscIXrgjDUmKokw7OHW88SiDl8ysZ3u8x+ciFwF2yglm+egMO4ovOUZn42pYN7Vn/+697OdFlelU\n",
       "RHc87E7x4lWKgX58HGuXbTZ/goTBZ1ph7Snw6tLhNZ96r/Gx+zC9aiCqj5u5yl7PPQ9YjN/2w3l9\n",
       "HGFzICSqOTT6QmeqDQiUJkXhPl+OYgKG4n4vJ8I2J43+yuhqrNq3sXq80iy1oKQMdh1gsejzRpt5\n",
       "OgF3j8QucdLGDxkGvbsx/nmv6giTMf4L9n1V59gMV61d19lwvESNodkPcN6/kThTkUcD7tY4UwzW\n",
       "uR6aWjdOaXgU+Ioz6hcNBl1WjAga0PYv6a6Stzky3zEPp/WQlpVjnDoHYfCVYSsSO3F+trP05RQN\n",
       "48rVOhB7ZQVGs1zYCea7VPv9gvgymAF5t2Va0kKCPRXV1y5ZraIjB4cTyaSfLJs/DwU9c5xCas26\n",
       "n+ZRkNBUDVpSCtBmn2dHPzVEt282M1QvWMnmHvZdB0Q9AsO5Vb6URgJf/KlkFHcyFBj0wCcQbzwt\n",
       "3TN5tupkbMfQH9QAPcZddUYPKlywojrY7jkfDEJYA3otqvXkwBzZ0TbgkURYqXwgcnGpjWPdgXHp\n",
       "FP1Pmit2t8Poq0jlwtNODT7XAgREBM3uKhEobOWlDfOmdiSOZQ/D4tbkDBAhSqYvY5NjhIQcM5eg\n",
       "tBW9Af7ig6QFVvH9wrWliXmKGn9izx5vE8ycjrt5dUgrsAfHLcFH92dIGw2R6gO8iFBaQtNcjQeB\n",
       "hEu5HyNZzB/qCLndqCckkwzTlqNnP27U01Ni18iuM953S29MHZRWesI2oDZUj3IIiipIxfMzIR8a\n",
       "G2GmsxK5YAd+Mgvlx9jXX9v2v5gmTi5MPMDSf5fM37bKFCgH5vCMyINxW0T0Eo2FsTUAUlyT7GKD\n",
       "8oHd+Haev8Veehxd9620GEPrtrSKWU71bzjtreGkcfFpw/XciTEl2MsNM3/1kpeIGK9jyV4LgHC/\n",
       "LKZiZMRdIEzr6afirwyvcUkpxTIzWFMHTGLKT/ULEujnmnjGSzMd1EvLx/aGvxhsxu/sLcgAfe+B\n",
       "U8tMlsxvsgpiXF0f92KzisN1daHlmfwzOIynsAe/EGi3S+F83IeMtkOA4QELrtcDTVw8u9M3mLA3\n",
       "saKDYDtyQA92nENeF/dBGzOEc9VB8BsmnuLNt5egOsTBTNqVC1uO9tt2rZ4BhHf9I1HQ64EkpLVy\n",
       "47t2F2d8uft9tlV4GIKhnkTLGYJ+VXvdE+FwL0peuCUp7VVG//jkFIQpi7lBY/Jcy/ngI4b57pV1\n",
       "ewbgOAu9QUrStQ36/cHz3e/KnIf5OJhwR9h/v+1kJOnvc8ELnTLExmRt8ZAsu71j4GGruxCqC8oo\n",
       "T69N9arZQpJ//kHIhxpzkZ/Ez+yTPh9jQnJxYsmD5Tie+6FHrpPgXs2jVxkAgZlsS5CTH40mWTJp\n",
       "sAa55zPiUnCSJZ7G2LMD0UjV8CfjruhypJw3mkNS811rJzvbVHVET3nAnxN6JLCmF/Hfx53gnxMu\n",
       "TQEftZ3legefMf4YjZm3+xOZRVX07+miG7I9EVjq9HvOU+OhtmpP8WSqRuynK2YnFfsuP+46ZSIO\n",
       "EbSLOkwTI1zbmjSydgWW3oVa8X8OHmUKstZRr0Zs4BeNu9XnM89sRi6pP3YqItg7sVkXr+HtbB/L\n",
       "qwawwfoDTGjuYNkgP071RvwoMUi6P2O+dCNKylXq7gRhewulVWbmEpFfUgJVDe+5tUgjMS/QpsPG\n",
       "edRExecB/uvQGtf+UExGuBz5W8KkgtEiTi3W2dJFwKkxt6pAVG6nZZvto9nbBeHuwFAxOXUvBXbW\n",
       "HAUzBqw6jSulv95RMRhD9/+xLCflHFCwveG1aEA0j8EdUp9jL8Fu+APQmBF+HMDceweUTRk9BFRw\n",
       "p6Ie+mKGfqbSCAZSj2Xg3sAFOwBG7rK9s+NAeenmhbZXrob3jLBXgXpUoxXtACaEK3/NHRWZq+Ae\n",
       "jGQj5So7rWNShgU6HjpAu1jfdj/UsnN2aODx1z0SZ9u7Ciyxrxn4lZiI+VKgoblwqg2E2z/kY9TA\n",
       "ikkeEICk6kvzAbN5a3iYBzo76JgY0VtqR3AGQDah9DFQC34nGfgnSCDZ2xf22WVdckDQ5DWC27ao\n",
       "Cb8FeDhcXcoOTUQOZqrhkFo1IaobVD/7Co/24HcA7RPdfMggzCfupzC+YfKrgUD8fGlQJF0mqnFT\n",
       "EUv/9jzxGzwqAJTbeynhwOlx+jf1VuWl96mmUbVjmTDAL6ykulmgP4iwHuGdl1duxI2Om53M81Jg\n",
       "ZgSuRByJFBRlaFdMbvW7yElV9IieYZL7jS2gu3Rtjo7yTj8MWmTykiiw6svfA/PpY3pNxf/t1AWk\n",
       "qQza6ZuxhO/5XL2Nw2yfI55tSy885eDnLS3xlQrd2Zp2+jDVOJGMIjUbdmdrnPbU60A6s4Vov3Gz\n",
       "oOCOk/H8Fzi8IUZ/+2QRoUhpmzGUhHtw+cNxTIvmLkGtUwvrDBD7RPyoj2w9UAXRTsBWbLcJ8qkJ\n",
       "KPK+zp41hQ4eWZRk8IYxdIOz3/wkUhzHP1BJf8Pc+lWQbuUBeZOZc20aV1npP03/gEPtTSmzj3p2\n",
       "41fr3CTn8vgEzC9Z/F2Bk/31ZP1P99NaTyb6/xntNptOCRCmVvfyBp8cIzfjq3Z39xhE94T7F9A8\n",
       "r5MR8ptSiKP9/zRRnDFbSRD5x6ntffTo6sqLOvwVQH8jvJVmrNCODKASwzHb2+TD5a15P31g+Tcc\n",
       "LNpJP5ZEf5+jyUEJeVx3NgjLNMW2nr0S6M/bosF+JhI/9bdBnEtYZJ+W2WXm/u/BPi9i0UVtQnjd\n",
       "wHnXUX7S4atz6yXqqmTO0C4lUQYKvha0KYMnUJGcZq10d3a+Be8dmgaU580AW8F+XNYc99kGpPn1\n",
       "avjC6qt3D7RAJJH6VtOywT0B4zFaHAyBy/3AFzucYSOdLG/k99fb8Iy+Pb2/4VNYP1v+OZTerdaQ\n",
       "ABF4X7McAr/HIBhCDNKHIWz3/SY4RJqZcKZ7soxOMPq3xI3/OfEtJ57pCCCA4s2jW2Pp/seflWbY\n",
       "Ka6Hka3W4cDoORu0V+wQnbxaTGEb4DTEgZjz1aY6i7kg5LQOAc0CBIBweFgGMTbq0SyTF6af+wkT\n",
       "Ex4pLzXfjGSwxcTbcuI+U8k3sSv4B4jgIJUcga6m1rEg+e4owX46q3VVqhebFWKYcOKVqhJkQR2a\n",
       "2grrl5VN/PV/xoW27pC3lMILMr/1hf56HVrQjUJo02JwL+Wd804cNZE0/GW85ftngNemHIxcbFrD\n",
       "7et4NvakUmimjFnKPT0uJc724MLWN4Zht3iDqgd8hcc4Psz9Plfe8/X2acIv6urCxu1BkFJJKCMJ\n",
       "kCj+5Yu9NBcbWw2mOVgcwjB5vGDpbXhoiUt9R9/ce/tX+voumULn+7Fg3DNTmKvri9ermmL/iwtO\n",
       "OBr61GykKwcekusM0xiO6TTlzX+U54cxCxye1M12ow0bnCS43/QHnfrRMQw5PvQRIgEuG/p8R958\n",
       "hzCD0PSLELEhrt0SCDOHr94bDASkk5QSqz3KZFI1k+GzZjIKjDL1hbr+9rVKsQVDfHTyYaHa5/Nd\n",
       "3/Jzs2qAS7HWj1OmSpbn907xwLtCmcI9tGiQASfdFP5JbiH/M16CGb4+Wb2mq5edz9NmrjXteVE6\n",
       "8hC7JdVWK2tq/r+m8F+HsYWAXhLOezC6s8pohsjqmFmcZI4heAgR4Kmsjph+IFYPdB9bzIYc0v7S\n",
       "a3vef34NGfNeTtUXK4ygpVd7V1UPkJB02XzyaM8NbNaamyQS0c7HvxAq/dZgk3VGxaRFrAHQf/9u\n",
       "NRl5dCiM4GfObEekp+6qzNwGRwy5vutd2W/5SER8YDKxm0nKyra15Kr/a1Nh3B01qYcsq/J+uDhS\n",
       "VvgOmKJXbkvbE3DohiOH0ND4hVxraZUv5uM1aN2+oj15YZF2zAGrWB8QKCTSgx9Zh+NbktNJ3BMC\n",
       "iXk6oftx3jBgDGaNwn4DdN3ARkuopMMdV/OZEU0KR62kD3uqCa+WmfjN05Lu/bQ7kWa7sob2sFlS\n",
       "ea6xiy5TcGfPhEIYA9cXp7vFefqsXA3YxY6rflpxg6VFU52OfkaeO6nk8hvCVmEEixFCCYjFrqlH\n",
       "k9sEjVR7uKIxcbccr+KPEpJrWEfhDhq/GCBZmaoQuWtYFup1gLYkYHAKbgfCSav8KIEAq3XpJbqC\n",
       "7NHWvS4U1tDDty0lFVPGHUzEbVUcW1HKrklzKy/IZezoX4FRRpJt6CCIdOkPb3Imepof3eVWnjYl\n",
       "JSVpHOOR9QB1Ri0DAThGukKsB8k3/044oIxsP5TdHedm6lMKuZsdHW9K9/USk5EYhYt8KCL5jtFT\n",
       "rxh2roMss5qJoZiObA4+6WsMnGEnKCIKso7fLJZ4YhiU/u6ilb6KVxhp4tWyseqbcXct4thDWG5B\n",
       "sCpPUs830OfToZdCVHMM85Q0mHrfTy1R7q0hFK84p8aZGoDPnmJ8OckAd7c0piHbK4qzLDgtt+9V\n",
       "P44suBfVCVi/cmRFNU6EHPXokc96U7iYCYyFQdHAyW9KjsCSxJByKUOLRvTGhNuRvfGKbWm43I6K\n",
       "W6BCKdNbnvK4FZtod3L7gkJeG7ECfde5Ax8PPXZ4FUcWxEdL5cdbhti3j0Gkk5r91LZD0TjF2C4w\n",
       "OZ64zz2+s9s2yv4CfE0Pzxxfs/Tr9Kw30Fy/+ejtaOcbRq29sQ2kRCIBmyjUvZ5xNo69fgX4xWWc\n",
       "qaB79Li0yuSO+OoM/BHkhVmUPsV1JJSoUy+bzBrMhcGAkYGHAFT7RHI1n/vanDfZt+ruv+3IKMA4\n",
       "s/DWrM3mPWQxD5RhNrdyedIE0JW5nqT5mQfz5ojav0rjg3btIuhIefCQTMMjQmPkCu4+HCRBEmvJ\n",
       "xlKmA3dOaQ3wE33Dg6xErNDCi4N8VpgfGj/WS9N5CuHRt3BSa+wmmsZPslKiTfg6Fu0vDE1VnpVh\n",
       "Aex+ACMf45G2zAaiua18qktV1ObZF3aI82lj6c6FR3AHDBtrHU8xK1cJUStHwZ3m6iFPVXsCKn2n\n",
       "nBirSoovKi5Kw+wY1NOL4whToKgAhf9ifAp/e2h4a56n5kyxfm+YrceB6bEcAjLbGthdasQIENNF\n",
       "RkQUKkG1/+uIh3CWobaiyDym3mUXK9qUqrluC6AxD9qaAOz56rGnKSos9dVTzSQX32ckkGsK1RBl\n",
       "qZYh48TytnjDM3MS99/4OSYNfR+hrod7/wv8fyJZI5o/QcnoBT1fO0CpeTyrC+O4IKtbGfvSC0jP\n",
       "Pn6n9gnIHmf/tzwV15r2PZCrA2OY2tw8KMPguDzyy1T0536EDlIKqKzxG+itA4SWjOxZMemR3MH4\n",
       "OBC2d60FOLnIje9IuR613/NmeFyafF0BainYXk3bgcPd+Ysfaxbz/Unphk+CY0BREhw6fIZAnYHz\n",
       "DUQ87w05nTGyTZnWKgnwZQFEdFQQ6D/xP4KICwkABW+KBJVT2t27jmstFf+G9S+kK4Qo4XKhJoUY\n",
       "XwkDoC0SSE7zJ/N6Zy50LHvl4WAq2WjjVk5sVEgkLOMpi2Hs+CirZWpnVVw+C2F9nsu24X7ZNH9J\n",
       "G3qzjnPRaaEClfQtGDmw+1d7OTsEoAHIfFQFLW6ZCCJutX2RagTAwAlgt6v+3jqDvS7OYKWIz2Ci\n",
       "vpgUmv1NIEtc8/DTQgYnn+yi0Emt2ohKtCfJMQoHD35gdOdC1XEuik++mDqiTH8Jml/sh75FJBeZ\n",
       "qZnrR0Cfssa227Bn8ABP27TRyMXiJ9ZEvHtpH0K8VYImxiYVw8toN8STpPJ3e0eC/tzTmYhx6XXe\n",
       "qWGlVK6dL11H+/fZa2GdTBYQTUB9QeCpq1iFj8DbQQIoh8moCA2r7dizO0R2oB+crUG+ham8GHI4\n",
       "ZDGQLFzaMVhlDWq9tdoIml40b7VITXDBibVs2wSAd6/4OAvMm6eYHtmmT9Pv7o9vJ37IhkBfR2ln\n",
       "gf+GmAP/1LMaNCvB9ebWcJjnm0Fa9hD/VpSYdLk1C0iR9q4od7BmL0Rsy3QBBJf3/kxu3PCExdTI\n",
       "yC5BAVuljcviSeYp1z8EBx4Qb1NzcZd2xV41vRkhW54F5JYvJrJETv6Th/uZ+U+ETRu2dH//wpfi\n",
       "lGZ23WvX5aA1dr+Z4SPgQ4h7Oamn2TilbXTxpYRq1sJb7RVZYM92ISstEprR/y0EkF43zuaNY7L1\n",
       "N3vph0vz6LMUjya/z0nLNazt4TYxtCdvo+gi3qP19fs2aO9qbXFpX909QnZiiT8DlD7zo30hLBFt\n",
       "JjgS1FcTYGQHdwzpFTpvor0bqXvB2q8CJ/ldJUdz2/7KLis15PkhY+aeVk5CEMiZbCIZv0vEKQ63\n",
       "Hr+1zDTQm1+C0XNga4Kbo+Zxsf9RykV/SauzlHoYCqse1Kn76RpndLaEi9kaCUeN20y50jrhbp8r\n",
       "zjEi8BkObMCMfc5dqzk7LKdpJHKeCzkFE0+4+2+mV1yHPqadjM3b43qU8X0AY4RnqCXEOHk0bF27\n",
       "mSZCxY41Ckw9NV/pBW3vrH4dmYzOXIkmZDK6q8pydj+FXDNeaDud//hmrhEP39HCAT1Zoh/2EVBN\n",
       "L7n/orOikYPGYJmRl2xlUVVBPuIeGpQnJzLAZVp5uYwN5oSylhdTv2aLExeQbTnOLNCjBjIvczuG\n",
       "OKPZqN+vvGXOEVYgkfLiy3+gQcurlFq1pU+AMVzns9pkcTDevSOTJjLhW9jMjEFAGA24ymXokjhK\n",
       "HztVc6FaZAp5LvyhybwtiCvObQTgslpLlu6as3bsv5jUoaW/Nm2aO7oTa3K9iJarQ2xub11aOaaJ\n",
       "Z9kGqwSh6XT6vl//sAzGL03P8H2zDMmApR3U9DvHW4jqVTovRcSwV5Bke3P5E33X3FsDb0QVA/Dq\n",
       "PGMXS8E+kot/RzRjTMAIrWMfT/d8gAluXb6kJYlyT4Irvdc+ycGHk8B2zPWTAc0KDkNEAEY6CcKS\n",
       "LVN8dshDCC+UvU/UzdkJ3zY+tUAaxD1W4YR+oFfeF+JGHpNft+Ol/IWN4xbLiNvSkGjugdqcefyl\n",
       "gsGoN+xmbmsFMAhjmwLpfFT376S2HE5V1ePA/4tKc6kUMYd2BayqIZMUTC8fsDnYM17mFGb8Ur0e\n",
       "YDhucKHTQ0PsiV9kMM3BH8J8Cb1g2ZltKWdCITDYoMS3hf8Gr1KTlUre8YdtJn67jVzuUs/z9t++\n",
       "OukfW4IejAYb0DrLUmeRip3A1h59DI3nQ8en2RskRT0wkDXGF9hcdqJwQIWv1vtPwPOq4SV9jq77\n",
       "0f+pwB1poOLF9p1rdKLenMWksfh8EeUVOPOOG7o22NWNQXhTln0ccESd5n9S67UW+/mGGlxldV2c\n",
       "dhqievCGsbxveLf1TGvx3tg8Ab7HxCBrMosmdzlJG++Tb7X3WYSj9lf/ouXcYV8v/53OQi/JjioI\n",
       "u7Urhi+KEFZSTqZ5DdFtIk/7hs4U/T6fkg9dxV8x+3sleJETyjVhu0enbVf7EcoBxIyC7aa4P9Q2\n",
       "xSZNQe/H/wlLHnYOjXEWAp0AeZteIVUZy9TfOyjVaGrU1CQrsWCTrhHrt/3OFZjQ3RT7GPsTuMsQ\n",
       "V+bujYRXLJPdb5IK6qPHHgL+jdlzUejMydNdALIqsuTXCRIZ/6M8ipN9o7GkYqAvtqR134rQiA5e\n",
       "YYFw00Pj2/GoaUqn3Ppf3ec84PZn8X8KEqBjHHA5Oro93pJqXgz+1lQ/iW2Th18neEAQbNImYZhy\n",
       "nhz32HNvRoSS8/dkZv/AfQnPYywyTDyAXYE8NdpdyX64CAUG9XH5FgfBcg+nD1/ReqerJ2wRxGX7\n",
       "Zf//KDO5WL/gWlTYh7okcHNJT9k/V95G0QWgWzQyJNf+cF85AQWJvrcXjGCqEP2T9b4ZnisKFupB\n",
       "LmqaynRtEK/FePlUuiPj5BwUnPn5YDty2BOlWfzVsSQmHxxFl2QzP2CgQ53/p1fHGeXj8U3xEQU9\n",
       "MKbyc99cbaIvBup86aysoefECm/xZtNsGdlagqGpixUpMw+/Mues7Em31ISpHgacsf7HEn5ZxETW\n",
       "Dtb9aqc6JFVX3bN29+17GkTGse3X1NdCJ7B5aB+T0NDMro6a/I1gyNcrqbx2NRZSgxGiWV1m3aoB\n",
       "e6BxGbYtiuuvaRaQAK3UVNsOr/eAyCZ9XQ0uG8rUnngcU74t3yokURjBzAspa9yxfjv0ZYOysJv0\n",
       "ExqUKdaBPKdAJQMrjZ+lcBC0bH9DCIegd4mEGdx817WzYVJ7/r0DZXdjq7+Y3q2JPdWNdo2BKOin\n",
       "telA1T3tRHp/i6a2+nYQN8NAtUPupQuwN0ysvRMNc5CXEguemNkEbOAaYq7qo9emy0XBZmo4sVvg\n",
       "2k+8AbqD7jDZwIcPcbLc+YwP0QBNzynkfCIht0YFitZDTtBu8rfdPD/XTQcdWbXK2DQ4SmfgUpWU\n",
       "6FImOhNySPvForDAtS/2MtzdgzzEkw7RnMfq9mWaI9rpAIbXb4qJ5PRBru5fmJ7AcVRq7pM9TI12\n",
       "e1M2w/f2agUrsjx2Sr88QlnvaS6d2mXpyUNKANH5tpMx8OHUGtH5LJ19s0L3h1Nr3QajWM4NHJMA\n",
       "reEQVpEaGzFQTvW4+/CoZZ6k0VEpCd0dKlTtnozksyw+RewakMhzUidmcKi0Vz1MbR3OeMzgSEN/\n",
       "crjoq3mwnbcKpu8o8nlWtnwOXZHG5vneLRD9w8qH9nPW1qQ2IPthQhSfaEl7HZNsixVAyuhv594W\n",
       "ospyeo7KvVkrVZ/wh+phcVmlIBxFYEYS5/AFHlJPLPHlP3OGx7DY3Oz5lACyYkAuv1HX4E0hq/vK\n",
       "YGDTghco6GvyOk9eHuvKLUePEMCSowRVREbDgTZh3t/Sdtn+oGSkNVd5GTS1JX46q8lvsEn9d7yl\n",
       "M64PH+/deWn7yn7/qMuWrmDB0Cm63Eyq1TkkbUwTygYtgniIAESyB1XOiyPskYi/PAiCmhCmZRnk\n",
       "MQWEgN4zYN/0f9J5rnm4NYkSY3cNHv0HEEaqXUV1t5Q9CTFIbCBkmbrXz13uCwxkoN8C87oQo4qA\n",
       "I6seWAZlDAOJFJYd3Nb7YAbYx7Nm7sWBGMuHPIDwXYTLJ4vUOwRMeTbeYJ4G3CQwwo0eRgfzje8J\n",
       "w4vRY9cZo2btNCeT5LRmnKDT54XcSH5OTOdppgb6S83MIUpwXCC+tMcKJ+EvJPdfZ76hdshvbi4t\n",
       "W9mPZaidserHGL3kuVM/uxkqNTUegpctgkX4h9AD8W3P11sVCmCDzoVfIxlan0KkbKoTJYxMZeMR\n",
       "wdKEstMqs3dQ+/CosgIGxYAQPTUCbzT9e7YJlmG+SevmwYeMSOLXmcuQpE+IvhgIBS68Kk7yjNjR\n",
       "/A7vwUXHkRhTM4tsxpHqsD0ehWdgXjKapSAqYndcktnJ4JGxsNaBmVYQL29U0RL+QTj4thFPG8Gf\n",
       "TPpDJ6zaJyQTOOxPEawo4fNYZKzdqFkZQEDh1HoDQnXBszWbMcwk1GCjMp08P4SdyaUF/7VlCLwg\n",
       "MRKDM/9v/4csKzH6WT3WDvhglc3Ua6yNeB3IyXHyxINxyAWOraQkjLqZB8zwKMpMkukYLTuYpHSS\n",
       "mGca7BnRJDS9Q22a0ZzW13WeNmE2SXiD7TRGNLxMouMgDLG66vR+kSVmBvTuqAd/cYU7xrVONHa+\n",
       "sRnwGlbDXh6H6OYoc3xPu2IwZB3DHEw9biA3DKrZ7Z6RyYBd9DlOgPjHX1DaS2oavuDWHhnTTZ1i\n",
       "DNG/czVkw2nV45QPP+Oa69ccgZz+SAwCCEgyvElPAhEYW9Sx0MK/bS9FlqRjz29v08yra/74VfP6\n",
       "AzY01OhuMRFKbsDTKkIz1dZ2Encuy90v1/4zldDrodUN96X6UGG4zP12+TW2sw8KAjsB3KYYs9CK\n",
       "K49+ZJvMcgWPhou8uwnh+TE41Jl4XVbs8+XdgECITqi99hznhaTzJ4COJ7DK+/aPAs/cYegoH/Ut\n",
       "IouqjQa46m8Vsn8A4hPZnMZAb/oxbwXhazhD8JuRidz91DO0kV3EC3sa/3LN2jcFLVbC8KMIkKXI\n",
       "FvQ8EuEi79K5Ya/3hMWzTLdSNP3nRCpRw8+AdnJVY2hku2DqGX9byDyJs7KkF7E0DPMkOOYUxRGO\n",
       "EBivCDglq78fvvnT3Adf6h4FboVR5F9Jox7FZNfPOe5gcIGUpK4rkRMZkW5hLS1BTKM86uQ7jsK1\n",
       "PMWrDpMUkDQyF0iAw5MSYcl1Mdyo5vt9Y5JtFtPK4YGkP6DN9sN6AFgNXnJvcyKbbB508Yh5ve2a\n",
       "iqTy6B8T1qtW8gV8JlMAse9xbkW+Hvvvy3k59quOprjiIQ7AOFjeXmjNSNXln5oDB+spNnRWLart\n",
       "yCDGghEnwqufL17519wuc1WWHjqZ2hVHQxd/uRFqvayu0vnXlW91NgBLxlNHhn5J3Hh71L/y2xgr\n",
       "kceKcRxE6SqYijZ/vdAt/+ZJ+IqaIToZUM0zk+5dsOA4eRXqa/hwi2CnwJuIbdCqh+hUet/PuIu8\n",
       "W0sx2DXseVYmp2+3LyCBa9rYCVuDs9BYkT/mCo+C2yBbBfxwM09SliHWjdnxQEKLRBQKzr/O4wjH\n",
       "aPPSmTyR9XlDyQej/RJwQ3BGFhO9Jp/ZAahWR4XyUKbKr3sRxFwsAkfqvRWMgNWjADl1q6H7jF+1\n",
       "st8ojSl559/UZXO6DTIo893/4TGaD1qh1DGQvhADukPox1F6+0hilSV3hMFWEOMEX4GE8uQ9k6wy\n",
       "leMMhfFpuD7dEDx0rBI62uuaXbIEbZnovUCICDwzd2oK4YbpPgJcXCra5XAl+5wKW/pyGjgnwp30\n",
       "dgvZkPtx4wlJ65g9QxZH5ged1wOiIIFExt/S4xbGbgIbh528y1q7xs8qEChVKar7kA65gCVfQ9n9\n",
       "lTXiN/XiX/+DesBHd8Ts55B4GH82gfUFUpMBGNDRgf5hInkbfVpn6nj5datd8ab+Q2KUoWN98/KO\n",
       "+GmyedpNoiCEJi+7wbaU423qFLuCGTVyLCdQqTDFIWD9WWd8OvVNJyPQrMBNiD5/wsErTuCl2Ipo\n",
       "jvaxQZZqJkGtgTMXIGkwOPf8n9Ke7+JnShuxSSbUY3q/hFZstkLIuyHonWyn1sT8+4jO9WUq6nhX\n",
       "L6PfGx80DQUrUUas0NcOP+jHwClwbVgkpQ89YDt3pktZUYkQGg9J2uqtzrkeii7cxZ/Yj4t/YKJV\n",
       "PZycOUWGNQPE7m25GkPgb4A/Klnnhw2eTLAOwIK9Lgg2UkcgC35Es+/IwiYUqXwCzCr4ESdkcjHU\n",
       "AJMJun7ltl45IZNqKLAl03bQY9JT+YF9fu41gcCJkvPKsCOGyf2xvSHVMhx37iuj9+nwK2WNKIcw\n",
       "9Vuz3Qkw6Z4N7xNyQexXfLzi4NjC7+90K0P5v9Zk2Q8PmuWVDuapTXQAQnGw5iNbu2WqtI1PsP2z\n",
       "sxIdDK/SkEeEAnCTUs5OoADrix+yHiscsQOrRvhv0jJs6E/HP+KC4oU9fYky4ust6m0dpoKPUlzI\n",
       "j8ymjjs2yOiz+NFMm+KAZGlbnnJrhhx/ZSx/h1pm3FUhfG1JLFeqLdxeWq+SsKQjXc2PrlbJnUcQ\n",
       "i12xotntrdwxIOtzHURHfP1+4Zr8KWF6+Xiq/z6Ri3aKE2cHAd17xkBotSrZ8/NG81kQCS0SR6EN\n",
       "Ysf2d5p8RSXcslpdtbLH3s68vPX8S2aCWVY9S0N9MVVs8NZuwFJJRdPj4yguaCv1s3micdmzSYah\n",
       "9dAjoHMB7szVlH5sPt5gOcNUsiuaTiI94c5oaGV0mFw/+2UDWfhTVJO/msxQTNZSgDJ0HRGGJbot\n",
       "IFwnOYCBX/3tcpKzfPma72bt3nd3Z6PAUsnvhbFDoqykeOJ+a9j5m7/fSjWQOwqFZYatG8VqhEPr\n",
       "VocZTfFCRwoTUq/8a/g4NJgmhAjC1l5vkCZkF/Ke1cvk/OEB0So1mkyEHNN7ulSWxqhqf/UyywAe\n",
       "pDR7w4aqUHQZ6ZxwCC+2EwHHac0nMIfBYY8TLAs7ykoKiTFQzGNtorp6lfA7oEppknGN0GWPTyhA\n",
       "Ve22BdDAmkfr7wOx8Ta/EHT55W2rCK1JOwmAJHkX5QgbbtZiRuKthc3YJuP1WGydB6rxp4jo0+v5\n",
       "OCWQ3PWFfMuN0cNzY+LmpP9ZaM0vbC16vyFNoNMC+DB/92N4HiPMAJqsEG5NgH2BtmTpZvJdRfhY\n",
       "lupmYD7T7L/YxiTrWEyIBzwoArb6wOAW4NspCD3q9T4i0Zi3NOrzdCv/xVHqcI7X5ZrzwuXkAVBR\n",
       "jTH6L9Smpbd5IOgajyNItfkBtW1JUf9juwkOfedb2iuuzhBkza7Kuv9PtxMEvb5GKnMSHe/Lqmxv\n",
       "xeEi9hZA/1cM6AJax4mpEi4JJTz+fwjq+oIg6IETWtclYHJMdvLMrcnN5geurHvHlX/ZuqahMbc1\n",
       "SkbP8a2mFVP9bHl1YZwq03RefD8XVX7fUcV0aECJSYV1sAI6EAy61p6FPwisAp9T7koxLWaVUvFU\n",
       "/Fra4OOHMb/SNuPsDmCOC/oxfbKMMbHp0SmNRzm0IZPIpm+i4n02EUTAwy/eNwpqgU5aL8UYnHWB\n",
       "XcdCH/9KlAgA28eG1xqaAzH6KQeQFjlIjyFnBq7URF3namzexG1t37VPEGSOaQJ+F8ygKihNrwnP\n",
       "DF5pKf6Co9s1f6Q95XzwaXxj46tBwhMeRX3F2LPZwXc+xLYk6kSAIl1zbLd/TnCER07/Tao+rDxt\n",
       "kpxU3G3pgzK3AKzHNk1wllJaORRkxaoucQAsG7TO7tZzihdpPYIhkHJEtdDoPpaNWt5DSGakC9sl\n",
       "0iN48uOAKe5lmuf25QPar88PYb8NPkkjohajjYUdL1pFZqBOsN2wUmCf3YdD+FjVuJO5WSmiK6Dp\n",
       "n+n0uGOWAGMKx24KoB4NS6t9ZsJvxKvrLpyFklPICMmZ+cEU2dYbyVTt+A8kabeUUOlAVf7Pg+Q+\n",
       "O15f/B7p9dqRZ1qaV6FJ3jWko+H+RJSiBBFeWdlSTUhDv7mOmaPBxIt2cFyuJ7BA4gM7T5uqxhhl\n",
       "qbJcpYa2MINSmVFqhO7QtTi0mBl3IXg6UqTh+Fs5KFD0+YDaVh9E0Ei/h9HYv+8ZVolf/9M15AJs\n",
       "PA0dGaoguARiy/izCjgG7cuTWl7PPArswC7d3CmLS8xRv4NaVoSvpGGmFMxLzdRXkFDgBr4PmulU\n",
       "mLn3GWbRIkfNETNnT1f84PaHMiUIJMr/NtfeqXpAolvGWcuL+M5uPQb74PGgKPg4ZvTHrGHNnN7D\n",
       "2Y40V9clp+uWB881E7Zl+9NXL/+xkRLjLzGKV3ecWVVUEaWXeh8MhuG4wU5vhYwlnVZphSYWTids\n",
       "cdSeLkCLWknY5nf+f2whKvT68h7GWZvtc8yL1fR5d8H8ZR7QvgIekgFNs+Sq/lquD9/+dyu2HjGD\n",
       "GNKBl/BxybeVAaitCouPQ5Pw1ws1R9rV4JBxiwYmfknYCQrdjhB3PbU631t6r3WNDCCO84PqkGZ9\n",
       "gwGUN91tLc2MyGsAwYxu58pzcmL4GwXiLK+mm1/lFZeEzux2eVqMoFq+gV0cDzhMURtYlhVVrmHs\n",
       "hHSfM9MhzCA6bJojnFqZ9yD+EyR6F7wc0iELGpffuyx9CUmJ91QzHgcRywhdBnCzW1yM4oIo4kBl\n",
       "nKnH2BDX5+ccBej0foX/tvQU9pPNUPUrG11rwYUjNEL/tDt8eKnFNCAWTTghnFuGTq2ELV2hgVYC\n",
       "ZH4FN9Kr3usy1gDY6ngapbYX7YQUAFZPL/5b/qqeNmF3E/mh1P1J9OaPvdI8CvmJe99GaJSIEtca\n",
       "viNJl+jzukeNj4t1n6rWcOzpAfC4pFzvLho+P0OTwjXoGmoiDl0T/cD9wqR8wSHCAjiJvhCAAXP7\n",
       "ob9vdMiYXvqrRVIcpXeGAPDTkOtGq1Jdc4rVezzMSnyDjaiZlOvDR1ddklu1lmRcWQPM+LtnBp2P\n",
       "0plwaPky3H4A5WN5o4bK5QRLnDn8rHfJwhN4CKZkBu5nA7NmFtdk0Hyw0gourNeWZ/ZRPp9v7GdL\n",
       "sCT68CbVA39IFn7aR6ru83wlHjO0En86i+F9+wSivxRzduCZdc5NPxhV7BRs4DaKNY1jxeRXt+w9\n",
       "3ltoJ5lvubkd2PFO4z3GZOG/c3pV9T2UyQiL8+FAivU052yhdHJ6v9Yj25kIS8RGy3PoohrDao3A\n",
       "l0HdbX7NDdfqRVLOiOvMPe1saVNKKfX5fphjTemKzlTiCc8WcvPqQ8zshRvZ88TfdMo1iCE5XMlJ\n",
       "qKhcUem6Z6qvsVIS+42MIXCiTqaK+Pd9Fj6/gZFfFdj5Z/hANIUUhn2lVUkfd4UxDjcOLnWn0a/q\n",
       "cJaZM/VU/CPemiqP7K3ZgiKAapPtrnUidKt3StAtYK75Zf+ZwzHkM8AKNu3GJlxAXtpUHpAYf7wi\n",
       "3WZ1fRac9PgBFSPuvUXhl1rhHXBwypiG4Enk2qMeC1TsbERf37rJJJVr7FUVrLxjkOJaaeBzS4PH\n",
       "l7+DppD1H8rJd7fJ8SGrW8swdF2fri235zeN5L59nga0CicyUmmBtK7L2hCtXsWcE86UN5/8D3ha\n",
       "L1Qcyl8hopBxbaDfR4TmyBMvkR+rq8Z/YKzYMF+U6rTbJp0fjWEB+7Cx06SQPl2EzfDY7If+YTI5\n",
       "ZRnQaFhIbmimVn2vBVzgVllqnFyjB6hpL+Q79AdRIzxXdrdreRkeWJfOtrR7LowerCUCgMdvNq+M\n",
       "b4l4ey/S/EDQgNDBW+WdKG7CMLHcgsVeYceLXoEegYaDpO/Y2iuha0FitQ0Cch1Kwf98hI97GTWU\n",
       "Zqyb1U76ZJctvBh8HJL6//pLi/xpz7mEH+Bi92vxeE0p9PTYeJ0Aod+QCFgqR2g9/iZG62swO/2j\n",
       "lng8tkbDSZRAJGHRX+W1UF+QGWZ/ckO84yE6s0LixOcJ5CA0gAAAAwAAAwMDAAABTkGaJGxBD/6q\n",
       "VQAC3E4TAA+LKmImcOmJpcVd+Ry36J2518gUggdNXM6eWTQQF3Auxr9i6xjSLq/LKqGOEcgRuC+5\n",
       "hmnizKV7ULPmeI678fb9okM1UajmYaZMFEAyp74MVvWG3SOhOa4eGkbREfW0804gnfJbk29wZEFS\n",
       "uvU9z5E4aglvzAmsmfcgD9dsKi/ivkEp0TBtfeecVBQy4CtwCg0eWssaqExlO1wYXjwtTBcyuS63\n",
       "kBsi9PgDIptTztYqCGnqRAd8N3EabdDR4JZQi1sbHO3BRIaxtTXtzfuD4bFbiDD//XfeSbrg2syg\n",
       "RUnOvcS8Lt6GiM19WP8hXvSpKxdLNuvPoFRWGiv7u2VcHY74OanTxiYP1XtNRC/3nZwmFPVPYvpZ\n",
       "ZI4Az6kAA1Sdd09F2CxDBo0eVkNry8A8OhuO8n9iMh2WN6jNokEnRtgAAAAiQZ5CeIb/AAADAGSA\n",
       "PkdIfH2fsmQ6LQxzQT3diaIxoNp/gQAAAB8BnmF0Qz8AAAMAeXIkE1ylEPzhwi+z1sdYkIoB8NCB\n",
       "AAAAFgGeY2pDPwAAAwBYlDkArelSpOtfjdgAAABWQZpmSahBaJlMFPBD//6qVQAAAwAaihfwAHCA\n",
       "QTPSG77woTHG9pH840W4Gth/luZjNvz5UZGm/fUc/UKrdf6tJ6LiQ0M1OUdb8rE/RN3XFAVvJ6LG\n",
       "1i4AAAAeAZ6FakM/AAADATXXeJQyUTlQMb1M5rlw2GDFw+7hAAAA70GaiknhClJlMCCH//6qVQAA\n",
       "AwAAFk8TeAG/XMKqfUnaNhiB5REeMKB6+IdXAzc7HRAju1mKpGBy8r8SPnI/YJWn/iqSodDlgJdA\n",
       "/qP8Nqj+VI7bzbFzpc0QatHUaLnSWiDNEpJ8TvShXJehNLDlySIc3xMbKECvwyD1kzftql2sjrrt\n",
       "fYIJPnpOomDvnAaY/Ju9DaYGPuhSls4m9aa2tHiAat6h5SuaDvseZxzjwO1XB8JRYCtAA52qq6zP\n",
       "N4HTPORV7Ay3VOVj0RCVsiY8/4ixUK9+U9/jfkRxZEUEuBHjNHukzw3azXHAt/UWvHxtAAAAH0Ge\n",
       "qEU0TDf/AAADAPifPAR8UB7/R7RBt+gSpUxEMeEAAAAVAZ7HdEM/AAADAABRzwBDDPzuBdE4AAAA\n",
       "FQGeyWpDPwAAAwAAUeAnnEo/8ajMRwAAANxBms5JqEFomUwIIf/+qlUAAAMAAdO7cT6gADh9PxTd\n",
       "NyejD62UAde6jzJax552aYN1CvuEWdmH9/ZwhycBcDQvHyRkLOO1x5AJuUa1D0UzBSVBPezgPt5K\n",
       "pbnTPU5iYFOHi8j/AOBuRRFfVtKVLGNrScqn3xgFExLFX/PKB9oWtPvcULRDwrllib9s9p/E0IVn\n",
       "8CAVhNQZVqMyyuIZ4NBdv6ArLyx6dJVFNlb5FiIzF5+SxAT6NSlgTMXVab62L6clEYIdxNrdoYk+\n",
       "FE9RnfJql7zbHG3D4kSibrGxAAAAIEGe7EURLDf/AAADAPipVGGhlqgdg8gWxqUaod6VwAk5AAAA\n",
       "FgGfC3RDPwAAAwAGSSmXFmReNG8tLYEAAAAWAZ8NakM/AAADAAC1TknyVzWyUJOy2gAAAPNBmxJJ\n",
       "qEFsmUwIIf/+qlUAAAMAOOgl+IAoyvsDVARWznk7UFHB/c6y7oXD/f8IgzBAr8ffU7Bl/9RSrcbr\n",
       "9NTqg9/OyXWOP3TTCbHw8brmQvLVXGfGowq0hZnvgM6nbuDl/Myh5CT7lVzQVbv3UdRo6ryDJgc8\n",
       "D1NKM2vEN1ENdmpjQ22AENVTWKI99iv4gkep6txAzTBSJa4JcqG/cE0ZdiiUqwaTa+3wbpMg+8OT\n",
       "/o3ZkVJestuEGsIkB/qBxKhVK6HvcwEG/iKDsmoqkSG87O5T6rh3RZrMRA32GqaMbaX4DDjO0eIT\n",
       "GqLMOaHlBCHeMEAAAAAjQZ8wRRUsN/8AAAMA+KlXbSGq1sfx59Y1GotyrO+geqjoD0kAAAAYAZ9P\n",
       "dEM/AAADAMPwjEdwsnWlTito/nVAAAAAGAGfUWpDPwAAAwBPoDSA1uLLCfNk7VW0MAAAAMxBm1ZJ\n",
       "qEFsmUwIIf/+qlUAAAMABMD/6gCgEZJKdfdO4/E1gRkRsGgcbRP8EgjKZ5hNMYtsrjGD9FUnAnQj\n",
       "o84CvLkRjXw9jKWZYJBDwsGxkw8GZFx0QQ2RNWeyhA1uzRepZIQ+jS5fGOuIRd+rFbU8ZOQScA8Q\n",
       "iIaxj2zq3yyog9z3XP2bNC5nGFkQem9wxec6DO7t8bKqbw9ELW2wDGd20qDKugG5emhTIO4a8mgH\n",
       "Hi+Bh4Kg77+NA7lQ2M5aOHccLvhfRNT7NSHgzuEAAAAhQZ90RRUsN/8AAAMA+KlU6OpZv8Vf9yuo\n",
       "iM/nxo3SmBixAAAAGAGfk3RDPwAAAwBPjxgXzuURkUhvnV4jgQAAABgBn5VqQz8AAAMAT6A1Zqat\n",
       "kt0y0o5hedgAAADaQZuaSahBbJlMCCH//qpVAAADAABMELlADlo6frmuFwVhDijqrDE1IMCED55D\n",
       "jHP0BI3zESoFHkdmazyd22Nzq30T9dRJMwOiByFiqb4G7SO25xUkrft0pPxuc+W3FGfKkn4+Rr0s\n",
       "uDCqoGiQodc67HGHY9fs4VsT4Z0MzZXFJVh40j7x4Gvxd4TmlPGkzy7mBRcMdI5aipwS2KvvMRvd\n",
       "g8ZpPxYwHS4XMMloexfvbToUWe/M5n19HGVMrpBjYXZIjsDdOWebvppRy71k/E9oWxUkXXGHbbZB\n",
       "RfAAAAAjQZ+4RRUsN/8AAAMA+KlU6OpYOgYo/f7skMzMcEaoEZ7/DAkAAAAYAZ/XdEM/AAADAE+P\n",
       "FwGsbF4pdLh4AIuAAAAAGQGf2WpDPwAAAwBPoDSLJzKHvMCHQD041FgAAABtQZvcSahBbJlMFEwQ\n",
       "//6qVQAAAwAAtv1yYAHNKwgl3ECguENuCElHUoGAE6IQ7KF4sN3jXLFghY+bUm8AR1ojVVhO9fu+\n",
       "pgg4hKVp2FhCYYWLVNMIaZ8+LP661yAisXR+XUxehtQn9QXWd+dZwQAAAB4Bn/tqQz8AAAMBNdd4\n",
       "ZLi5evClRogbHVPKKxywF3AAAACwQZvgSeEKUmUwIIf//qpVAAADAAEoQkMwAsFtmFQeTPd9ql8S\n",
       "2wfcxt/FR8JsDjqhBTGgDt88V7GTeSfdXYDEE7S9U+ph/qUcLgKk9GuwPzVRfp7aKBs8x2oxi1mc\n",
       "qzzqR4UgA8LJtQhKrMQdLbBQUpJhFYW//sTriq/N4kG0be2WD5GTpc8dgrbhmg08QgKVOkX3fXsi\n",
       "Hp7trnZ9XE6Q665spq0JrlGPft+r3rmStj0AAAAlQZ4eRTRMN/8AAAMA+J88fZAoQsx5KPAcQpU8\n",
       "+ApMV5YG6nRFwQAAABgBnj10Qz8AAAMAT48XJyN7KU0fUJgXnYAAAAAaAZ4/akM/AAADAE+gNLdk\n",
       "W4sHr3PlVzorbMEAAAC5QZokSahBaJlMCCH//qpVAAADAAtv2+cACH7mM/KV6mh518YkL3AnMdBE\n",
       "e4XROEePBLoAv7Dj5kieh9d9DpJVVq+OBZERAHBLBl3Lf15/NkuBo4hBXrgftm+8pOj2uUV0rMf4\n",
       "aIQ4yruXVXJv1ODMUe6875GnmK0WOO+IGulbW132Bnw6WheItTrYxIdQ2RuDW5a9ZmMr51NXtm7U\n",
       "OpH0Y5JGPXnhlCG7oPMc/M+fxHUGFOQ8gqPYzWwAAAAjQZ5CRREsN/8AAAMA+KlVCz0i0U67s22q\n",
       "giIT1ssG2B0nIccAAAAYAZ5hdEM/AAADAE+PGrM/Nk/7B+iXvLaBAAAAGgGeY2pDPwAAAwBiDYTQ\n",
       "UhTuZcDmuUmDdOWAAAAAvUGaaEmoQWyZTAgh//6qVQAAAwATBCJqADb68lSqXghdPLbTqaoxX7sk\n",
       "Emm4Fqak7vGkH1urp+6r0xLorRHC7jUSw+X8J7dc43bUOIR29maqFFiugdwMtDzdt0cxZne1FxEE\n",
       "SKrOaYMpJDa4dlWD7QFt1q94hEkJ2b2VR5JObX+FYk18aCq0WI7Jig8BiHFtIU7RMnjwhUGyy/Xs\n",
       "hRmPcytb2664G8a/KYtFOSkpEoDbX9XI9HBccz/GHfoOOAAAACRBnoZFFSw3/wAAAwD4qVULUmpl\n",
       "t6nEAKjatDyQDqYInxvA2YEAAAAYAZ6ldEM/AAADAGH4VMOJ3fIpbfqwfqs+AAAAGQGep2pDPwAA\n",
       "AwBiDYTQTywRf3PCdMPNlYEAAACtQZqsSahBbJlMCH///qmWAAADACt9iigAGc0WdXGxm76B3Z4I\n",
       "fv7nl0UBmNFQ3ylAgrd1Qzqgs7hYAs/z/O8lzJtRpY8lZgkMd2Q/yGCkEp1bKEYXkz7fpGD0Csh2\n",
       "+6UG4zfUKmzZozsSufWO60PuVUC3wChpWndaO2heyfg7/ZTTXKKXG5ezHYxOLWEYacHKqRBih7yQ\n",
       "+lc6hqsZis1f4M5ROwNJJ0cIaxbIZUAAAAAlQZ7KRRUsN/8AAAMA+KlVC1JqZarhaJruoOKuDSyO\n",
       "hsjdF+D1gQAAABkBnul0Qz8AAAMAYfhUw310dFtT8rii5As/AAAAGgGe62pDPwAAAwBiDYTQUhQy\n",
       "zCiEaXGDdOWBAAAAq0Ga8EmoQWyZTAh///6plgAAAwAslduQU0AHFTUYfFYpGiHsMAywByLMNicW\n",
       "xG4nuUG0fZ9Z89Q9jfjIuQlw1DX55M8oTqP9mBv7IXqotWVf6mXODshK/81UpZHo6XH+GPRPUEnZ\n",
       "jqqRca7YfPx0JDIgEph4ArWhUsdR/rzeY0ecLCOsVpwVsSjX8mjZFM90MeAVJJlkUTqH+NwNm+td\n",
       "u8v5AAy5OM21OS8EXQAAACZBnw5FFSw3/wAAAwD4qVULUmplp2Fr4IPGyj7mRx2winIEc0B3QAAA\n",
       "ABkBny10Qz8AAAMAYfhUw3sXmp/IBt6MaBkrAAAAGgGfL2pDPwAAAwBiDYTQUUv5gWNCpkXS5Deh\n",
       "AAAAwUGbNEmoQWyZTAh3//6plgAAAwBlJMEgBJFvs27Y0filmfIWS3i2vpgrTNbGj2IS8Girer49\n",
       "h7Ak+vOQhVN6lqimhMpqABooKFQRtHgi5q0MZjjph76UstCBMRxzA7Gy3/NpyscFhDf58oKAWMFV\n",
       "LNIIUotdAMn2d7YFTFFHOOncyxt2dsZQMaWB+wmsQtvjCddz9dIarGTYwQ6ZJBLPz0LveB2Ukw4l\n",
       "nVvKfJlt7tHQNXWvXcYgrDqCD1/WabuSgO0AAAAoQZ9SRRUsN/8AAAMA+KlVC1JxYT/hyCwgjbIk\n",
       "m/cCDGXh4Xck7YhnwAAAABkBn3F0Qz8AAAMAYfhacd2cisNwfw1V3tlZAAAAHQGfc2pDPwAAAwBi\n",
       "DYTQUUv5tgbNczbqeNfUrYzBAAAATEGbd0moQWyZTAhn//6eEAAAAwDSwz/cAJpoGpWkW9xgzl6W\n",
       "ocb+a9Oc7pZk2Lhipmy2QwUjthEDjedQDHPn37f2tQXU56MGAQ3ci1sAAAArQZ+VRRUsM/8AAAMB\n",
       "Ndd4sna+QQkOS+BzKS5hHNs9UyQAWL1Enm8m8pQIeAAAABsBn7ZqQz8AAAMAYg2E0FGc8Kj4atkG\n",
       "uPcMA3oAABFabW9vdgAAAGxtdmhkAAAAAAAAAAAAAAAAAAAD6AAAU6wAAQAAAQAAAAAAAAAAAAAA\n",
       "AAEAAAAAAAAAAAAAAAAAAAABAAAAAAAAAAAAAAAAAABAAAAAAAAAAAAAAAAAAAAAAAAAAAAAAAAA\n",
       "AAAAAAAAAgAAEIR0cmFrAAAAXHRraGQAAAADAAAAAAAAAAAAAAABAAAAAAAAU6wAAAAAAAAAAAAA\n",
       "AAAAAAAAAAEAAAAAAAAAAAAAAAAAAAABAAAAAAAAAAAAAAAAAABAAAAAAkAAAAGwAAAAAAAkZWR0\n",
       "cwAAABxlbHN0AAAAAAAAAAEAAFOsAAAHAAABAAAAAA/8bWRpYQAAACBtZGhkAAAAAAAAAAAAAAAA\n",
       "AAAyAAAELwBVxAAAAAAALWhkbHIAAAAAAAAAAHZpZGUAAAAAAAAAAAAAAABWaWRlb0hhbmRsZXIA\n",
       "AAAPp21pbmYAAAAUdm1oZAAAAAEAAAAAAAAAAAAAACRkaW5mAAAAHGRyZWYAAAAAAAAAAQAAAAx1\n",
       "cmwgAAAAAQAAD2dzdGJsAAAAs3N0c2QAAAAAAAAAAQAAAKNhdmMxAAAAAAAAAAEAAAAAAAAAAAAA\n",
       "AAAAAAAAAkABsABIAAAASAAAAAAAAAABAAAAAAAAAAAAAAAAAAAAAAAAAAAAAAAAAAAAAAAAAAAA\n",
       "GP//AAAAMWF2Y0MBZAAW/+EAGGdkABas2UCQN6EAAAMABwAAAwDIDxYtlgEABmjr48siwAAAABx1\n",
       "dWlka2hA8l8kT8W6OaUbzwMj8wAAAAAAAAAYc3R0cwAAAAAAAAABAAABMgAAA4AAAAAYc3RzcwAA\n",
       "AAAAAAACAAAAAQAAAPsAAAlwY3R0cwAAAAAAAAEsAAAAAQAABwAAAAABAAAOAAAAAAIAAAOAAAAA\n",
       "AQAAEYAAAAABAAAHAAAAAAEAAAAAAAAAAQAAA4AAAAABAAARgAAAAAEAAAcAAAAAAQAAAAAAAAAB\n",
       "AAADgAAAAAEAABGAAAAAAQAABwAAAAABAAAAAAAAAAEAAAOAAAAAAQAAEYAAAAABAAAHAAAAAAEA\n",
       "AAAAAAAAAQAAA4AAAAABAAAKgAAAAAEAAAOAAAAAAQAAEYAAAAABAAAHAAAAAAEAAAAAAAAAAQAA\n",
       "A4AAAAABAAARgAAAAAEAAAcAAAAAAQAAAAAAAAABAAADgAAAAAEAABGAAAAAAQAABwAAAAABAAAA\n",
       "AAAAAAEAAAOAAAAAAQAAEYAAAAABAAAHAAAAAAEAAAAAAAAAAQAAA4AAAAABAAARgAAAAAEAAAcA\n",
       "AAAAAQAAAAAAAAABAAADgAAAAAEAABGAAAAAAQAABwAAAAABAAAAAAAAAAEAAAOAAAAAAQAAEYAA\n",
       "AAABAAAHAAAAAAEAAAAAAAAAAQAAA4AAAAABAAARgAAAAAEAAAcAAAAAAQAAAAAAAAABAAADgAAA\n",
       "AAEAABGAAAAAAQAABwAAAAABAAAAAAAAAAEAAAOAAAAAAQAAEYAAAAABAAAHAAAAAAEAAAAAAAAA\n",
       "AQAAA4AAAAABAAARgAAAAAEAAAcAAAAAAQAAAAAAAAABAAADgAAAAAEAABGAAAAAAQAABwAAAAAB\n",
       "AAAAAAAAAAEAAAOAAAAAAQAACoAAAAABAAADgAAAAAEAABGAAAAAAQAABwAAAAABAAAAAAAAAAEA\n",
       "AAOAAAAAAQAAEYAAAAABAAAHAAAAAAEAAAAAAAAAAQAAA4AAAAABAAARgAAAAAEAAAcAAAAAAQAA\n",
       "AAAAAAABAAADgAAAAAEAAA4AAAAAAgAAA4AAAAABAAARgAAAAAEAAAcAAAAAAQAAAAAAAAABAAAD\n",
       "gAAAAAEAAAcAAAAAAQAAEYAAAAABAAAHAAAAAAEAAAAAAAAAAQAAA4AAAAABAAARgAAAAAEAAAcA\n",
       "AAAAAQAAAAAAAAABAAADgAAAAAEAABGAAAAAAQAABwAAAAABAAAAAAAAAAEAAAOAAAAAAQAAEYAA\n",
       "AAABAAAHAAAAAAEAAAAAAAAAAQAAA4AAAAABAAARgAAAAAEAAAcAAAAAAQAAAAAAAAABAAADgAAA\n",
       "AAEAABGAAAAAAQAABwAAAAABAAAAAAAAAAEAAAOAAAAAAQAAEYAAAAABAAAHAAAAAAEAAAAAAAAA\n",
       "AQAAA4AAAAABAAAKgAAAAAEAAAOAAAAAAQAAEYAAAAABAAAHAAAAAAEAAAAAAAAAAQAAA4AAAAAB\n",
       "AAARgAAAAAEAAAcAAAAAAQAAAAAAAAABAAADgAAAAAEAABGAAAAAAQAABwAAAAABAAAAAAAAAAEA\n",
       "AAOAAAAAAQAAEYAAAAABAAAHAAAAAAEAAAAAAAAAAQAAA4AAAAABAAARgAAAAAEAAAcAAAAAAQAA\n",
       "AAAAAAABAAADgAAAAAEAABGAAAAAAQAABwAAAAABAAAAAAAAAAEAAAOAAAAAAQAAEYAAAAABAAAH\n",
       "AAAAAAEAAAAAAAAAAQAAA4AAAAABAAARgAAAAAEAAAcAAAAAAQAAAAAAAAABAAADgAAAAAEAABGA\n",
       "AAAAAQAABwAAAAABAAAAAAAAAAEAAAOAAAAAAQAAEYAAAAABAAAHAAAAAAEAAAAAAAAAAQAAA4AA\n",
       "AAABAAARgAAAAAEAAAcAAAAAAQAAAAAAAAABAAADgAAAAAEAABGAAAAAAQAABwAAAAABAAAAAAAA\n",
       "AAEAAAOAAAAAAQAAEYAAAAABAAAHAAAAAAEAAAAAAAAAAQAAA4AAAAABAAARgAAAAAEAAAcAAAAA\n",
       "AQAAAAAAAAABAAADgAAAAAEAABGAAAAAAQAABwAAAAABAAAAAAAAAAEAAAOAAAAAAQAAEYAAAAAB\n",
       "AAAHAAAAAAEAAAAAAAAAAQAAA4AAAAABAAARgAAAAAEAAAcAAAAAAQAAAAAAAAABAAADgAAAAAEA\n",
       "AA4AAAAAAgAAA4AAAAABAAARgAAAAAEAAAcAAAAAAQAAAAAAAAABAAADgAAAAAEAABGAAAAAAQAA\n",
       "BwAAAAABAAAAAAAAAAEAAAOAAAAAAQAAEYAAAAABAAAHAAAAAAEAAAAAAAAAAQAAA4AAAAABAAAK\n",
       "gAAAAAEAAAOAAAAAAQAAEYAAAAABAAAHAAAAAAEAAAAAAAAAAQAAA4AAAAABAAARgAAAAAEAAAcA\n",
       "AAAAAQAAAAAAAAABAAADgAAAAAEAAA4AAAAAAgAAA4AAAAABAAAKgAAAAAEAAAOAAAAAAQAAEYAA\n",
       "AAABAAAHAAAAAAEAAAAAAAAAAQAAA4AAAAABAAARgAAAAAEAAAcAAAAAAQAAAAAAAAABAAADgAAA\n",
       "AAEAABGAAAAAAQAABwAAAAABAAAAAAAAAAEAAAOAAAAAAQAABwAAAAABAAARgAAAAAEAAAcAAAAA\n",
       "AQAAAAAAAAABAAADgAAAAAEAABGAAAAAAQAABwAAAAABAAAAAAAAAAEAAAOAAAAAAQAAEYAAAAAB\n",
       "AAAHAAAAAAEAAAAAAAAAAQAAA4AAAAABAAAOAAAAAAIAAAOAAAAAAQAACoAAAAABAAADgAAAAAEA\n",
       "AAcAAAAAAQAAEYAAAAABAAAHAAAAAAEAAAAAAAAAAQAAA4AAAAABAAAKgAAAAAEAAAOAAAAAAQAA\n",
       "EYAAAAABAAAHAAAAAAEAAAAAAAAAAQAAA4AAAAABAAARgAAAAAEAAAcAAAAAAQAAAAAAAAABAAAD\n",
       "gAAAAAEAABGAAAAAAQAABwAAAAABAAAAAAAAAAEAAAOAAAAAAQAAEYAAAAABAAAHAAAAAAEAAAAA\n",
       "AAAAAQAAA4AAAAABAAARgAAAAAEAAAcAAAAAAQAAAAAAAAABAAADgAAAAAEAAAqAAAAAAQAAA4AA\n",
       "AAABAAARgAAAAAEAAAcAAAAAAQAAAAAAAAABAAADgAAAAAEAABGAAAAAAQAABwAAAAABAAAAAAAA\n",
       "AAEAAAOAAAAAAQAAEYAAAAABAAAHAAAAAAEAAAAAAAAAAQAAA4AAAAABAAARgAAAAAEAAAcAAAAA\n",
       "AQAAAAAAAAABAAADgAAAAAEAABGAAAAAAQAABwAAAAABAAAAAAAAAAEAAAOAAAAAAQAAEYAAAAAB\n",
       "AAAHAAAAAAEAAAAAAAAAAQAAA4AAAAABAAAOAAAAAAIAAAOAAAAAHHN0c2MAAAAAAAAAAQAAAAEA\n",
       "AAEyAAAAAQAABNxzdHN6AAAAAAAAAAAAAAEyAAA/ugAAAO4AAAA1AAAAIQAAAMUAAAAbAAAAJwAA\n",
       "AB0AAADAAAAAHwAAAB0AAAAkAAAAngAAAB0AAAAhAAAAIgAAAN4AAAAfAAAAIQAAACYAAABuAAAA\n",
       "JgAAAJAAAAAfAAAAJQAAAB0AAADeAAAAMgAAABsAAAAcAAAA4AAAAC8AAAAeAAAAIgAAAPUAAAAs\n",
       "AAAAIAAAACEAAADeAAAANQAAAB8AAAAdAAAA2wAAADIAAAAhAAAAHwAAAMwAAAAiAAAAGwAAACsA\n",
       "AACzAAAAIQAAAC8AAAAqAAAA0AAAACQAAAAwAAAAHQAAAMQAAAA5AAAAHQAAAB0AAACzAAAAMAAA\n",
       "ABsAAAAbAAAApAAAADMAAAAbAAAAHAAAAJ4AAAAZAAAAtQAAACwAAAAbAAAAGwAAAM0AAAA4AAAA\n",
       "HQAAABwAAADJAAAAIwAAABsAAAApAAAA1gAAACEAAAAoAAAA5wAAAC8AAAAcAAAAHAAAAEwAAADp\n",
       "AAAAJQAAABoAAAApAAAAxAAAACMAAAAaAAAAGgAAALYAAAAlAAAAGgAAABsAAAC8AAAAJAAAABwA\n",
       "AAAbAAAAqAAAACQAAAAcAAAAGwAAAQcAAAAoAAAAHAAAAB4AAACvAAAALwAAAB4AAAAeAAAAjAAA\n",
       "ACAAAAC+AAAANgAAAB8AAAAgAAAA9QAAACcAAAAlAAAAHQAAAM4AAAAmAAAAHQAAACoAAADkAAAA\n",
       "JQAAACUAAAAsAAAAyAAAACYAAAAcAAAAHAAAAL8AAAAnAAAAHAAAAB0AAADaAAAAJgAAACoAAAAe\n",
       "AAAAzAAAACcAAAAcAAAAHgAAAOcAAAAuAAAAHAAAAB0AAADFAAAAJgAAAB0AAAAlAAAA6gAAACcA\n",
       "AAAdAAAAKAAAAQsAAAA0AAAAHgAAACAAAADNAAAAKQAAAB0AAAAeAAAA2wAAACgAAAAeAAAAHgAA\n",
       "ANMAAAA4AAAAHQAAAB0AAADKAAAAKQAAABsAAAAcAAAAwgAAADMAAAAdAAAAHQAAALUAAAAmAAAA\n",
       "HAAAAMoAAAAvAAAAHwAAAB0AAADfAAAAJwAAABoAAAAcAAAAtwAAACUAAAAaAAAAIgAAAIsAAAAg\n",
       "AAAA7AAAACcAAAAaAAAAGQAAAOgAAAAlAAAAGgAAACcAAACVAAAALQAAABkAAAB3AAAAGwAAAL0A\n",
       "AAAjAAAAFwAAABkAAADLAAAAIAAAABcAAAAWAAAA9AAAACMAAAAYAAAAGAAAAHQAAADZAAAAIQAA\n",
       "ABcAAAAWAAAA0AAAACwAAAAbAAAAGgAAALoAAAAfAAAAFgAAAB8AAADJAAAAJgAAABoAAABNAAAA\n",
       "HgAAREIAAAFSAAAAJgAAACMAAAAaAAAAWgAAACIAAADzAAAAIwAAABkAAAAZAAAA4AAAACQAAAAa\n",
       "AAAAGgAAAPcAAAAnAAAAHAAAABwAAADQAAAAJQAAABwAAAAcAAAA3gAAACcAAAAcAAAAHQAAAHEA\n",
       "AAAiAAAAtAAAACkAAAAcAAAAHgAAAL0AAAAnAAAAHAAAAB4AAADBAAAAKAAAABwAAAAdAAAAsQAA\n",
       "ACkAAAAdAAAAHgAAAK8AAAAqAAAAHQAAAB4AAADFAAAALAAAAB0AAAAhAAAAUAAAAC8AAAAfAAAA\n",
       "FHN0Y28AAAAAAAAAAQAAACwAAABidWR0YQAAAFptZXRhAAAAAAAAACFoZGxyAAAAAAAAAABtZGly\n",
       "YXBwbAAAAAAAAAAAAAAAAC1pbHN0AAAAJal0b28AAAAdZGF0YQAAAAEAAAAATGF2ZjU3LjgzLjEw\n",
       "MA==\n",
       "\">\n",
       "  Your browser does not support the video tag.\n",
       "</video>"
      ],
      "text/plain": [
       "<IPython.core.display.HTML object>"
      ]
     },
     "execution_count": 15,
     "metadata": {},
     "output_type": "execute_result"
    }
   ],
   "source": [
    "# fig = plt.figure(figsize=(8,6))\n",
    "# ax = plt.axes()\n",
    "\n",
    "# def frame(w):\n",
    "#     ax.clear()\n",
    "#     ax.scatter(X_t[y==1,0], X_t[y==1,1], s=10)\n",
    "#     ax.scatter(X_t[y==2,0], X_t[y==2,1], s=10)\n",
    "#     ax.scatter(X_t[y==3,0], X_t[y==3,1], s=10)\n",
    "#     ax.legend([\"1\", \"2\", \"3\"])\n",
    "#     plot = ax.scatter(X_t[prototypes[:w],0],X_t[prototypes[:w],1], s=13, c='black', marker='+')\n",
    "#     return plot\n",
    "\n",
    "# anim = animation.FuncAnimation(fig, frame, frames=len(prototypes), interval=70)\n",
    "# plt.close()\n",
    "# anim.save('prototypes.gif', writer=\"pillow\")\n",
    "# HTML(anim.to_html5_video())\n",
    "Image(open('prototypes.gif','rb').read())"
   ]
  },
  {
   "cell_type": "markdown",
   "id": "73e01f58",
   "metadata": {
    "id": "73e01f58"
   },
   "source": [
    "#### Standardization"
   ]
  },
  {
   "cell_type": "markdown",
   "id": "01c2dd89",
   "metadata": {
    "id": "01c2dd89"
   },
   "source": [
    "First of all, let's do a standardization of the DF."
   ]
  },
  {
   "cell_type": "code",
   "execution_count": 16,
   "id": "49c92508",
   "metadata": {
    "executionInfo": {
     "elapsed": 9,
     "status": "ok",
     "timestamp": 1663952738865,
     "user": {
      "displayName": "Andre Luis Mendes Fakhoury",
      "userId": "11987406164407738979"
     },
     "user_tz": 180
    },
    "id": "49c92508"
   },
   "outputs": [],
   "source": [
    "X_norm = (X - X.mean()) / X.std()"
   ]
  },
  {
   "cell_type": "code",
   "execution_count": 17,
   "id": "ef2473f7",
   "metadata": {
    "colab": {
     "base_uri": "https://localhost:8080/"
    },
    "executionInfo": {
     "elapsed": 2332,
     "status": "ok",
     "timestamp": 1663952741190,
     "user": {
      "displayName": "Andre Luis Mendes Fakhoury",
      "userId": "11987406164407738979"
     },
     "user_tz": 180
    },
    "id": "ef2473f7",
    "outputId": "7b05320a-c426-419a-e486-68c22748b127"
   },
   "outputs": [
    {
     "data": {
      "text/plain": [
       "((467, 166), (467, 2))"
      ]
     },
     "execution_count": 17,
     "metadata": {},
     "output_type": "execute_result"
    }
   ],
   "source": [
    "embedding = MDS(n_components=2)\n",
    "X_t = embedding.fit_transform(X_norm)\n",
    "X_norm.shape, X_t.shape"
   ]
  },
  {
   "cell_type": "code",
   "execution_count": 18,
   "id": "b0d3f4aa",
   "metadata": {
    "colab": {
     "base_uri": "https://localhost:8080/",
     "height": 265
    },
    "executionInfo": {
     "elapsed": 22,
     "status": "ok",
     "timestamp": 1663952741191,
     "user": {
      "displayName": "Andre Luis Mendes Fakhoury",
      "userId": "11987406164407738979"
     },
     "user_tz": 180
    },
    "id": "b0d3f4aa",
    "outputId": "b62d8b98-4ce2-4c77-edf8-aea636b9ed09"
   },
   "outputs": [
    {
     "data": {
      "image/png": "[encoded data removed]",
      "text/plain": [
       "<Figure size 432x288 with 1 Axes>"
      ]
     },
     "metadata": {
      "needs_background": "light"
     },
     "output_type": "display_data"
    }
   ],
   "source": [
    "plt.scatter(X_t[y==1,0], X_t[y==1,1], s=10, color='blue')\n",
    "plt.scatter(X_t[y==2,0], X_t[y==2,1], s=10, color='red')\n",
    "plt.scatter(X_t[y==3,0], X_t[y==3,1], s=10, color='lime')\n",
    "plt.legend([\"1\", \"2\", \"3\"])\n",
    "plt.show()"
   ]
  },
  {
   "cell_type": "markdown",
   "id": "a0Ky7d0oMFcb",
   "metadata": {
    "id": "a0Ky7d0oMFcb"
   },
   "source": [
    "### PCA"
   ]
  },
  {
   "cell_type": "code",
   "execution_count": 19,
   "id": "MOLV5Y1cMH8i",
   "metadata": {
    "colab": {
     "base_uri": "https://localhost:8080/",
     "height": 265
    },
    "executionInfo": {
     "elapsed": 712,
     "status": "ok",
     "timestamp": 1663952741888,
     "user": {
      "displayName": "Andre Luis Mendes Fakhoury",
      "userId": "11987406164407738979"
     },
     "user_tz": 180
    },
    "id": "MOLV5Y1cMH8i",
    "outputId": "3f0a3fe9-af2f-4dca-89a5-f12fb9128977"
   },
   "outputs": [
    {
     "data": {
      "image/png": "[encoded data removed]",
      "text/plain": [
       "<Figure size 432x288 with 1 Axes>"
      ]
     },
     "metadata": {
      "needs_background": "light"
     },
     "output_type": "display_data"
    }
   ],
   "source": [
    "pca = PCA(n_components=2)\n",
    "X_t = pca.fit_transform(X)\n",
    "plt.scatter(X_t[y==1,0], X_t[y==1,1], s=10, color=\"yellow\")\n",
    "plt.scatter(X_t[y==2,0], X_t[y==2,1], s=10, color=\"red\")\n",
    "plt.scatter(X_t[y==3,0], X_t[y==3,1], s=10, color=\"blue\")\n",
    "plt.legend([\"1\", \"2\", \"3\"])\n",
    "plt.show()"
   ]
  },
  {
   "cell_type": "markdown",
   "id": "IbPkZ4B3btAw",
   "metadata": {
    "id": "IbPkZ4B3btAw"
   },
   "source": [
    "### LDA"
   ]
  },
  {
   "cell_type": "code",
   "execution_count": 20,
   "id": "JOOfG69dTwrC",
   "metadata": {
    "colab": {
     "base_uri": "https://localhost:8080/",
     "height": 265
    },
    "executionInfo": {
     "elapsed": 16,
     "status": "ok",
     "timestamp": 1663952741889,
     "user": {
      "displayName": "Andre Luis Mendes Fakhoury",
      "userId": "11987406164407738979"
     },
     "user_tz": 180
    },
    "id": "JOOfG69dTwrC",
    "outputId": "7b792f40-b6a0-44a9-b69b-36532e84061c"
   },
   "outputs": [
    {
     "data": {
      "image/png": "[encoded data removed]",
      "text/plain": [
       "<Figure size 432x288 with 1 Axes>"
      ]
     },
     "metadata": {
      "needs_background": "light"
     },
     "output_type": "display_data"
    }
   ],
   "source": [
    "lda_clf = LDA(n_components=2)\n",
    "X_t = lda_clf.fit_transform(X, y)\n",
    "plt.scatter(X_t[y==1,0], X_t[y==1,1], s=10, color=\"yellow\")\n",
    "plt.scatter(X_t[y==2,0], X_t[y==2,1], s=10, color=\"red\")\n",
    "plt.scatter(X_t[y==3,0], X_t[y==3,1], s=10, color=\"blue\")\n",
    "plt.legend([\"1\", \"2\", \"3\"])\n",
    "plt.show()"
   ]
  },
  {
   "cell_type": "code",
   "execution_count": 21,
   "id": "QPuMotyCbLci",
   "metadata": {
    "colab": {
     "base_uri": "https://localhost:8080/"
    },
    "executionInfo": {
     "elapsed": 14,
     "status": "ok",
     "timestamp": 1663952741889,
     "user": {
      "displayName": "Andre Luis Mendes Fakhoury",
      "userId": "11987406164407738979"
     },
     "user_tz": 180
    },
    "id": "QPuMotyCbLci",
    "outputId": "fd1419e2-cdcd-4311-b6f6-9be4d67849d6"
   },
   "outputs": [
    {
     "data": {
      "text/plain": [
       "0.12109375"
      ]
     },
     "execution_count": 21,
     "metadata": {},
     "output_type": "execute_result"
    }
   ],
   "source": [
    "preds = lda_clf.predict(X_test)\n",
    "error(preds, y_test)"
   ]
  },
  {
   "cell_type": "markdown",
   "id": "QLJ-g3Wi7Ofz",
   "metadata": {
    "id": "QLJ-g3Wi7Ofz"
   },
   "source": [
    "We can see that LDA is clearly overfitted."
   ]
  },
  {
   "cell_type": "markdown",
   "id": "FOkiRYz-e0MD",
   "metadata": {
    "id": "FOkiRYz-e0MD"
   },
   "source": [
    "## OPF results"
   ]
  },
  {
   "cell_type": "code",
   "execution_count": 22,
   "id": "EF2hn0RTfCei",
   "metadata": {
    "executionInfo": {
     "elapsed": 12989,
     "status": "ok",
     "timestamp": 1663952754868,
     "user": {
      "displayName": "Andre Luis Mendes Fakhoury",
      "userId": "11987406164407738979"
     },
     "user_tz": 180
    },
    "id": "EF2hn0RTfCei"
   },
   "outputs": [],
   "source": [
    "opf = OptimumPathForestClassifier('euclidean-distance')\n",
    "opf.fit(X, y)\n",
    "preds = opf.classify(X_test)"
   ]
  },
  {
   "cell_type": "markdown",
   "id": "fADwlOfzfTZs",
   "metadata": {
    "id": "fADwlOfzfTZs"
   },
   "source": [
    "### Heatmap"
   ]
  },
  {
   "cell_type": "code",
   "execution_count": 23,
   "id": "jPkskmXm8_rX",
   "metadata": {
    "colab": {
     "base_uri": "https://localhost:8080/",
     "height": 283
    },
    "executionInfo": {
     "elapsed": 37,
     "status": "ok",
     "timestamp": 1663952754878,
     "user": {
      "displayName": "Andre Luis Mendes Fakhoury",
      "userId": "11987406164407738979"
     },
     "user_tz": 180
    },
    "id": "jPkskmXm8_rX",
    "outputId": "a67bbded-3ff5-4ac5-ec4a-a09d52543d9e"
   },
   "outputs": [
    {
     "data": {
      "text/plain": [
       "<matplotlib.axes._subplots.AxesSubplot at 0x7f9f39dea8d0>"
      ]
     },
     "execution_count": 23,
     "metadata": {},
     "output_type": "execute_result"
    },
    {
     "data": {
      "image/png": "[encoded data removed]",
      "text/plain": [
       "<Figure size 432x288 with 2 Axes>"
      ]
     },
     "metadata": {
      "needs_background": "light"
     },
     "output_type": "display_data"
    }
   ],
   "source": [
    "f = np.zeros((3, 3))\n",
    "for i in range(len(preds)):\n",
    "    f[y_test[i]-1][preds[i]-1] += 1\n",
    "for i in range(3):\n",
    "    f[i] /= f[i].sum()\n",
    "\n",
    "# plot the heatmap\n",
    "sns.heatmap(f, annot=True, xticklabels=[1, 2, 3], yticklabels=[1, 2, 3])"
   ]
  },
  {
   "cell_type": "markdown",
   "id": "bPZjIdISftgh",
   "metadata": {
    "id": "bPZjIdISftgh"
   },
   "source": [
    "### Utilizing less prototypes"
   ]
  },
  {
   "cell_type": "code",
   "execution_count": 24,
   "id": "Iig-isucfwhh",
   "metadata": {
    "colab": {
     "base_uri": "https://localhost:8080/",
     "height": 265
    },
    "executionInfo": {
     "elapsed": 32,
     "status": "ok",
     "timestamp": 1663952754881,
     "user": {
      "displayName": "Andre Luis Mendes Fakhoury",
      "userId": "11987406164407738979"
     },
     "user_tz": 180
    },
    "id": "Iig-isucfwhh",
    "outputId": "361b78d2-4890-40f0-d343-ccb4b0ea862e"
   },
   "outputs": [
    {
     "data": {
      "image/png": "[encoded data removed]",
      "text/plain": [
       "<Figure size 432x288 with 1 Axes>"
      ]
     },
     "metadata": {
      "needs_background": "light"
     },
     "output_type": "display_data"
    }
   ],
   "source": [
    "label_to_prot = defaultdict(list)\n",
    "for prot in opf.original_prototypes:\n",
    "    label_to_prot[y[prot]].append(prot)\n",
    "freq_labels = {label: len(prots) for label, prots in label_to_prot.items()}\n",
    "plt.bar(list(freq_labels.keys()), freq_labels.values())\n",
    "plt.show()"
   ]
  },
  {
   "cell_type": "markdown",
   "id": "dX4spnGkwCnu",
   "metadata": {
    "id": "dX4spnGkwCnu"
   },
   "source": [
    "#### First X%"
   ]
  },
  {
   "cell_type": "code",
   "execution_count": 25,
   "id": "mPDXqLMKwBO3",
   "metadata": {
    "colab": {
     "base_uri": "https://localhost:8080/"
    },
    "executionInfo": {
     "elapsed": 95696,
     "status": "ok",
     "timestamp": 1663952850553,
     "user": {
      "displayName": "Andre Luis Mendes Fakhoury",
      "userId": "11987406164407738979"
     },
     "user_tz": 180
    },
    "id": "mPDXqLMKwBO3",
    "outputId": "7fed03be-dd55-4b13-e1f3-fbfc957b932c"
   },
   "outputs": [
    {
     "name": "stdout",
     "output_type": "stream",
     "text": [
      "0.2 0.5640625\n",
      "0.3 0.5283854166666667\n",
      "0.4 0.48125\n",
      "0.5 0.4739583333333333\n",
      "0.6 0.4395833333333333\n",
      "0.7 0.42994791666666665\n",
      "0.8 0.41328125\n",
      "0.9 0.39791666666666664\n",
      "1.0 0.35546875\n"
     ]
    }
   ],
   "source": [
    "for perc in [0.2, 0.3, 0.4, 0.5, 0.6, 0.7, 0.8, 0.9, 1.0]:\n",
    "    prototypes = []\n",
    "    for label, prots in label_to_prot.items():\n",
    "        prototypes += prots[:int(perc*len(prots))]\n",
    "    opf = OptimumPathForestClassifier('euclidean-distance')\n",
    "    opf.fit(X, y, prototypes)\n",
    "    preds = opf.classify(X_test)\n",
    "    print(perc, error(preds, y_test))"
   ]
  },
  {
   "cell_type": "markdown",
   "id": "JShvYgmmyiAU",
   "metadata": {
    "id": "JShvYgmmyiAU"
   },
   "source": [
    "#### Same amount"
   ]
  },
  {
   "cell_type": "code",
   "execution_count": 26,
   "id": "ZpKO_N_qwfw1",
   "metadata": {
    "colab": {
     "base_uri": "https://localhost:8080/"
    },
    "executionInfo": {
     "elapsed": 29224,
     "status": "ok",
     "timestamp": 1663952879760,
     "user": {
      "displayName": "Andre Luis Mendes Fakhoury",
      "userId": "11987406164407738979"
     },
     "user_tz": 180
    },
    "id": "ZpKO_N_qwfw1",
    "outputId": "d36d3d68-5f5d-4e88-857c-1a41cb4bf1b8"
   },
   "outputs": [
    {
     "name": "stdout",
     "output_type": "stream",
     "text": [
      "37 0.56875\n",
      "55 0.5205729166666667\n",
      "74 0.48723958333333334\n"
     ]
    }
   ],
   "source": [
    "min_qtt = min([len(prots) for l, prots in label_to_prot.items()])\n",
    "for qtt in [int(0.5 * min_qtt), int(0.75 * min_qtt), min_qtt]:\n",
    "    prototypes = []\n",
    "    for label, prots in label_to_prot.items():\n",
    "        prototypes += prots[:qtt]\n",
    "    opf = OptimumPathForestClassifier('euclidean-distance')\n",
    "    opf.fit(X, y, prototypes)\n",
    "    preds = opf.classify(X_test)\n",
    "    print(qtt, error(preds, y_test))"
   ]
  },
  {
   "cell_type": "markdown",
   "id": "B5McSsA_zA0V",
   "metadata": {
    "id": "B5McSsA_zA0V"
   },
   "source": [
    "#### Random sample"
   ]
  },
  {
   "cell_type": "code",
   "execution_count": 27,
   "id": "JMBUfTqS565H",
   "metadata": {
    "colab": {
     "base_uri": "https://localhost:8080/"
    },
    "executionInfo": {
     "elapsed": 95830,
     "status": "ok",
     "timestamp": 1663952975581,
     "user": {
      "displayName": "Andre Luis Mendes Fakhoury",
      "userId": "11987406164407738979"
     },
     "user_tz": 180
    },
    "id": "JMBUfTqS565H",
    "outputId": "95a40b0a-8e74-4bbd-8cf5-f561aefae5ca"
   },
   "outputs": [
    {
     "name": "stdout",
     "output_type": "stream",
     "text": [
      "0.2 0.5755208333333334\n",
      "0.3 0.575\n",
      "0.4 0.5270833333333333\n",
      "0.5 0.4984375\n",
      "0.6 0.48489583333333336\n",
      "0.7 0.43697916666666664\n",
      "0.8 0.42291666666666666\n",
      "0.9 0.38046875\n",
      "1.0 0.35546875\n"
     ]
    }
   ],
   "source": [
    "for perc in [0.2, 0.3, 0.4, 0.5, 0.6, 0.7, 0.8, 0.9, 1.0]:\n",
    "    prototypes = []\n",
    "    for label, prots in label_to_prot.items():\n",
    "        prototypes += list(np.random.choice(prots, int(perc*len(prots)), replace=False))\n",
    "    opf = OptimumPathForestClassifier('euclidean-distance')\n",
    "    opf.fit(X, y, prototypes)\n",
    "    preds = opf.classify(X_test)\n",
    "    print(perc, error(preds, y_test))"
   ]
  },
  {
   "cell_type": "code",
   "execution_count": 28,
   "id": "hIvRl2STy8Je",
   "metadata": {
    "colab": {
     "base_uri": "https://localhost:8080/"
    },
    "executionInfo": {
     "elapsed": 32306,
     "status": "ok",
     "timestamp": 1663953007877,
     "user": {
      "displayName": "Andre Luis Mendes Fakhoury",
      "userId": "11987406164407738979"
     },
     "user_tz": 180
    },
    "id": "hIvRl2STy8Je",
    "outputId": "fa09c479-6f7e-4694-a0f3-bb4c95c03767"
   },
   "outputs": [
    {
     "name": "stdout",
     "output_type": "stream",
     "text": [
      "37 0.55859375\n",
      "55 0.5578125\n",
      "74 0.525\n"
     ]
    }
   ],
   "source": [
    "min_qtt = min([len(prots) for l, prots in label_to_prot.items()])\n",
    "for qtt in [int(0.5 * min_qtt), int(0.75 * min_qtt), min_qtt]:\n",
    "    prototypes = []\n",
    "    for label, prots in label_to_prot.items():\n",
    "        prototypes += list(np.random.choice(prots, qtt, replace=False))\n",
    "    opf = OptimumPathForestClassifier('euclidean-distance')\n",
    "    opf.fit(X, y, prototypes)\n",
    "    preds = opf.classify(X_test)\n",
    "    print(qtt, error(preds, y_test))"
   ]
  },
  {
   "cell_type": "markdown",
   "id": "yknqzxz46fFo",
   "metadata": {
    "id": "yknqzxz46fFo"
   },
   "source": [
    "#### Random prototypes"
   ]
  },
  {
   "cell_type": "code",
   "execution_count": 29,
   "id": "PKlJfS6J6hN2",
   "metadata": {
    "colab": {
     "base_uri": "https://localhost:8080/"
    },
    "executionInfo": {
     "elapsed": 64862,
     "status": "ok",
     "timestamp": 1663953072735,
     "user": {
      "displayName": "Andre Luis Mendes Fakhoury",
      "userId": "11987406164407738979"
     },
     "user_tz": 180
    },
    "id": "PKlJfS6J6hN2",
    "outputId": "840fd5d8-a70a-45f4-e09b-a3558c6de076"
   },
   "outputs": [
    {
     "name": "stdout",
     "output_type": "stream",
     "text": [
      "50 0.5635416666666667\n",
      "100 0.5377604166666666\n",
      "150 0.4734375\n",
      "200 0.45390625\n",
      "300 0.41067708333333336\n",
      "400 0.3765625\n"
     ]
    }
   ],
   "source": [
    "for qtt in [50, 100, 150, 200, 300, 400]:\n",
    "    prototypes = list(np.random.choice(range(0, len(y)), qtt, replace=False))\n",
    "    opf = OptimumPathForestClassifier('euclidean-distance')\n",
    "    opf.fit(X, y, prototypes)\n",
    "    preds = opf.classify(X_test)\n",
    "    print(qtt, error(preds, y_test))"
   ]
  },
  {
   "cell_type": "markdown",
   "id": "eOzXL4Np99Bz",
   "metadata": {
    "id": "eOzXL4Np99Bz"
   },
   "source": [
    "Hence, with those simple-logic implementations, we cannot affirm that less prototypes give us better accuracy."
   ]
  },
  {
   "cell_type": "markdown",
   "id": "1Y8xHtzD_2-I",
   "metadata": {
    "id": "1Y8xHtzD_2-I"
   },
   "source": [
    "### Vertex used to classify"
   ]
  },
  {
   "cell_type": "code",
   "execution_count": 30,
   "id": "Es2eBllW_6Du",
   "metadata": {
    "executionInfo": {
     "elapsed": 13015,
     "status": "ok",
     "timestamp": 1663953085744,
     "user": {
      "displayName": "Andre Luis Mendes Fakhoury",
      "userId": "11987406164407738979"
     },
     "user_tz": 180
    },
    "id": "Es2eBllW_6Du"
   },
   "outputs": [],
   "source": [
    "X = np.array(X)\n",
    "y = np.array(y)\n",
    "X_test = np.array(X_test)\n",
    "y = np.array(y)\n",
    "\n",
    "opf = OptimumPathForestClassifier('euclidean-distance')\n",
    "opf.fit(X, y)\n",
    "preds = opf.classify(X_test)\n",
    "\n",
    "# we'll try to analyse the results of 1-NN ED and compare it with OPF\n",
    "def euclidean_distance_classification(X, y, x_test):\n",
    "    x_chosen = 0\n",
    "    best_dist = np.linalg.norm(X[0] - x_test)\n",
    "    for idx, x in enumerate(X):\n",
    "        cur_dist = np.linalg.norm(X[idx] - x_test)\n",
    "        if best_dist > cur_dist:\n",
    "            best_dist = cur_dist\n",
    "            x_chosen = idx\n",
    "    return y[x_chosen], x_chosen\n",
    "\n",
    "def opf_classification(opf, x_test):\n",
    "    best_index, best_cost = opf.ordered_nodes[0]\n",
    "    best_cost = max(best_cost, opf.F(opf.X[best_index], x_test))\n",
    "    best_label = opf.label[best_index]\n",
    "    \n",
    "    for i in range(1, len(opf.X)):\n",
    "        cur_index, cur_cost = opf.ordered_nodes[i]\n",
    "        if cur_cost > best_cost:\n",
    "            break\n",
    "        cur_cost = max(cur_cost, opf.F(opf.X[cur_index], x_test))\n",
    "        cur_label = opf.label[cur_index]\n",
    "        if cur_cost < best_cost:\n",
    "            best_index, best_cost, best_label = cur_index, cur_cost, cur_label\n",
    "    return best_label, best_index"
   ]
  },
  {
   "cell_type": "code",
   "execution_count": 31,
   "id": "iaJRsHtpAL7e",
   "metadata": {
    "executionInfo": {
     "elapsed": 22277,
     "status": "ok",
     "timestamp": 1663953108006,
     "user": {
      "displayName": "Andre Luis Mendes Fakhoury",
      "userId": "11987406164407738979"
     },
     "user_tz": 180
    },
    "id": "iaJRsHtpAL7e"
   },
   "outputs": [],
   "source": [
    "ed_preds = []\n",
    "ed_idxs = []\n",
    "opf_preds = []\n",
    "opf_idxs = []\n",
    "equal = 0\n",
    "equal_but_diff = 0\n",
    "\n",
    "for idx, x_test in enumerate(X_test):\n",
    "    ed_label, ed_idx = euclidean_distance_classification(X, y, x_test)\n",
    "    opf_label, opf_idx = opf_classification(opf, x_test)\n",
    "    equal_but_diff += 1 if ed_idx == opf_idx and ed_label != opf_label else 0\n",
    "    equal += 1 if ed_idx == opf_idx else 0\n",
    "    ed_preds.append(ed_label)\n",
    "    opf_preds.append(opf_label)\n",
    "    ed_idxs.append(ed_idx)\n",
    "    opf_idxs.append(opf_idx)"
   ]
  },
  {
   "cell_type": "code",
   "execution_count": 32,
   "id": "1P87uHsoCM3n",
   "metadata": {
    "executionInfo": {
     "elapsed": 15,
     "status": "ok",
     "timestamp": 1663953108008,
     "user": {
      "displayName": "Andre Luis Mendes Fakhoury",
      "userId": "11987406164407738979"
     },
     "user_tz": 180
    },
    "id": "1P87uHsoCM3n"
   },
   "outputs": [],
   "source": [
    "f_ed = np.zeros((3, 3))\n",
    "for i in range(len(preds)):\n",
    "    f_ed[y_test[i]-1][ed_preds[i]-1] += 1\n",
    "for i in range(3):\n",
    "    f_ed[i] /= f_ed[i].sum()"
   ]
  },
  {
   "cell_type": "code",
   "execution_count": 33,
   "id": "a3YvSZIDDoTz",
   "metadata": {
    "executionInfo": {
     "elapsed": 14,
     "status": "ok",
     "timestamp": 1663953108009,
     "user": {
      "displayName": "Andre Luis Mendes Fakhoury",
      "userId": "11987406164407738979"
     },
     "user_tz": 180
    },
    "id": "a3YvSZIDDoTz"
   },
   "outputs": [],
   "source": [
    "f_opf = np.zeros((3, 3))\n",
    "for i in range(len(preds)):\n",
    "    f_opf[y_test[i]-1][opf_preds[i]-1] += 1\n",
    "for i in range(3):\n",
    "    f_opf[i] /= f_opf[i].sum()"
   ]
  },
  {
   "cell_type": "code",
   "execution_count": 34,
   "id": "WvFtFHZQGKHR",
   "metadata": {
    "colab": {
     "base_uri": "https://localhost:8080/",
     "height": 338
    },
    "executionInfo": {
     "elapsed": 624,
     "status": "ok",
     "timestamp": 1663953108620,
     "user": {
      "displayName": "Andre Luis Mendes Fakhoury",
      "userId": "11987406164407738979"
     },
     "user_tz": 180
    },
    "id": "WvFtFHZQGKHR",
    "outputId": "54d412a2-f0eb-402b-870e-4f6072d9fe13"
   },
   "outputs": [
    {
     "data": {
      "text/plain": [
       "<matplotlib.axes._subplots.AxesSubplot at 0x7f9f383adf50>"
      ]
     },
     "execution_count": 34,
     "metadata": {},
     "output_type": "execute_result"
    },
    {
     "data": {
      "image/png": "[encoded data removed]",
      "text/plain": [
       "<Figure size 720x360 with 4 Axes>"
      ]
     },
     "metadata": {
      "needs_background": "light"
     },
     "output_type": "display_data"
    }
   ],
   "source": [
    "# plot the heatmap\n",
    "fig, axes = plt.subplots(1, 2, figsize=(10,5))\n",
    "sns.heatmap(f_ed, ax=axes[0], annot=True, xticklabels=[1, 2, 3], yticklabels=[1, 2, 3])\n",
    "sns.heatmap(f_opf, ax=axes[1], annot=True, xticklabels=[1, 2, 3], yticklabels=[1, 2, 3])"
   ]
  },
  {
   "cell_type": "code",
   "execution_count": 35,
   "id": "KfKowNtnDp5b",
   "metadata": {
    "colab": {
     "base_uri": "https://localhost:8080/"
    },
    "executionInfo": {
     "elapsed": 21,
     "status": "ok",
     "timestamp": 1663953108621,
     "user": {
      "displayName": "Andre Luis Mendes Fakhoury",
      "userId": "11987406164407738979"
     },
     "user_tz": 180
    },
    "id": "KfKowNtnDp5b",
    "outputId": "176097a7-c306-4f22-91fe-1925a5289055"
   },
   "outputs": [
    {
     "data": {
      "text/plain": [
       "(0.35, 0.35546875)"
      ]
     },
     "execution_count": 35,
     "metadata": {},
     "output_type": "execute_result"
    }
   ],
   "source": [
    "error(ed_preds, y_test), error(opf_preds, y_test)"
   ]
  }
 ],
 "metadata": {
  "colab": {
   "collapsed_sections": [],
   "provenance": [],
   "toc_visible": true
  },
  "kernelspec": {
   "display_name": "Python 3 (ipykernel)",
   "language": "python",
   "name": "python3"
  },
  "language_info": {
   "codemirror_mode": {
    "name": "ipython",
    "version": 3
   },
   "file_extension": ".py",
   "mimetype": "text/x-python",
   "name": "python",
   "nbconvert_exporter": "python",
   "pygments_lexer": "ipython3",
   "version": "3.8.10"
  }
 },
 "nbformat": 4,
 "nbformat_minor": 5
}
