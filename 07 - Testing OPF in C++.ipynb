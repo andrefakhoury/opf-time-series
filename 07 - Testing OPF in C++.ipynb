{
 "cells": [
  {
   "cell_type": "code",
   "execution_count": 2,
   "id": "72b26fc2",
   "metadata": {},
   "outputs": [],
   "source": [
    "import pandas as pd\n",
    "import numpy as np\n",
    "import numpy as np\n",
    "from collections import defaultdict\n",
    "from dtaidistance import dtw\n",
    "from src.utils import error, read_df\n",
    "from operator import itemgetter\n",
    "import sys\n",
    "from time import time\n",
    "import heapq\n",
    "from src.OPFInterface import OPFClassifier"
   ]
  },
  {
   "cell_type": "code",
   "execution_count": 3,
   "id": "584590da",
   "metadata": {},
   "outputs": [
    {
     "name": "stdout",
     "output_type": "stream",
     "text": [
      "WordSynonyms (0.04s):\n",
      ">> OPF error: 0.387\n",
      ">> ED (w=0) error: 0.382\n",
      "\n",
      "ChlorineConcentration (0.16s):\n",
      ">> OPF error: 0.355\n",
      ">> ED (w=0) error: 0.350\n",
      "\n",
      "ShapesAll (0.21s):\n",
      ">> OPF error: 0.252\n",
      ">> ED (w=0) error: 0.248\n",
      "\n",
      "EthanolLevel (0.49s):\n",
      ">> OPF error: 0.726\n",
      ">> ED (w=0) error: 0.726\n",
      "\n",
      "FordA (6.81s):\n",
      ">> OPF error: 0.341\n",
      ">> ED (w=0) error: 0.335\n",
      "\n"
     ]
    }
   ],
   "source": [
    "df_names = ['WordSynonyms', 'ChlorineConcentration', 'ShapesAll', 'EthanolLevel', 'FordA']\n",
    "for df_name in df_names:\n",
    "    X, y, X_test, y_test, df_errors = read_df(df_name)\n",
    "    \n",
    "    start_time = time()\n",
    "    opf = OPFClassifier('euclidean-distance')\n",
    "    opf.fit(X, y)\n",
    "    preds = opf.classify(X_test)\n",
    "    print(\"%s (%.2fs):\" % (df_name, time() - start_time))\n",
    "    print(\">> OPF error: %.3f\" % error(preds, y_test))\n",
    "    print(\">> ED (w=0) error: %.3f\" % df_errors[\"ED\"])\n",
    "    print()"
   ]
  },
  {
   "cell_type": "code",
   "execution_count": null,
   "id": "6fa0cc0b",
   "metadata": {},
   "outputs": [
    {
     "name": "stdout",
     "output_type": "stream",
     "text": [
      "WordSynonyms (22.56s):\n",
      ">> OPF error: 0.331\n",
      ">> DTW (w=100) error: 0.351\n",
      "\n",
      "ChlorineConcentration (64.47s):\n",
      ">> OPF error: 0.360\n",
      ">> DTW (w=100) error: 0.352\n",
      "\n"
     ]
    }
   ],
   "source": [
    "df_names = ['WordSynonyms', 'ChlorineConcentration', 'ShapesAll', 'EthanolLevel', 'FordA']\n",
    "for df_name in df_names:\n",
    "    X, y, X_test, y_test, df_errors = read_df(df_name)\n",
    "    \n",
    "    start_time = time()\n",
    "    opf = OPFClassifier('dtw-distance')\n",
    "    opf.fit(X, y)\n",
    "    preds = opf.classify(X_test)\n",
    "    print(\"%s (%.2fs):\" % (df_name, time() - start_time))\n",
    "    print(\">> OPF error: %.3f\" % error(preds, y_test))\n",
    "    print(\">> DTW (w=100) error: %.3f\" % df_errors[\"DTW_W100\"])\n",
    "    print()"
   ]
  },
  {
   "cell_type": "code",
   "execution_count": null,
   "id": "1d2c5341",
   "metadata": {},
   "outputs": [],
   "source": []
  }
 ],
 "metadata": {
  "kernelspec": {
   "display_name": "Python 3 (ipykernel)",
   "language": "python",
   "name": "python3"
  },
  "language_info": {
   "codemirror_mode": {
    "name": "ipython",
    "version": 3
   },
   "file_extension": ".py",
   "mimetype": "text/x-python",
   "name": "python",
   "nbconvert_exporter": "python",
   "pygments_lexer": "ipython3",
   "version": "3.8.10"
  },
  "vscode": {
   "interpreter": {
    "hash": "83ecd3fc6cc92009657adecd157b6521a55ff669669492e633028c095ba52787"
   }
  }
 },
 "nbformat": 4,
 "nbformat_minor": 5
}
