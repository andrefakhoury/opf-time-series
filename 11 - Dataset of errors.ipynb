{
 "cells": [
  {
   "cell_type": "code",
   "execution_count": null,
   "id": "fb1c7967",
   "metadata": {},
   "outputs": [],
   "source": [
    "from src.OPFInterface import OPFClassifier # cpp\n",
    "from src.py_opf import OptimumPathForestClassifier # py\n",
    "from functools import cmp_to_key\n",
    "import pandas as pd\n",
    "import numpy as np\n",
    "from os import listdir\n",
    "from src.utils import error, read_df, euclidean_distance_classify, dtw_distance_classify\n",
    "from tqdm import tqdm\n",
    "from time import time\n",
    "# plot\n",
    "import matplotlib.pyplot as plt\n",
    "from sklearn.manifold import MDS"
   ]
  },
  {
   "cell_type": "code",
   "execution_count": null,
   "id": "18a27036",
   "metadata": {},
   "outputs": [],
   "source": [
    "df_names = listdir('data/UCRArchive_2018')\n",
    "\n",
    "df = {}"
   ]
  },
  {
   "cell_type": "code",
   "execution_count": null,
   "id": "de0e71cf",
   "metadata": {},
   "outputs": [],
   "source": [
    "df['name'] = {i: v for i, v in enumerate(df_names)}"
   ]
  },
  {
   "cell_type": "code",
   "execution_count": null,
   "id": "db6a9c98",
   "metadata": {},
   "outputs": [],
   "source": [
    "df['1NN-ED'] = np.array([read_df(df_name)[4]['ED'] for df_name in df_names])"
   ]
  },
  {
   "cell_type": "code",
   "execution_count": null,
   "id": "23442190",
   "metadata": {},
   "outputs": [],
   "source": [
    "df['1NN-DTW'] = []\n",
    "for df_name in tqdm(df_names):\n",
    "    X, y, X_test, y_test, df_errors = read_df(df_name)\n",
    "    df['1NN-DTW'].append(error(dtw_distance_classify(X, y, X_test), y_test))\n",
    "df['1NN-DTW'] = np.array(df['1NN-DTW'])"
   ]
  },
  {
   "cell_type": "code",
   "execution_count": null,
   "id": "066d0ba1",
   "metadata": {},
   "outputs": [],
   "source": [
    "df['OPF-ED'] = []\n",
    "for df_name in tqdm(df_names):\n",
    "    X, y, X_test, y_test, df_errors = read_df(df_name)\n",
    "    opf = OPFClassifier('euclidean-distance')\n",
    "    opf.fit(X, y)\n",
    "    preds = opf.classify(X_test)\n",
    "    df['OPF-ED'].append(error(preds, y_test))\n",
    "df['OPF-ED'] = np.array(df['OPF-ED'])"
   ]
  },
  {
   "cell_type": "code",
   "execution_count": null,
   "id": "5752c5e3",
   "metadata": {},
   "outputs": [],
   "source": [
    "df['OPF-DTW'] = []\n",
    "for df_name in tqdm(df_names):\n",
    "    X, y, X_test, y_test, df_errors = read_df(df_name)\n",
    "    opf = OptimumPathForestClassifier('dtw-distance')\n",
    "    opf.fit(X, y)\n",
    "    preds = opf.classify(X_test)\n",
    "    df['OPF-DTW'].append(error(preds, y_test))\n",
    "df['OPF-DTW'] = np.array(df['OPF-DTW'])"
   ]
  },
  {
   "cell_type": "code",
   "execution_count": null,
   "id": "6ac98090",
   "metadata": {},
   "outputs": [],
   "source": [
    "df = pd.DataFrame(df)\n",
    "df.to_csv('all_errors.csv', index=False)"
   ]
  },
  {
   "cell_type": "markdown",
   "id": "f5e3fe41",
   "metadata": {},
   "source": [
    "## Add times"
   ]
  },
  {
   "cell_type": "code",
   "execution_count": null,
   "id": "38fa5dd4",
   "metadata": {},
   "outputs": [],
   "source": [
    "ITERATIONS = 10 # amount of iterations to get runtime\n",
    "df = {}\n",
    "\n",
    "df_names = ['WordSynonyms', 'SemgHandSubjectCh2', 'PLAID', 'MelbournePedestrian', 'ChlorineConcentration', 'ShapesAll']"
   ]
  },
  {
   "cell_type": "code",
   "execution_count": null,
   "id": "620b67df",
   "metadata": {},
   "outputs": [],
   "source": [
    "df['name'] = {i: v for i, v in enumerate(df_names)}"
   ]
  },
  {
   "cell_type": "code",
   "execution_count": null,
   "id": "24d97213",
   "metadata": {},
   "outputs": [],
   "source": [
    "df['OPF-ED-fast-time-mean'] = []\n",
    "df['OPF-ED-fast-time-std'] = []\n",
    "for it in range(ITERATIONS):\n",
    "    df[f'OPF-ED-fast-time-it{it}'] = []\n",
    "\n",
    "for df_name in tqdm(df_names):\n",
    "    X, y, X_test, y_test, df_errors = read_df(df_name)\n",
    "    \n",
    "    runtimes = []\n",
    "    for it in range(ITERATIONS):\n",
    "        start_time = time()\n",
    "        \n",
    "        opf = OPFClassifier('euclidean-distance')\n",
    "        opf.fit(X, y)\n",
    "        preds = opf.classify(X_test)\n",
    "        runtime = time() - start_time\n",
    "        \n",
    "        runtimes.append(runtime)\n",
    "        df[f'OPF-ED-fast-time-it{it}'].append(runtime)\n",
    "    \n",
    "    df['OPF-ED-fast-time-mean'].append(np.mean(runtimes))\n",
    "    df['OPF-ED-fast-time-std'].append(np.std(runtimes))\n",
    "\n",
    "df['OPF-ED-fast-time-mean'] = {i: v for i, v in enumerate(df['OPF-ED-fast-time-mean'])}\n",
    "df['OPF-ED-fast-time-std'] = {i: v for i, v in enumerate(df['OPF-ED-fast-time-std'])}\n",
    "for it in range(ITERATIONS):\n",
    "    df[f'OPF-ED-fast-time-it{it}'] = {i: v for i, v in enumerate(df[f'OPF-ED-fast-time-it{it}'])}"
   ]
  },
  {
   "cell_type": "code",
   "execution_count": null,
   "id": "577b2758",
   "metadata": {},
   "outputs": [],
   "source": [
    "df['OPF-ED-slow-time-mean'] = []\n",
    "df['OPF-ED-slow-time-std'] = []\n",
    "for it in range(ITERATIONS):\n",
    "    df[f'OPF-ED-slow-time-it{it}'] = []\n",
    "\n",
    "for df_name in tqdm(df_names):\n",
    "    X, y, X_test, y_test, df_errors = read_df(df_name)\n",
    "    \n",
    "    runtimes = []\n",
    "    for it in range(ITERATIONS):\n",
    "        start_time = time()\n",
    "        \n",
    "        opf = OptimumPathForestClassifier('euclidean-distance')\n",
    "        opf.fit(X, y)\n",
    "        preds = opf.classify(X_test)\n",
    "        runtime = time() - start_time\n",
    "        \n",
    "        runtimes.append(runtime)\n",
    "        df[f'OPF-ED-slow-time-it{it}'].append(runtime)\n",
    "    \n",
    "    df['OPF-ED-slow-time-mean'].append(np.mean(runtimes))\n",
    "    df['OPF-ED-slow-time-std'].append(np.std(runtimes))\n",
    "\n",
    "df['OPF-ED-slow-time-mean'] = {i: v for i, v in enumerate(df['OPF-ED-slow-time-mean'])}\n",
    "df['OPF-ED-slow-time-std'] = {i: v for i, v in enumerate(df['OPF-ED-slow-time-std'])}\n",
    "for it in range(ITERATIONS):\n",
    "    df[f'OPF-ED-slow-time-it{it}'] = {i: v for i, v in enumerate(df[f'OPF-ED-slow-time-it{it}'])}"
   ]
  },
  {
   "cell_type": "code",
   "execution_count": null,
   "id": "61e27966",
   "metadata": {},
   "outputs": [],
   "source": [
    "df['OPF-DTW-slow-time-mean'] = []\n",
    "df['OPF-DTW-slow-time-std'] = []\n",
    "for it in range(ITERATIONS):\n",
    "    df[f'OPF-DTW-slow-time-it{it}'] = []\n",
    "\n",
    "for df_name in tqdm(df_names):\n",
    "    X, y, X_test, y_test, df_errors = read_df(df_name)\n",
    "    \n",
    "    runtimes = []\n",
    "    for it in range(ITERATIONS):\n",
    "        start_time = time()\n",
    "        \n",
    "        opf = OptimumPathForestClassifier('dtw-slow')\n",
    "        opf.fit(X, y)\n",
    "        preds = opf.classify(X_test)\n",
    "        runtime = time() - start_time\n",
    "        \n",
    "        runtimes.append(runtime)\n",
    "        df[f'OPF-DTW-slow-time-it{it}'].append(runtime)\n",
    "    \n",
    "    df['OPF-DTW-slow-time-mean'].append(np.mean(runtimes))\n",
    "    df['OPF-DTW-slow-time-std'].append(np.std(runtimes))\n",
    "\n",
    "df['OPF-DTW-slow-time-mean'] = {i: v for i, v in enumerate(df['OPF-DTW-slow-time-mean'])}\n",
    "df['OPF-DTW-slow-time-std'] = {i: v for i, v in enumerate(df['OPF-DTW-slow-time-std'])}\n",
    "for it in range(ITERATIONS):\n",
    "    df[f'OPF-DTW-slow-time-it{it}'] = {i: v for i, v in enumerate(df[f'OPF-DTW-slow-time-it{it}'])}"
   ]
  },
  {
   "cell_type": "code",
   "execution_count": null,
   "id": "d8930e94",
   "metadata": {},
   "outputs": [],
   "source": [
    "df['OPF-DTW-fast-time-mean'] = []\n",
    "df['OPF-DTW-fast-time-std'] = []\n",
    "for it in range(ITERATIONS):\n",
    "    df[f'OPF-DTW-fast-time-it{it}'] = []\n",
    "\n",
    "for df_name in tqdm(df_names):\n",
    "    X, y, X_test, y_test, df_errors = read_df(df_name)\n",
    "    \n",
    "    runtimes = []\n",
    "    for it in tqdm(range(ITERATIONS)):\n",
    "        start_time = time()\n",
    "        \n",
    "        opf = OPFClassifier('dtw-distance')\n",
    "        opf.fit(X, y)\n",
    "        preds = opf.classify(X_test)\n",
    "        runtime = time() - start_time\n",
    "        \n",
    "        runtimes.append(runtime)\n",
    "        df[f'OPF-DTW-fast-time-it{it}'].append(runtime)\n",
    "    \n",
    "    df['OPF-DTW-fast-time-mean'].append(np.mean(runtimes))\n",
    "    df['OPF-DTW-fast-time-std'].append(np.std(runtimes))\n",
    "\n",
    "df['OPF-DTW-fast-time-mean'] = {i: v for i, v in enumerate(df['OPF-DTW-fast-time-mean'])}\n",
    "df['OPF-DTW-fast-time-std'] = {i: v for i, v in enumerate(df['OPF-DTW-fast-time-std'])}\n",
    "for it in range(ITERATIONS):\n",
    "    df[f'OPF-DTW-fast-time-it{it}'] = {i: v for i, v in enumerate(df[f'OPF-DTW-fast-time-it{it}'])}"
   ]
  },
  {
   "cell_type": "code",
   "execution_count": null,
   "id": "7c6d1ce6",
   "metadata": {},
   "outputs": [],
   "source": [
    "df = pd.DataFrame(df)\n",
    "df.to_csv('less_errors_with_times.csv', index=False)"
   ]
  }
 ],
 "metadata": {
  "kernelspec": {
   "display_name": "Python 3 (ipykernel)",
   "language": "python",
   "name": "python3"
  },
  "language_info": {
   "codemirror_mode": {
    "name": "ipython",
    "version": 3
   },
   "file_extension": ".py",
   "mimetype": "text/x-python",
   "name": "python",
   "nbconvert_exporter": "python",
   "pygments_lexer": "ipython3",
   "version": "3.8.10"
  }
 },
 "nbformat": 4,
 "nbformat_minor": 5
}
